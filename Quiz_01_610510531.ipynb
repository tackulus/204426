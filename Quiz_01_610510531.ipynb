{
  "nbformat": 4,
  "nbformat_minor": 0,
  "metadata": {
    "colab": {
      "name": "Quiz_01_610510531.ipynb",
      "provenance": [],
      "collapsed_sections": [],
      "authorship_tag": "ABX9TyM5pSnJsYBJwSc7QUG/DlAH",
      "include_colab_link": true
    },
    "kernelspec": {
      "name": "python3",
      "display_name": "Python 3"
    },
    "language_info": {
      "name": "python"
    }
  },
  "cells": [
    {
      "cell_type": "markdown",
      "metadata": {
        "id": "view-in-github",
        "colab_type": "text"
      },
      "source": [
        "<a href=\"https://colab.research.google.com/github/tackulus/204426/blob/main/Quiz_01_610510531.ipynb\" target=\"_parent\"><img src=\"https://colab.research.google.com/assets/colab-badge.svg\" alt=\"Open In Colab\"/></a>"
      ]
    },
    {
      "cell_type": "markdown",
      "metadata": {
        "id": "UEiZw6Bp8thv"
      },
      "source": [
        "# ข้อสอบส่วนปฏิบัติการ (5 คะแนน)\n",
        "**ให้นักศึกษาเขียนโปรแกรมภาษาไพทอน โดยนำไฟล์ชุดข้อมูลทั้ง 2 ชุด ที่แนบมาด้วยนี้ ไปใช้ในการทำข้อสอบปฏิบัติการต่อไปนี้**\n"
      ]
    },
    {
      "cell_type": "code",
      "metadata": {
        "id": "qWKuCj3S3C0k"
      },
      "source": [
        "import numpy as np\n",
        "import pandas as pd\n",
        "\n",
        "customer = pd.read_csv('customer_data.csv')\n",
        "transaction = pd.read_csv('transaction_data.csv')\n",
        "transaction.replace(-999, np.nan, inplace=True)"
      ],
      "execution_count": null,
      "outputs": []
    },
    {
      "cell_type": "code",
      "metadata": {
        "colab": {
          "base_uri": "https://localhost:8080/",
          "height": 206
        },
        "id": "tDkPAgeV4XNE",
        "outputId": "0e603f0a-fedc-4faf-f3cf-2b2a298c0f53"
      },
      "source": [
        "customer.head()"
      ],
      "execution_count": null,
      "outputs": [
        {
          "output_type": "execute_result",
          "data": {
            "text/html": [
              "<div>\n",
              "<style scoped>\n",
              "    .dataframe tbody tr th:only-of-type {\n",
              "        vertical-align: middle;\n",
              "    }\n",
              "\n",
              "    .dataframe tbody tr th {\n",
              "        vertical-align: top;\n",
              "    }\n",
              "\n",
              "    .dataframe thead th {\n",
              "        text-align: right;\n",
              "    }\n",
              "</style>\n",
              "<table border=\"1\" class=\"dataframe\">\n",
              "  <thead>\n",
              "    <tr style=\"text-align: right;\">\n",
              "      <th></th>\n",
              "      <th>cust_id</th>\n",
              "      <th>age</th>\n",
              "      <th>wealth_segment</th>\n",
              "      <th>process_date</th>\n",
              "    </tr>\n",
              "  </thead>\n",
              "  <tbody>\n",
              "    <tr>\n",
              "      <th>0</th>\n",
              "      <td>e</td>\n",
              "      <td>44.0</td>\n",
              "      <td>&lt;NA&gt;</td>\n",
              "      <td>2020-01-05</td>\n",
              "    </tr>\n",
              "    <tr>\n",
              "      <th>1</th>\n",
              "      <td>m</td>\n",
              "      <td>30.0</td>\n",
              "      <td>medium</td>\n",
              "      <td>2020-01-05</td>\n",
              "    </tr>\n",
              "    <tr>\n",
              "      <th>2</th>\n",
              "      <td>n</td>\n",
              "      <td>29.0</td>\n",
              "      <td>poor</td>\n",
              "      <td>2020-01-05</td>\n",
              "    </tr>\n",
              "    <tr>\n",
              "      <th>3</th>\n",
              "      <td>s</td>\n",
              "      <td>64.0</td>\n",
              "      <td>rich</td>\n",
              "      <td>2020-01-05</td>\n",
              "    </tr>\n",
              "    <tr>\n",
              "      <th>4</th>\n",
              "      <td>v</td>\n",
              "      <td>NaN</td>\n",
              "      <td>medium</td>\n",
              "      <td>2020-01-05</td>\n",
              "    </tr>\n",
              "  </tbody>\n",
              "</table>\n",
              "</div>"
            ],
            "text/plain": [
              "  cust_id   age wealth_segment process_date\n",
              "0       e  44.0           <NA>   2020-01-05\n",
              "1       m  30.0         medium   2020-01-05\n",
              "2       n  29.0           poor   2020-01-05\n",
              "3       s  64.0           rich   2020-01-05\n",
              "4       v   NaN         medium   2020-01-05"
            ]
          },
          "metadata": {
            "tags": []
          },
          "execution_count": 77
        }
      ]
    },
    {
      "cell_type": "code",
      "metadata": {
        "colab": {
          "base_uri": "https://localhost:8080/"
        },
        "id": "jQdXc-U_4gi_",
        "outputId": "65e36025-2064-4d08-931a-d5bab3ea1a09"
      },
      "source": [
        "customer.info()"
      ],
      "execution_count": null,
      "outputs": [
        {
          "output_type": "stream",
          "text": [
            "<class 'pandas.core.frame.DataFrame'>\n",
            "RangeIndex: 10 entries, 0 to 9\n",
            "Data columns (total 4 columns):\n",
            " #   Column          Non-Null Count  Dtype         \n",
            "---  ------          --------------  -----         \n",
            " 0   cust_id         10 non-null     string        \n",
            " 1   age             9 non-null      float64       \n",
            " 2   wealth_segment  9 non-null      string        \n",
            " 3   process_date    10 non-null     datetime64[ns]\n",
            "dtypes: datetime64[ns](1), float64(1), string(2)\n",
            "memory usage: 448.0 bytes\n"
          ],
          "name": "stdout"
        }
      ]
    },
    {
      "cell_type": "code",
      "metadata": {
        "colab": {
          "base_uri": "https://localhost:8080/",
          "height": 206
        },
        "id": "tFvWEHWE6T9y",
        "outputId": "9c988cb4-e1ce-4977-f0e3-24ce9bb0837f"
      },
      "source": [
        "transaction.head()"
      ],
      "execution_count": null,
      "outputs": [
        {
          "output_type": "execute_result",
          "data": {
            "text/html": [
              "<div>\n",
              "<style scoped>\n",
              "    .dataframe tbody tr th:only-of-type {\n",
              "        vertical-align: middle;\n",
              "    }\n",
              "\n",
              "    .dataframe tbody tr th {\n",
              "        vertical-align: top;\n",
              "    }\n",
              "\n",
              "    .dataframe thead th {\n",
              "        text-align: right;\n",
              "    }\n",
              "</style>\n",
              "<table border=\"1\" class=\"dataframe\">\n",
              "  <thead>\n",
              "    <tr style=\"text-align: right;\">\n",
              "      <th></th>\n",
              "      <th>txn_id</th>\n",
              "      <th>cust_id</th>\n",
              "      <th>price</th>\n",
              "      <th>process_date</th>\n",
              "    </tr>\n",
              "  </thead>\n",
              "  <tbody>\n",
              "    <tr>\n",
              "      <th>0</th>\n",
              "      <td>1</td>\n",
              "      <td>v</td>\n",
              "      <td>89.0</td>\n",
              "      <td>2021-01-05</td>\n",
              "    </tr>\n",
              "    <tr>\n",
              "      <th>1</th>\n",
              "      <td>2</td>\n",
              "      <td>y</td>\n",
              "      <td>60.0</td>\n",
              "      <td>2021-01-05</td>\n",
              "    </tr>\n",
              "    <tr>\n",
              "      <th>2</th>\n",
              "      <td>3</td>\n",
              "      <td>m</td>\n",
              "      <td>55.0</td>\n",
              "      <td>2021-01-05</td>\n",
              "    </tr>\n",
              "    <tr>\n",
              "      <th>3</th>\n",
              "      <td>4</td>\n",
              "      <td>s</td>\n",
              "      <td>NaN</td>\n",
              "      <td>2021-01-05</td>\n",
              "    </tr>\n",
              "    <tr>\n",
              "      <th>4</th>\n",
              "      <td>5</td>\n",
              "      <td>z</td>\n",
              "      <td>50.0</td>\n",
              "      <td>2021-01-05</td>\n",
              "    </tr>\n",
              "  </tbody>\n",
              "</table>\n",
              "</div>"
            ],
            "text/plain": [
              "  txn_id cust_id  price process_date\n",
              "0      1       v   89.0   2021-01-05\n",
              "1      2       y   60.0   2021-01-05\n",
              "2      3       m   55.0   2021-01-05\n",
              "3      4       s    NaN   2021-01-05\n",
              "4      5       z   50.0   2021-01-05"
            ]
          },
          "metadata": {
            "tags": []
          },
          "execution_count": 62
        }
      ]
    },
    {
      "cell_type": "code",
      "metadata": {
        "colab": {
          "base_uri": "https://localhost:8080/"
        },
        "id": "75Y3xQCi6dQa",
        "outputId": "154ab47e-c50a-4b9d-aba9-5337b1182490"
      },
      "source": [
        "transaction.info()"
      ],
      "execution_count": null,
      "outputs": [
        {
          "output_type": "stream",
          "text": [
            "<class 'pandas.core.frame.DataFrame'>\n",
            "RangeIndex: 10 entries, 0 to 9\n",
            "Data columns (total 4 columns):\n",
            " #   Column        Non-Null Count  Dtype         \n",
            "---  ------        --------------  -----         \n",
            " 0   txn_id        10 non-null     string        \n",
            " 1   cust_id       10 non-null     string        \n",
            " 2   price         8 non-null      float64       \n",
            " 3   process_date  10 non-null     datetime64[ns]\n",
            "dtypes: datetime64[ns](1), float64(1), string(2)\n",
            "memory usage: 448.0 bytes\n"
          ],
          "name": "stdout"
        }
      ]
    },
    {
      "cell_type": "markdown",
      "metadata": {
        "id": "sxpljdGq82WV"
      },
      "source": [
        "> **1.\tจงทำการเปลี่ยนชนิดข้อมูลของตัวแปรในชุดข้อมูลทั้ง 2 ชุดข้อมูลให้เหมาะสม**"
      ]
    },
    {
      "cell_type": "code",
      "metadata": {
        "colab": {
          "base_uri": "https://localhost:8080/"
        },
        "id": "PL9eOX6y6e_K",
        "outputId": "aa309396-b7bb-49c3-ce9c-661fa2371dc1"
      },
      "source": [
        "types = {\n",
        "    \"cust_id\": \"string\",\n",
        "    \"wealth_segment\": \"string\",\n",
        "    \"process_date\": \"datetime64[ns]\"\n",
        "}\n",
        "\n",
        "customer = customer.astype(types)\n",
        "customer.info()"
      ],
      "execution_count": null,
      "outputs": [
        {
          "output_type": "stream",
          "text": [
            "<class 'pandas.core.frame.DataFrame'>\n",
            "RangeIndex: 10 entries, 0 to 9\n",
            "Data columns (total 4 columns):\n",
            " #   Column          Non-Null Count  Dtype         \n",
            "---  ------          --------------  -----         \n",
            " 0   cust_id         10 non-null     string        \n",
            " 1   age             9 non-null      float64       \n",
            " 2   wealth_segment  9 non-null      string        \n",
            " 3   process_date    10 non-null     datetime64[ns]\n",
            "dtypes: datetime64[ns](1), float64(1), string(2)\n",
            "memory usage: 448.0 bytes\n"
          ],
          "name": "stdout"
        }
      ]
    },
    {
      "cell_type": "code",
      "metadata": {
        "colab": {
          "base_uri": "https://localhost:8080/"
        },
        "id": "Nb3KtkWY-Gvu",
        "outputId": "8f15c04f-5eca-46b3-e723-69ed74164ff5"
      },
      "source": [
        "types = {\n",
        "    \"txn_id\": \"string\",\n",
        "    \"cust_id\": \"string\",\n",
        "    \"process_date\": \"datetime64[ns]\"\n",
        "}\n",
        "\n",
        "transaction = transaction.astype(types)\n",
        "transaction.info()"
      ],
      "execution_count": null,
      "outputs": [
        {
          "output_type": "stream",
          "text": [
            "<class 'pandas.core.frame.DataFrame'>\n",
            "RangeIndex: 10 entries, 0 to 9\n",
            "Data columns (total 4 columns):\n",
            " #   Column        Non-Null Count  Dtype         \n",
            "---  ------        --------------  -----         \n",
            " 0   txn_id        10 non-null     string        \n",
            " 1   cust_id       10 non-null     string        \n",
            " 2   price         8 non-null      float64       \n",
            " 3   process_date  10 non-null     datetime64[ns]\n",
            "dtypes: datetime64[ns](1), float64(1), string(2)\n",
            "memory usage: 448.0 bytes\n"
          ],
          "name": "stdout"
        }
      ]
    },
    {
      "cell_type": "markdown",
      "metadata": {
        "id": "BWIN7AAa_PiR"
      },
      "source": [
        "> **2.\tจงเขียนโปรแกรมเพื่อคำนวณค่าตัวชี้วัดคุณภาพของชุดข้อมูล (ตามที่ได้นิยามในข้อ 2 ในข้อสอบส่วนบรรยาย) ของทั้ง 2 ชุดข้อมูล**"
      ]
    },
    {
      "cell_type": "code",
      "metadata": {
        "id": "Qk4bB-xh-uwp"
      },
      "source": [
        "def completeness_ratio(df):\n",
        "    return 1 - df.isna().sum().sum() / (df.shape[0] * df.shape[1])\n",
        "\n",
        "def uniqueness_ratio(head):\n",
        "    return len(head.drop_duplicates()) / len(head)\n",
        "\n",
        "def age_consistency(age):\n",
        "    return (age >= 0).sum() / len(age)"
      ],
      "execution_count": null,
      "outputs": []
    },
    {
      "cell_type": "code",
      "metadata": {
        "colab": {
          "base_uri": "https://localhost:8080/"
        },
        "id": "6MjHOFDvAyGQ",
        "outputId": "246a8cb0-f6dc-4495-d53f-facc831762e2"
      },
      "source": [
        "completeness_ratio(customer)"
      ],
      "execution_count": null,
      "outputs": [
        {
          "output_type": "execute_result",
          "data": {
            "text/plain": [
              "0.95"
            ]
          },
          "metadata": {
            "tags": []
          },
          "execution_count": 46
        }
      ]
    },
    {
      "cell_type": "code",
      "metadata": {
        "colab": {
          "base_uri": "https://localhost:8080/"
        },
        "id": "AnwjcpvqA0Ts",
        "outputId": "4f673e99-81e0-4de4-9f7b-6eef9e1c61b0"
      },
      "source": [
        "completeness_ratio(transaction)"
      ],
      "execution_count": null,
      "outputs": [
        {
          "output_type": "execute_result",
          "data": {
            "text/plain": [
              "0.95"
            ]
          },
          "metadata": {
            "tags": []
          },
          "execution_count": 47
        }
      ]
    },
    {
      "cell_type": "code",
      "metadata": {
        "colab": {
          "base_uri": "https://localhost:8080/"
        },
        "id": "p3cP47YBBV3B",
        "outputId": "6e84bcfe-5edf-4b22-dd42-ec4e787ab043"
      },
      "source": [
        "uniqueness_ratio(customer[\"cust_id\"])"
      ],
      "execution_count": null,
      "outputs": [
        {
          "output_type": "execute_result",
          "data": {
            "text/plain": [
              "0.8"
            ]
          },
          "metadata": {
            "tags": []
          },
          "execution_count": 78
        }
      ]
    },
    {
      "cell_type": "code",
      "metadata": {
        "colab": {
          "base_uri": "https://localhost:8080/"
        },
        "id": "mMwvJRBxBYLU",
        "outputId": "bf131cd6-6eba-4733-f9e7-2065c717a70a"
      },
      "source": [
        "uniqueness_ratio(transaction[\"txn_id\"])"
      ],
      "execution_count": null,
      "outputs": [
        {
          "output_type": "execute_result",
          "data": {
            "text/plain": [
              "1.0"
            ]
          },
          "metadata": {
            "tags": []
          },
          "execution_count": 79
        }
      ]
    },
    {
      "cell_type": "code",
      "metadata": {
        "colab": {
          "base_uri": "https://localhost:8080/"
        },
        "id": "UkTZmNA_FWUF",
        "outputId": "ab193f49-8925-4165-c357-f0ebb195dfb2"
      },
      "source": [
        "age_consistency(customer.age)"
      ],
      "execution_count": null,
      "outputs": [
        {
          "output_type": "execute_result",
          "data": {
            "text/plain": [
              "0.8"
            ]
          },
          "metadata": {
            "tags": []
          },
          "execution_count": 60
        }
      ]
    },
    {
      "cell_type": "markdown",
      "metadata": {
        "id": "7CkYShamCCom"
      },
      "source": [
        "> **3.\tจงทำรวมชุดข้อมูล Customer Data และ Transaction Data เข้าด้วยกัน โดยใช้ชุดข้อมูล Transaction Data เป็นข้อมูลตั้งต้น  ทำการเพิ่มเติมข้อมูลลูกค้าจาก ชุดข้อมูล Customer Data ในชุดข้อมูล Transaction Data ให้สมบูรณ์แล้ว ตารางข้อมูลใหม่ที่ได้ต้องประกอบด้วยตัวแปร ต่อไปนี้**\n",
        "\n",
        "\n",
        "\n",
        ">> ```\n",
        "a.\ttxn_id\n",
        "b.\tcust_id\n",
        "c.\tprice\n",
        "d.\tprocess_date\n",
        "e.\tage\n",
        "f.\twealth_segment\n",
        "g.\tcustomer_update_date (มาจากตัวแปร process_date จากตารางข้อมูล Customer Data)\n",
        "```\n"
      ]
    },
    {
      "cell_type": "code",
      "metadata": {
        "colab": {
          "base_uri": "https://localhost:8080/",
          "height": 509
        },
        "id": "h8Y96LidGr-3",
        "outputId": "4804b686-5df7-44e9-b5a0-181e1b896f18"
      },
      "source": [
        "customer_rename = customer.rename(columns={\"process_date\": \"customer_update_date \"})\n",
        "new = transaction.merge(customer_rename, on=\"cust_id\", how=\"left\")\n",
        "new"
      ],
      "execution_count": null,
      "outputs": [
        {
          "output_type": "execute_result",
          "data": {
            "text/html": [
              "<div>\n",
              "<style scoped>\n",
              "    .dataframe tbody tr th:only-of-type {\n",
              "        vertical-align: middle;\n",
              "    }\n",
              "\n",
              "    .dataframe tbody tr th {\n",
              "        vertical-align: top;\n",
              "    }\n",
              "\n",
              "    .dataframe thead th {\n",
              "        text-align: right;\n",
              "    }\n",
              "</style>\n",
              "<table border=\"1\" class=\"dataframe\">\n",
              "  <thead>\n",
              "    <tr style=\"text-align: right;\">\n",
              "      <th></th>\n",
              "      <th>txn_id</th>\n",
              "      <th>cust_id</th>\n",
              "      <th>price</th>\n",
              "      <th>process_date</th>\n",
              "      <th>age</th>\n",
              "      <th>wealth_segment</th>\n",
              "      <th>customer_update_date</th>\n",
              "    </tr>\n",
              "  </thead>\n",
              "  <tbody>\n",
              "    <tr>\n",
              "      <th>0</th>\n",
              "      <td>1</td>\n",
              "      <td>v</td>\n",
              "      <td>89.0</td>\n",
              "      <td>2021-01-05</td>\n",
              "      <td>NaN</td>\n",
              "      <td>medium</td>\n",
              "      <td>2020-01-05</td>\n",
              "    </tr>\n",
              "    <tr>\n",
              "      <th>1</th>\n",
              "      <td>2</td>\n",
              "      <td>y</td>\n",
              "      <td>60.0</td>\n",
              "      <td>2021-01-05</td>\n",
              "      <td>41.0</td>\n",
              "      <td>rich</td>\n",
              "      <td>2020-01-05</td>\n",
              "    </tr>\n",
              "    <tr>\n",
              "      <th>2</th>\n",
              "      <td>3</td>\n",
              "      <td>m</td>\n",
              "      <td>55.0</td>\n",
              "      <td>2021-01-05</td>\n",
              "      <td>30.0</td>\n",
              "      <td>medium</td>\n",
              "      <td>2020-01-05</td>\n",
              "    </tr>\n",
              "    <tr>\n",
              "      <th>3</th>\n",
              "      <td>4</td>\n",
              "      <td>s</td>\n",
              "      <td>NaN</td>\n",
              "      <td>2021-01-05</td>\n",
              "      <td>64.0</td>\n",
              "      <td>rich</td>\n",
              "      <td>2020-01-05</td>\n",
              "    </tr>\n",
              "    <tr>\n",
              "      <th>4</th>\n",
              "      <td>4</td>\n",
              "      <td>s</td>\n",
              "      <td>NaN</td>\n",
              "      <td>2021-01-05</td>\n",
              "      <td>-12.0</td>\n",
              "      <td>rich</td>\n",
              "      <td>2020-01-05</td>\n",
              "    </tr>\n",
              "    <tr>\n",
              "      <th>5</th>\n",
              "      <td>5</td>\n",
              "      <td>z</td>\n",
              "      <td>50.0</td>\n",
              "      <td>2021-01-05</td>\n",
              "      <td>43.0</td>\n",
              "      <td>rich</td>\n",
              "      <td>2020-01-05</td>\n",
              "    </tr>\n",
              "    <tr>\n",
              "      <th>6</th>\n",
              "      <td>5</td>\n",
              "      <td>z</td>\n",
              "      <td>50.0</td>\n",
              "      <td>2021-01-05</td>\n",
              "      <td>54.0</td>\n",
              "      <td>rich</td>\n",
              "      <td>2021-01-05</td>\n",
              "    </tr>\n",
              "    <tr>\n",
              "      <th>7</th>\n",
              "      <td>6</td>\n",
              "      <td>s</td>\n",
              "      <td>41.0</td>\n",
              "      <td>2021-02-05</td>\n",
              "      <td>64.0</td>\n",
              "      <td>rich</td>\n",
              "      <td>2020-01-05</td>\n",
              "    </tr>\n",
              "    <tr>\n",
              "      <th>8</th>\n",
              "      <td>6</td>\n",
              "      <td>s</td>\n",
              "      <td>41.0</td>\n",
              "      <td>2021-02-05</td>\n",
              "      <td>-12.0</td>\n",
              "      <td>rich</td>\n",
              "      <td>2020-01-05</td>\n",
              "    </tr>\n",
              "    <tr>\n",
              "      <th>9</th>\n",
              "      <td>7</td>\n",
              "      <td>s</td>\n",
              "      <td>NaN</td>\n",
              "      <td>2021-05-15</td>\n",
              "      <td>64.0</td>\n",
              "      <td>rich</td>\n",
              "      <td>2020-01-05</td>\n",
              "    </tr>\n",
              "    <tr>\n",
              "      <th>10</th>\n",
              "      <td>7</td>\n",
              "      <td>s</td>\n",
              "      <td>NaN</td>\n",
              "      <td>2021-05-15</td>\n",
              "      <td>-12.0</td>\n",
              "      <td>rich</td>\n",
              "      <td>2020-01-05</td>\n",
              "    </tr>\n",
              "    <tr>\n",
              "      <th>11</th>\n",
              "      <td>8</td>\n",
              "      <td>e</td>\n",
              "      <td>23.0</td>\n",
              "      <td>2021-01-05</td>\n",
              "      <td>44.0</td>\n",
              "      <td>&lt;NA&gt;</td>\n",
              "      <td>2020-01-05</td>\n",
              "    </tr>\n",
              "    <tr>\n",
              "      <th>12</th>\n",
              "      <td>9</td>\n",
              "      <td>n</td>\n",
              "      <td>12.0</td>\n",
              "      <td>2021-01-05</td>\n",
              "      <td>29.0</td>\n",
              "      <td>poor</td>\n",
              "      <td>2020-01-05</td>\n",
              "    </tr>\n",
              "    <tr>\n",
              "      <th>13</th>\n",
              "      <td>10</td>\n",
              "      <td>x</td>\n",
              "      <td>87.0</td>\n",
              "      <td>2021-01-05</td>\n",
              "      <td>40.0</td>\n",
              "      <td>poor</td>\n",
              "      <td>2020-01-05</td>\n",
              "    </tr>\n",
              "  </tbody>\n",
              "</table>\n",
              "</div>"
            ],
            "text/plain": [
              "   txn_id cust_id  price  ...   age  wealth_segment customer_update_date \n",
              "0       1       v   89.0  ...   NaN          medium            2020-01-05\n",
              "1       2       y   60.0  ...  41.0            rich            2020-01-05\n",
              "2       3       m   55.0  ...  30.0          medium            2020-01-05\n",
              "3       4       s    NaN  ...  64.0            rich            2020-01-05\n",
              "4       4       s    NaN  ... -12.0            rich            2020-01-05\n",
              "5       5       z   50.0  ...  43.0            rich            2020-01-05\n",
              "6       5       z   50.0  ...  54.0            rich            2021-01-05\n",
              "7       6       s   41.0  ...  64.0            rich            2020-01-05\n",
              "8       6       s   41.0  ... -12.0            rich            2020-01-05\n",
              "9       7       s    NaN  ...  64.0            rich            2020-01-05\n",
              "10      7       s    NaN  ... -12.0            rich            2020-01-05\n",
              "11      8       e   23.0  ...  44.0            <NA>            2020-01-05\n",
              "12      9       n   12.0  ...  29.0            poor            2020-01-05\n",
              "13     10       x   87.0  ...  40.0            poor            2020-01-05\n",
              "\n",
              "[14 rows x 7 columns]"
            ]
          },
          "metadata": {
            "tags": []
          },
          "execution_count": 65
        }
      ]
    },
    {
      "cell_type": "markdown",
      "metadata": {
        "id": "_LXrkm0sD8RL"
      },
      "source": [
        "> **4.\tจงเขียนโปรแกรมเพื่อคำนวณค่าตัวชี้วัดคุณภาพ (ตามที่ได้นิยามในข้อ 2 ในข้อสอบส่วนบรรยาย) ของชุดข้อมูลของตารางข้อมูลใหม่ในข้อ 3**"
      ]
    },
    {
      "cell_type": "code",
      "metadata": {
        "colab": {
          "base_uri": "https://localhost:8080/"
        },
        "id": "pEE_ot4vDk7R",
        "outputId": "319688c2-9c81-4330-a1fa-63e93a5fbd8e"
      },
      "source": [
        "completeness_ratio(new)"
      ],
      "execution_count": null,
      "outputs": [
        {
          "output_type": "execute_result",
          "data": {
            "text/plain": [
              "0.9387755102040817"
            ]
          },
          "metadata": {
            "tags": []
          },
          "execution_count": 66
        }
      ]
    },
    {
      "cell_type": "code",
      "metadata": {
        "colab": {
          "base_uri": "https://localhost:8080/"
        },
        "id": "HCivKzgLIYub",
        "outputId": "342a97f7-4e11-4e4e-d8c3-395d214922d7"
      },
      "source": [
        "uniqueness_ratio(new[\"txn_id\"])"
      ],
      "execution_count": null,
      "outputs": [
        {
          "output_type": "execute_result",
          "data": {
            "text/plain": [
              "0.7142857142857143"
            ]
          },
          "metadata": {
            "tags": []
          },
          "execution_count": 80
        }
      ]
    },
    {
      "cell_type": "code",
      "metadata": {
        "colab": {
          "base_uri": "https://localhost:8080/"
        },
        "id": "4bZXbjGNIqmW",
        "outputId": "e6c17b25-de1e-4cd6-d34d-89afe78064d1"
      },
      "source": [
        "age_consistency(new.age)"
      ],
      "execution_count": null,
      "outputs": [
        {
          "output_type": "execute_result",
          "data": {
            "text/plain": [
              "0.7142857142857143"
            ]
          },
          "metadata": {
            "tags": []
          },
          "execution_count": 81
        }
      ]
    }
  ]
}