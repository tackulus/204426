{
  "nbformat": 4,
  "nbformat_minor": 5,
  "metadata": {
    "kernelspec": {
      "display_name": "Python 3",
      "language": "python",
      "name": "python3"
    },
    "language_info": {
      "codemirror_mode": {
        "name": "ipython",
        "version": 3
      },
      "file_extension": ".py",
      "mimetype": "text/x-python",
      "name": "python",
      "nbconvert_exporter": "python",
      "pygments_lexer": "ipython3",
      "version": "3.8.5"
    },
    "colab": {
      "name": "Lab_03_610510531.ipynb",
      "provenance": [],
      "collapsed_sections": [],
      "include_colab_link": true
    }
  },
  "cells": [
    {
      "cell_type": "markdown",
      "metadata": {
        "id": "view-in-github",
        "colab_type": "text"
      },
      "source": [
        "<a href=\"https://colab.research.google.com/github/tackulus/204426/blob/main/Lab_03_610510531.ipynb\" target=\"_parent\"><img src=\"https://colab.research.google.com/assets/colab-badge.svg\" alt=\"Open In Colab\"/></a>"
      ]
    },
    {
      "cell_type": "markdown",
      "metadata": {
        "id": "3UdodVPd8TXP"
      },
      "source": [
        "# **Workshop 3: Data Transformation**\n",
        "**คำสั่ง** \n",
        "\n",
        "1.   ศึกษาวิธีการแปลงข้อมูลเบื้องต้น สำหรับชุดข้อมูล scooter ต่อไปนี้\n",
        "2.   ทำการแปลงข้อมูล  ชุดข้อมูล scooter ต่อจากตัวอย่างให้อยู่ในรูปแบบที่สามารถนำไปวิเคราะห์ข้อมูลต่อได้มากที่สุด โดยให้นักศึกษาเขียนอธิบายเหตุผลของการเลือกรูปแบบ ชุดข้อมูล scooter ที่เป็นผลลัพธ์สุดท้าย\n",
        "3.   ตั้งชื่อไฟล์ python notebook นี้ในรูปแบบ Lab_03_XXXXXXXXX.ipynb โดย XXXXXXXXX คือ รหัสนักศึกษา\n",
        "4.   ทำการดาวน์โหลดและส่งไฟล์ Lab_03_XXXXXXXXX.ipynb ที่เว็บไซต์ http://hw.cs.science.cmu.ac.th "
      ],
      "id": "3UdodVPd8TXP"
    },
    {
      "cell_type": "code",
      "metadata": {
        "id": "mediterranean-cycling"
      },
      "source": [
        "import pandas as pd\n",
        "import numpy as np"
      ],
      "id": "mediterranean-cycling",
      "execution_count": null,
      "outputs": []
    },
    {
      "cell_type": "code",
      "metadata": {
        "id": "lENPI2AaBAPL",
        "colab": {
          "base_uri": "https://localhost:8080/",
          "height": 371
        },
        "outputId": "c94bb28c-0ac5-4656-b0cd-66b2a90699e4"
      },
      "source": [
        "data=pd.read_csv('scooter.csv')\n",
        "data.head()"
      ],
      "id": "lENPI2AaBAPL",
      "execution_count": null,
      "outputs": [
        {
          "output_type": "execute_result",
          "data": {
            "text/html": [
              "<div>\n",
              "<style scoped>\n",
              "    .dataframe tbody tr th:only-of-type {\n",
              "        vertical-align: middle;\n",
              "    }\n",
              "\n",
              "    .dataframe tbody tr th {\n",
              "        vertical-align: top;\n",
              "    }\n",
              "\n",
              "    .dataframe thead th {\n",
              "        text-align: right;\n",
              "    }\n",
              "</style>\n",
              "<table border=\"1\" class=\"dataframe\">\n",
              "  <thead>\n",
              "    <tr style=\"text-align: right;\">\n",
              "      <th></th>\n",
              "      <th>month</th>\n",
              "      <th>trip_id</th>\n",
              "      <th>region_id</th>\n",
              "      <th>vehicle_id</th>\n",
              "      <th>started_at</th>\n",
              "      <th>ended_at</th>\n",
              "      <th>DURATION</th>\n",
              "      <th>start_location_name</th>\n",
              "      <th>end_location_name</th>\n",
              "      <th>user_id</th>\n",
              "      <th>trip_ledger_id</th>\n",
              "    </tr>\n",
              "  </thead>\n",
              "  <tbody>\n",
              "    <tr>\n",
              "      <th>0</th>\n",
              "      <td>May</td>\n",
              "      <td>1613335</td>\n",
              "      <td>202</td>\n",
              "      <td>9424537</td>\n",
              "      <td>5/21/2019 18:33</td>\n",
              "      <td>5/21/2019 18:40</td>\n",
              "      <td>0:07:03</td>\n",
              "      <td>1901 Roma Ave NE, Albuquerque, NM 87106, USA</td>\n",
              "      <td>1899 Roma Ave NE, Albuquerque, NM 87106, USA</td>\n",
              "      <td>8417864</td>\n",
              "      <td>1488546</td>\n",
              "    </tr>\n",
              "    <tr>\n",
              "      <th>1</th>\n",
              "      <td>May</td>\n",
              "      <td>1613639</td>\n",
              "      <td>202</td>\n",
              "      <td>9424537</td>\n",
              "      <td>5/21/2019 19:07</td>\n",
              "      <td>5/21/2019 19:12</td>\n",
              "      <td>0:04:57</td>\n",
              "      <td>1 Domenici Center en Domenici Center, Albuquer...</td>\n",
              "      <td>1111 Stanford Dr NE, Albuquerque, NM 87106, USA</td>\n",
              "      <td>8417864</td>\n",
              "      <td>1488838</td>\n",
              "    </tr>\n",
              "    <tr>\n",
              "      <th>2</th>\n",
              "      <td>May</td>\n",
              "      <td>1613708</td>\n",
              "      <td>202</td>\n",
              "      <td>9424537</td>\n",
              "      <td>5/21/2019 19:13</td>\n",
              "      <td>5/21/2019 19:15</td>\n",
              "      <td>0:01:14</td>\n",
              "      <td>1 Domenici Center en Domenici Center, Albuquer...</td>\n",
              "      <td>1 Domenici Center en Domenici Center, Albuquer...</td>\n",
              "      <td>8417864</td>\n",
              "      <td>1488851</td>\n",
              "    </tr>\n",
              "    <tr>\n",
              "      <th>3</th>\n",
              "      <td>May</td>\n",
              "      <td>1613867</td>\n",
              "      <td>202</td>\n",
              "      <td>9424537</td>\n",
              "      <td>5/21/2019 19:29</td>\n",
              "      <td>5/21/2019 19:36</td>\n",
              "      <td>0:06:58</td>\n",
              "      <td>Rotunda at Science &amp; Technology Park, 801 Univ...</td>\n",
              "      <td>725 University Blvd SE, Albuquerque, NM 87106,...</td>\n",
              "      <td>8417864</td>\n",
              "      <td>1489064</td>\n",
              "    </tr>\n",
              "    <tr>\n",
              "      <th>4</th>\n",
              "      <td>May</td>\n",
              "      <td>1636714</td>\n",
              "      <td>202</td>\n",
              "      <td>8926493</td>\n",
              "      <td>5/24/2019 13:38</td>\n",
              "      <td>5/24/2019 13:41</td>\n",
              "      <td>0:03:06</td>\n",
              "      <td>401 2nd St NW, Albuquerque, NM 87102, USA</td>\n",
              "      <td>401 2nd St NW, Albuquerque, NM 87102, USA</td>\n",
              "      <td>35436274</td>\n",
              "      <td>1511212</td>\n",
              "    </tr>\n",
              "  </tbody>\n",
              "</table>\n",
              "</div>"
            ],
            "text/plain": [
              "  month  trip_id  ...   user_id  trip_ledger_id\n",
              "0   May  1613335  ...   8417864         1488546\n",
              "1   May  1613639  ...   8417864         1488838\n",
              "2   May  1613708  ...   8417864         1488851\n",
              "3   May  1613867  ...   8417864         1489064\n",
              "4   May  1636714  ...  35436274         1511212\n",
              "\n",
              "[5 rows x 11 columns]"
            ]
          },
          "metadata": {
            "tags": []
          },
          "execution_count": 3
        }
      ]
    },
    {
      "cell_type": "markdown",
      "metadata": {
        "id": "3T0OGSHWSyXN"
      },
      "source": [
        "**Exploring the data**"
      ],
      "id": "3T0OGSHWSyXN"
    },
    {
      "cell_type": "code",
      "metadata": {
        "id": "_mKZb08UBF-G",
        "colab": {
          "base_uri": "https://localhost:8080/"
        },
        "outputId": "0eb4a177-6b58-4d3d-a8e5-43232fb86d8a"
      },
      "source": [
        "# look at the columns\n",
        "data.columns"
      ],
      "id": "_mKZb08UBF-G",
      "execution_count": null,
      "outputs": [
        {
          "output_type": "execute_result",
          "data": {
            "text/plain": [
              "Index(['month', 'trip_id', 'region_id', 'vehicle_id', 'started_at', 'ended_at',\n",
              "       'DURATION', 'start_location_name', 'end_location_name', 'user_id',\n",
              "       'trip_ledger_id'],\n",
              "      dtype='object')"
            ]
          },
          "metadata": {
            "tags": []
          },
          "execution_count": 4
        }
      ]
    },
    {
      "cell_type": "code",
      "metadata": {
        "colab": {
          "base_uri": "https://localhost:8080/"
        },
        "id": "IuPmXtU_S44V",
        "outputId": "999fbcee-ad90-432c-c665-587b36269696"
      },
      "source": [
        "# print datatype\n",
        "data.dtypes"
      ],
      "id": "IuPmXtU_S44V",
      "execution_count": null,
      "outputs": [
        {
          "output_type": "execute_result",
          "data": {
            "text/plain": [
              "month                  object\n",
              "trip_id                 int64\n",
              "region_id               int64\n",
              "vehicle_id              int64\n",
              "started_at             object\n",
              "ended_at               object\n",
              "DURATION               object\n",
              "start_location_name    object\n",
              "end_location_name      object\n",
              "user_id                 int64\n",
              "trip_ledger_id          int64\n",
              "dtype: object"
            ]
          },
          "metadata": {
            "tags": []
          },
          "execution_count": 5
        }
      ]
    },
    {
      "cell_type": "code",
      "metadata": {
        "id": "iKBxLGjJBHNX",
        "colab": {
          "base_uri": "https://localhost:8080/",
          "height": 371
        },
        "outputId": "f447de6d-e51a-4103-e04e-27c6f425e1b9"
      },
      "source": [
        "# sampling data to show\n",
        "data.sample(5)"
      ],
      "id": "iKBxLGjJBHNX",
      "execution_count": null,
      "outputs": [
        {
          "output_type": "execute_result",
          "data": {
            "text/html": [
              "<div>\n",
              "<style scoped>\n",
              "    .dataframe tbody tr th:only-of-type {\n",
              "        vertical-align: middle;\n",
              "    }\n",
              "\n",
              "    .dataframe tbody tr th {\n",
              "        vertical-align: top;\n",
              "    }\n",
              "\n",
              "    .dataframe thead th {\n",
              "        text-align: right;\n",
              "    }\n",
              "</style>\n",
              "<table border=\"1\" class=\"dataframe\">\n",
              "  <thead>\n",
              "    <tr style=\"text-align: right;\">\n",
              "      <th></th>\n",
              "      <th>month</th>\n",
              "      <th>trip_id</th>\n",
              "      <th>region_id</th>\n",
              "      <th>vehicle_id</th>\n",
              "      <th>started_at</th>\n",
              "      <th>ended_at</th>\n",
              "      <th>DURATION</th>\n",
              "      <th>start_location_name</th>\n",
              "      <th>end_location_name</th>\n",
              "      <th>user_id</th>\n",
              "      <th>trip_ledger_id</th>\n",
              "    </tr>\n",
              "  </thead>\n",
              "  <tbody>\n",
              "    <tr>\n",
              "      <th>18817</th>\n",
              "      <td>June</td>\n",
              "      <td>2004034</td>\n",
              "      <td>202</td>\n",
              "      <td>1579133</td>\n",
              "      <td>6/21/2019 0:56</td>\n",
              "      <td>6/21/2019 1:11</td>\n",
              "      <td>0:14:37</td>\n",
              "      <td>102 Stanford Dr SE, Albuquerque, NM 87106, USA</td>\n",
              "      <td>Alvarado Hall, Albuquerque, NM 87106, USA</td>\n",
              "      <td>37507105</td>\n",
              "      <td>1868736</td>\n",
              "    </tr>\n",
              "    <tr>\n",
              "      <th>33648</th>\n",
              "      <td>July</td>\n",
              "      <td>2465335</td>\n",
              "      <td>202</td>\n",
              "      <td>2511570</td>\n",
              "      <td>7/21/2019 1:32</td>\n",
              "      <td>7/21/2019 2:01</td>\n",
              "      <td>0:29:00</td>\n",
              "      <td>3912 Silver Ave SE, Albuquerque, NM 87108, USA</td>\n",
              "      <td>1415 Hazeldine Ave SE, Albuquerque, NM 87106, USA</td>\n",
              "      <td>42574608</td>\n",
              "      <td>2323946</td>\n",
              "    </tr>\n",
              "    <tr>\n",
              "      <th>17484</th>\n",
              "      <td>June</td>\n",
              "      <td>1972650</td>\n",
              "      <td>202</td>\n",
              "      <td>6738623</td>\n",
              "      <td>6/18/2019 1:44</td>\n",
              "      <td>6/18/2019 1:45</td>\n",
              "      <td>0:01:07</td>\n",
              "      <td>3200 Central Ave SE, Albuquerque, NM 87106, USA</td>\n",
              "      <td>3200 Central Ave SE, Albuquerque, NM 87106, USA</td>\n",
              "      <td>41983550</td>\n",
              "      <td>1837461</td>\n",
              "    </tr>\n",
              "    <tr>\n",
              "      <th>32768</th>\n",
              "      <td>July</td>\n",
              "      <td>2433335</td>\n",
              "      <td>202</td>\n",
              "      <td>7761322</td>\n",
              "      <td>7/19/2019 21:03</td>\n",
              "      <td>7/19/2019 21:16</td>\n",
              "      <td>0:13:00</td>\n",
              "      <td>301 Copper Ave NW, Albuquerque, NM 87102, USA</td>\n",
              "      <td>111 Marble Ave NW, Albuquerque, NM 87102, USA</td>\n",
              "      <td>42308709</td>\n",
              "      <td>2292614</td>\n",
              "    </tr>\n",
              "    <tr>\n",
              "      <th>21899</th>\n",
              "      <td>June</td>\n",
              "      <td>2070730</td>\n",
              "      <td>202</td>\n",
              "      <td>4992437</td>\n",
              "      <td>6/26/2019 0:21</td>\n",
              "      <td>6/26/2019 0:43</td>\n",
              "      <td>0:22:00</td>\n",
              "      <td>1st St NW and Central Ave SW, Albuquerque, NM ...</td>\n",
              "      <td>100 1st St SW, Albuquerque, NM 87102, USA</td>\n",
              "      <td>36389134</td>\n",
              "      <td>1934346</td>\n",
              "    </tr>\n",
              "  </tbody>\n",
              "</table>\n",
              "</div>"
            ],
            "text/plain": [
              "      month  trip_id  ...   user_id  trip_ledger_id\n",
              "18817  June  2004034  ...  37507105         1868736\n",
              "33648  July  2465335  ...  42574608         2323946\n",
              "17484  June  1972650  ...  41983550         1837461\n",
              "32768  July  2433335  ...  42308709         2292614\n",
              "21899  June  2070730  ...  36389134         1934346\n",
              "\n",
              "[5 rows x 11 columns]"
            ]
          },
          "metadata": {
            "tags": []
          },
          "execution_count": 6
        }
      ]
    },
    {
      "cell_type": "code",
      "metadata": {
        "colab": {
          "base_uri": "https://localhost:8080/",
          "height": 295
        },
        "id": "EZOIcXo5WhBz",
        "outputId": "1b33f047-6f31-45ce-f55a-53097cd5ef6a"
      },
      "source": [
        "# Analyzing the data\n",
        "# describe distribution of each attribute\n",
        "data.describe()"
      ],
      "id": "EZOIcXo5WhBz",
      "execution_count": null,
      "outputs": [
        {
          "output_type": "execute_result",
          "data": {
            "text/html": [
              "<div>\n",
              "<style scoped>\n",
              "    .dataframe tbody tr th:only-of-type {\n",
              "        vertical-align: middle;\n",
              "    }\n",
              "\n",
              "    .dataframe tbody tr th {\n",
              "        vertical-align: top;\n",
              "    }\n",
              "\n",
              "    .dataframe thead th {\n",
              "        text-align: right;\n",
              "    }\n",
              "</style>\n",
              "<table border=\"1\" class=\"dataframe\">\n",
              "  <thead>\n",
              "    <tr style=\"text-align: right;\">\n",
              "      <th></th>\n",
              "      <th>trip_id</th>\n",
              "      <th>region_id</th>\n",
              "      <th>vehicle_id</th>\n",
              "      <th>user_id</th>\n",
              "      <th>trip_ledger_id</th>\n",
              "    </tr>\n",
              "  </thead>\n",
              "  <tbody>\n",
              "    <tr>\n",
              "      <th>count</th>\n",
              "      <td>3.422600e+04</td>\n",
              "      <td>34226.0</td>\n",
              "      <td>3.422600e+04</td>\n",
              "      <td>3.422600e+04</td>\n",
              "      <td>3.422600e+04</td>\n",
              "    </tr>\n",
              "    <tr>\n",
              "      <th>mean</th>\n",
              "      <td>2.004438e+06</td>\n",
              "      <td>202.0</td>\n",
              "      <td>5.589507e+06</td>\n",
              "      <td>3.875420e+07</td>\n",
              "      <td>1.869549e+06</td>\n",
              "    </tr>\n",
              "    <tr>\n",
              "      <th>std</th>\n",
              "      <td>2.300476e+05</td>\n",
              "      <td>0.0</td>\n",
              "      <td>2.627164e+06</td>\n",
              "      <td>4.275441e+06</td>\n",
              "      <td>2.252639e+05</td>\n",
              "    </tr>\n",
              "    <tr>\n",
              "      <th>min</th>\n",
              "      <td>1.613335e+06</td>\n",
              "      <td>202.0</td>\n",
              "      <td>1.034847e+06</td>\n",
              "      <td>1.080200e+04</td>\n",
              "      <td>1.488546e+06</td>\n",
              "    </tr>\n",
              "    <tr>\n",
              "      <th>25%</th>\n",
              "      <td>1.813521e+06</td>\n",
              "      <td>202.0</td>\n",
              "      <td>3.260435e+06</td>\n",
              "      <td>3.665710e+07</td>\n",
              "      <td>1.683023e+06</td>\n",
              "    </tr>\n",
              "    <tr>\n",
              "      <th>50%</th>\n",
              "      <td>1.962520e+06</td>\n",
              "      <td>202.0</td>\n",
              "      <td>5.617097e+06</td>\n",
              "      <td>3.880750e+07</td>\n",
              "      <td>1.827796e+06</td>\n",
              "    </tr>\n",
              "    <tr>\n",
              "      <th>75%</th>\n",
              "      <td>2.182324e+06</td>\n",
              "      <td>202.0</td>\n",
              "      <td>8.012871e+06</td>\n",
              "      <td>4.222774e+07</td>\n",
              "      <td>2.042524e+06</td>\n",
              "    </tr>\n",
              "    <tr>\n",
              "      <th>max</th>\n",
              "      <td>2.482335e+06</td>\n",
              "      <td>202.0</td>\n",
              "      <td>9.984848e+06</td>\n",
              "      <td>4.258732e+07</td>\n",
              "      <td>2.342161e+06</td>\n",
              "    </tr>\n",
              "  </tbody>\n",
              "</table>\n",
              "</div>"
            ],
            "text/plain": [
              "            trip_id  region_id    vehicle_id       user_id  trip_ledger_id\n",
              "count  3.422600e+04    34226.0  3.422600e+04  3.422600e+04    3.422600e+04\n",
              "mean   2.004438e+06      202.0  5.589507e+06  3.875420e+07    1.869549e+06\n",
              "std    2.300476e+05        0.0  2.627164e+06  4.275441e+06    2.252639e+05\n",
              "min    1.613335e+06      202.0  1.034847e+06  1.080200e+04    1.488546e+06\n",
              "25%    1.813521e+06      202.0  3.260435e+06  3.665710e+07    1.683023e+06\n",
              "50%    1.962520e+06      202.0  5.617097e+06  3.880750e+07    1.827796e+06\n",
              "75%    2.182324e+06      202.0  8.012871e+06  4.222774e+07    2.042524e+06\n",
              "max    2.482335e+06      202.0  9.984848e+06  4.258732e+07    2.342161e+06"
            ]
          },
          "metadata": {
            "tags": []
          },
          "execution_count": 7
        }
      ]
    },
    {
      "cell_type": "code",
      "metadata": {
        "colab": {
          "base_uri": "https://localhost:8080/"
        },
        "id": "LBQslg-lWtQW",
        "outputId": "70f31fc8-7ec2-4c14-957c-453a4e239654"
      },
      "source": [
        "# describe more about an attribute\n",
        "data['start_location_name'].describe()"
      ],
      "id": "LBQslg-lWtQW",
      "execution_count": null,
      "outputs": [
        {
          "output_type": "execute_result",
          "data": {
            "text/plain": [
              "count                                               34220\n",
              "unique                                               2972\n",
              "top       1898 Mountain Rd NW, Albuquerque, NM 87104, USA\n",
              "freq                                                 1210\n",
              "Name: start_location_name, dtype: object"
            ]
          },
          "metadata": {
            "tags": []
          },
          "execution_count": 8
        }
      ]
    },
    {
      "cell_type": "code",
      "metadata": {
        "colab": {
          "base_uri": "https://localhost:8080/"
        },
        "id": "yKX2jwnUXaoC",
        "outputId": "bb437f9b-2d95-4892-c15a-0441d2d9fbfd"
      },
      "source": [
        "# value and count for all unique values\n",
        "data['DURATION'].value_counts() #df['DURATION'].value_counts(normalize=True, dropna=False, bins=10)\n"
      ],
      "id": "yKX2jwnUXaoC",
      "execution_count": null,
      "outputs": [
        {
          "output_type": "execute_result",
          "data": {
            "text/plain": [
              "0:04:00    825\n",
              "0:03:00    807\n",
              "0:05:00    728\n",
              "0:06:00    649\n",
              "0:07:00    627\n",
              "          ... \n",
              "0:55:13      1\n",
              "1:07:15      1\n",
              "1:02:39      1\n",
              "0:33:36      1\n",
              "0:56:23      1\n",
              "Name: DURATION, Length: 4135, dtype: int64"
            ]
          },
          "metadata": {
            "tags": []
          },
          "execution_count": 9
        }
      ]
    },
    {
      "cell_type": "code",
      "metadata": {
        "colab": {
          "base_uri": "https://localhost:8080/"
        },
        "id": "e25ZBc7pX_zs",
        "outputId": "1f08c846-65b2-4f05-a4d2-849442488bac"
      },
      "source": [
        "# find out how many missing values\n",
        "data.isnull().sum()"
      ],
      "id": "e25ZBc7pX_zs",
      "execution_count": null,
      "outputs": [
        {
          "output_type": "execute_result",
          "data": {
            "text/plain": [
              "month                     0\n",
              "trip_id                   0\n",
              "region_id                 0\n",
              "vehicle_id                0\n",
              "started_at                0\n",
              "ended_at                  0\n",
              "DURATION               2308\n",
              "start_location_name       6\n",
              "end_location_name      2070\n",
              "user_id                   0\n",
              "trip_ledger_id            0\n",
              "dtype: int64"
            ]
          },
          "metadata": {
            "tags": []
          },
          "execution_count": 10
        }
      ]
    },
    {
      "cell_type": "markdown",
      "metadata": {
        "id": "XdpK343y-_-u"
      },
      "source": [
        "**Creating and modifying columns**"
      ],
      "id": "XdpK343y-_-u"
    },
    {
      "cell_type": "code",
      "metadata": {
        "colab": {
          "base_uri": "https://localhost:8080/",
          "height": 371
        },
        "id": "EVY44g_dZ9Gm",
        "outputId": "bb2db14e-aa22-4994-da57-1b5653634c16"
      },
      "source": [
        "#made the month column all capitals\n",
        "data['month']=data['month'].str.upper()\n",
        "data.head()"
      ],
      "id": "EVY44g_dZ9Gm",
      "execution_count": null,
      "outputs": [
        {
          "output_type": "execute_result",
          "data": {
            "text/html": [
              "<div>\n",
              "<style scoped>\n",
              "    .dataframe tbody tr th:only-of-type {\n",
              "        vertical-align: middle;\n",
              "    }\n",
              "\n",
              "    .dataframe tbody tr th {\n",
              "        vertical-align: top;\n",
              "    }\n",
              "\n",
              "    .dataframe thead th {\n",
              "        text-align: right;\n",
              "    }\n",
              "</style>\n",
              "<table border=\"1\" class=\"dataframe\">\n",
              "  <thead>\n",
              "    <tr style=\"text-align: right;\">\n",
              "      <th></th>\n",
              "      <th>month</th>\n",
              "      <th>trip_id</th>\n",
              "      <th>region_id</th>\n",
              "      <th>vehicle_id</th>\n",
              "      <th>started_at</th>\n",
              "      <th>ended_at</th>\n",
              "      <th>DURATION</th>\n",
              "      <th>start_location_name</th>\n",
              "      <th>end_location_name</th>\n",
              "      <th>user_id</th>\n",
              "      <th>trip_ledger_id</th>\n",
              "    </tr>\n",
              "  </thead>\n",
              "  <tbody>\n",
              "    <tr>\n",
              "      <th>0</th>\n",
              "      <td>MAY</td>\n",
              "      <td>1613335</td>\n",
              "      <td>202</td>\n",
              "      <td>9424537</td>\n",
              "      <td>5/21/2019 18:33</td>\n",
              "      <td>5/21/2019 18:40</td>\n",
              "      <td>0:07:03</td>\n",
              "      <td>1901 Roma Ave NE, Albuquerque, NM 87106, USA</td>\n",
              "      <td>1899 Roma Ave NE, Albuquerque, NM 87106, USA</td>\n",
              "      <td>8417864</td>\n",
              "      <td>1488546</td>\n",
              "    </tr>\n",
              "    <tr>\n",
              "      <th>1</th>\n",
              "      <td>MAY</td>\n",
              "      <td>1613639</td>\n",
              "      <td>202</td>\n",
              "      <td>9424537</td>\n",
              "      <td>5/21/2019 19:07</td>\n",
              "      <td>5/21/2019 19:12</td>\n",
              "      <td>0:04:57</td>\n",
              "      <td>1 Domenici Center en Domenici Center, Albuquer...</td>\n",
              "      <td>1111 Stanford Dr NE, Albuquerque, NM 87106, USA</td>\n",
              "      <td>8417864</td>\n",
              "      <td>1488838</td>\n",
              "    </tr>\n",
              "    <tr>\n",
              "      <th>2</th>\n",
              "      <td>MAY</td>\n",
              "      <td>1613708</td>\n",
              "      <td>202</td>\n",
              "      <td>9424537</td>\n",
              "      <td>5/21/2019 19:13</td>\n",
              "      <td>5/21/2019 19:15</td>\n",
              "      <td>0:01:14</td>\n",
              "      <td>1 Domenici Center en Domenici Center, Albuquer...</td>\n",
              "      <td>1 Domenici Center en Domenici Center, Albuquer...</td>\n",
              "      <td>8417864</td>\n",
              "      <td>1488851</td>\n",
              "    </tr>\n",
              "    <tr>\n",
              "      <th>3</th>\n",
              "      <td>MAY</td>\n",
              "      <td>1613867</td>\n",
              "      <td>202</td>\n",
              "      <td>9424537</td>\n",
              "      <td>5/21/2019 19:29</td>\n",
              "      <td>5/21/2019 19:36</td>\n",
              "      <td>0:06:58</td>\n",
              "      <td>Rotunda at Science &amp; Technology Park, 801 Univ...</td>\n",
              "      <td>725 University Blvd SE, Albuquerque, NM 87106,...</td>\n",
              "      <td>8417864</td>\n",
              "      <td>1489064</td>\n",
              "    </tr>\n",
              "    <tr>\n",
              "      <th>4</th>\n",
              "      <td>MAY</td>\n",
              "      <td>1636714</td>\n",
              "      <td>202</td>\n",
              "      <td>8926493</td>\n",
              "      <td>5/24/2019 13:38</td>\n",
              "      <td>5/24/2019 13:41</td>\n",
              "      <td>0:03:06</td>\n",
              "      <td>401 2nd St NW, Albuquerque, NM 87102, USA</td>\n",
              "      <td>401 2nd St NW, Albuquerque, NM 87102, USA</td>\n",
              "      <td>35436274</td>\n",
              "      <td>1511212</td>\n",
              "    </tr>\n",
              "  </tbody>\n",
              "</table>\n",
              "</div>"
            ],
            "text/plain": [
              "  month  trip_id  ...   user_id  trip_ledger_id\n",
              "0   MAY  1613335  ...   8417864         1488546\n",
              "1   MAY  1613639  ...   8417864         1488838\n",
              "2   MAY  1613708  ...   8417864         1488851\n",
              "3   MAY  1613867  ...   8417864         1489064\n",
              "4   MAY  1636714  ...  35436274         1511212\n",
              "\n",
              "[5 rows x 11 columns]"
            ]
          },
          "metadata": {
            "tags": []
          },
          "execution_count": 17
        }
      ]
    },
    {
      "cell_type": "code",
      "metadata": {
        "colab": {
          "base_uri": "https://localhost:8080/",
          "height": 391
        },
        "id": "8auAETlYa0_W",
        "outputId": "9537afa6-011a-4417-8685-58a36197d622"
      },
      "source": [
        "#create a new column and assign the value to every row\n",
        "for idx,row in data.iterrows():\n",
        "  if row['trip_id']==1613335:\n",
        "    data.at[idx,'trip_id_161335']='Yes'\n",
        "  else:\n",
        "    data.at[idx,'trip_id_161335']='No'\n",
        "data.head()"
      ],
      "id": "8auAETlYa0_W",
      "execution_count": null,
      "outputs": [
        {
          "output_type": "execute_result",
          "data": {
            "text/html": [
              "<div>\n",
              "<style scoped>\n",
              "    .dataframe tbody tr th:only-of-type {\n",
              "        vertical-align: middle;\n",
              "    }\n",
              "\n",
              "    .dataframe tbody tr th {\n",
              "        vertical-align: top;\n",
              "    }\n",
              "\n",
              "    .dataframe thead th {\n",
              "        text-align: right;\n",
              "    }\n",
              "</style>\n",
              "<table border=\"1\" class=\"dataframe\">\n",
              "  <thead>\n",
              "    <tr style=\"text-align: right;\">\n",
              "      <th></th>\n",
              "      <th>month</th>\n",
              "      <th>trip_id</th>\n",
              "      <th>region_id</th>\n",
              "      <th>vehicle_id</th>\n",
              "      <th>started_at</th>\n",
              "      <th>ended_at</th>\n",
              "      <th>DURATION</th>\n",
              "      <th>start_location_name</th>\n",
              "      <th>end_location_name</th>\n",
              "      <th>user_id</th>\n",
              "      <th>trip_ledger_id</th>\n",
              "      <th>id_161335</th>\n",
              "      <th>trip_id_161335</th>\n",
              "    </tr>\n",
              "  </thead>\n",
              "  <tbody>\n",
              "    <tr>\n",
              "      <th>0</th>\n",
              "      <td>MAY</td>\n",
              "      <td>1613335</td>\n",
              "      <td>202</td>\n",
              "      <td>9424537</td>\n",
              "      <td>5/21/2019 18:33</td>\n",
              "      <td>5/21/2019 18:40</td>\n",
              "      <td>0:07:03</td>\n",
              "      <td>1901 Roma Ave NE, Albuquerque, NM 87106, USA</td>\n",
              "      <td>1899 Roma Ave NE, Albuquerque, NM 87106, USA</td>\n",
              "      <td>8417864</td>\n",
              "      <td>1488546</td>\n",
              "      <td>Yes</td>\n",
              "      <td>Yes</td>\n",
              "    </tr>\n",
              "    <tr>\n",
              "      <th>1</th>\n",
              "      <td>MAY</td>\n",
              "      <td>1613639</td>\n",
              "      <td>202</td>\n",
              "      <td>9424537</td>\n",
              "      <td>5/21/2019 19:07</td>\n",
              "      <td>5/21/2019 19:12</td>\n",
              "      <td>0:04:57</td>\n",
              "      <td>1 Domenici Center en Domenici Center, Albuquer...</td>\n",
              "      <td>1111 Stanford Dr NE, Albuquerque, NM 87106, USA</td>\n",
              "      <td>8417864</td>\n",
              "      <td>1488838</td>\n",
              "      <td>No</td>\n",
              "      <td>No</td>\n",
              "    </tr>\n",
              "    <tr>\n",
              "      <th>2</th>\n",
              "      <td>MAY</td>\n",
              "      <td>1613708</td>\n",
              "      <td>202</td>\n",
              "      <td>9424537</td>\n",
              "      <td>5/21/2019 19:13</td>\n",
              "      <td>5/21/2019 19:15</td>\n",
              "      <td>0:01:14</td>\n",
              "      <td>1 Domenici Center en Domenici Center, Albuquer...</td>\n",
              "      <td>1 Domenici Center en Domenici Center, Albuquer...</td>\n",
              "      <td>8417864</td>\n",
              "      <td>1488851</td>\n",
              "      <td>No</td>\n",
              "      <td>No</td>\n",
              "    </tr>\n",
              "    <tr>\n",
              "      <th>3</th>\n",
              "      <td>MAY</td>\n",
              "      <td>1613867</td>\n",
              "      <td>202</td>\n",
              "      <td>9424537</td>\n",
              "      <td>5/21/2019 19:29</td>\n",
              "      <td>5/21/2019 19:36</td>\n",
              "      <td>0:06:58</td>\n",
              "      <td>Rotunda at Science &amp; Technology Park, 801 Univ...</td>\n",
              "      <td>725 University Blvd SE, Albuquerque, NM 87106,...</td>\n",
              "      <td>8417864</td>\n",
              "      <td>1489064</td>\n",
              "      <td>No</td>\n",
              "      <td>No</td>\n",
              "    </tr>\n",
              "    <tr>\n",
              "      <th>4</th>\n",
              "      <td>MAY</td>\n",
              "      <td>1636714</td>\n",
              "      <td>202</td>\n",
              "      <td>8926493</td>\n",
              "      <td>5/24/2019 13:38</td>\n",
              "      <td>5/24/2019 13:41</td>\n",
              "      <td>0:03:06</td>\n",
              "      <td>401 2nd St NW, Albuquerque, NM 87102, USA</td>\n",
              "      <td>401 2nd St NW, Albuquerque, NM 87102, USA</td>\n",
              "      <td>35436274</td>\n",
              "      <td>1511212</td>\n",
              "      <td>No</td>\n",
              "      <td>No</td>\n",
              "    </tr>\n",
              "  </tbody>\n",
              "</table>\n",
              "</div>"
            ],
            "text/plain": [
              "  month  trip_id  region_id  ...  trip_ledger_id id_161335 trip_id_161335\n",
              "0   MAY  1613335        202  ...         1488546       Yes            Yes\n",
              "1   MAY  1613639        202  ...         1488838        No             No\n",
              "2   MAY  1613708        202  ...         1488851        No             No\n",
              "3   MAY  1613867        202  ...         1489064        No             No\n",
              "4   MAY  1636714        202  ...         1511212        No             No\n",
              "\n",
              "[5 rows x 13 columns]"
            ]
          },
          "metadata": {
            "tags": []
          },
          "execution_count": 20
        }
      ]
    },
    {
      "cell_type": "code",
      "metadata": {
        "colab": {
          "base_uri": "https://localhost:8080/",
          "height": 391
        },
        "id": "v0yjZ-zGb19-",
        "outputId": "feb208d3-a3fa-4093-d81c-918e28fcdd01"
      },
      "source": [
        "data.loc[data['trip_id']==1613335,'trip_id_161335']='1613335'\n",
        "data.head()"
      ],
      "id": "v0yjZ-zGb19-",
      "execution_count": null,
      "outputs": [
        {
          "output_type": "execute_result",
          "data": {
            "text/html": [
              "<div>\n",
              "<style scoped>\n",
              "    .dataframe tbody tr th:only-of-type {\n",
              "        vertical-align: middle;\n",
              "    }\n",
              "\n",
              "    .dataframe tbody tr th {\n",
              "        vertical-align: top;\n",
              "    }\n",
              "\n",
              "    .dataframe thead th {\n",
              "        text-align: right;\n",
              "    }\n",
              "</style>\n",
              "<table border=\"1\" class=\"dataframe\">\n",
              "  <thead>\n",
              "    <tr style=\"text-align: right;\">\n",
              "      <th></th>\n",
              "      <th>month</th>\n",
              "      <th>trip_id</th>\n",
              "      <th>region_id</th>\n",
              "      <th>vehicle_id</th>\n",
              "      <th>started_at</th>\n",
              "      <th>ended_at</th>\n",
              "      <th>DURATION</th>\n",
              "      <th>start_location_name</th>\n",
              "      <th>end_location_name</th>\n",
              "      <th>user_id</th>\n",
              "      <th>trip_ledger_id</th>\n",
              "      <th>id_161335</th>\n",
              "      <th>trip_id_161335</th>\n",
              "    </tr>\n",
              "  </thead>\n",
              "  <tbody>\n",
              "    <tr>\n",
              "      <th>0</th>\n",
              "      <td>MAY</td>\n",
              "      <td>1613335</td>\n",
              "      <td>202</td>\n",
              "      <td>9424537</td>\n",
              "      <td>5/21/2019 18:33</td>\n",
              "      <td>5/21/2019 18:40</td>\n",
              "      <td>0:07:03</td>\n",
              "      <td>1901 Roma Ave NE, Albuquerque, NM 87106, USA</td>\n",
              "      <td>1899 Roma Ave NE, Albuquerque, NM 87106, USA</td>\n",
              "      <td>8417864</td>\n",
              "      <td>1488546</td>\n",
              "      <td>Yes</td>\n",
              "      <td>1613335</td>\n",
              "    </tr>\n",
              "    <tr>\n",
              "      <th>1</th>\n",
              "      <td>MAY</td>\n",
              "      <td>1613639</td>\n",
              "      <td>202</td>\n",
              "      <td>9424537</td>\n",
              "      <td>5/21/2019 19:07</td>\n",
              "      <td>5/21/2019 19:12</td>\n",
              "      <td>0:04:57</td>\n",
              "      <td>1 Domenici Center en Domenici Center, Albuquer...</td>\n",
              "      <td>1111 Stanford Dr NE, Albuquerque, NM 87106, USA</td>\n",
              "      <td>8417864</td>\n",
              "      <td>1488838</td>\n",
              "      <td>No</td>\n",
              "      <td>No</td>\n",
              "    </tr>\n",
              "    <tr>\n",
              "      <th>2</th>\n",
              "      <td>MAY</td>\n",
              "      <td>1613708</td>\n",
              "      <td>202</td>\n",
              "      <td>9424537</td>\n",
              "      <td>5/21/2019 19:13</td>\n",
              "      <td>5/21/2019 19:15</td>\n",
              "      <td>0:01:14</td>\n",
              "      <td>1 Domenici Center en Domenici Center, Albuquer...</td>\n",
              "      <td>1 Domenici Center en Domenici Center, Albuquer...</td>\n",
              "      <td>8417864</td>\n",
              "      <td>1488851</td>\n",
              "      <td>No</td>\n",
              "      <td>No</td>\n",
              "    </tr>\n",
              "    <tr>\n",
              "      <th>3</th>\n",
              "      <td>MAY</td>\n",
              "      <td>1613867</td>\n",
              "      <td>202</td>\n",
              "      <td>9424537</td>\n",
              "      <td>5/21/2019 19:29</td>\n",
              "      <td>5/21/2019 19:36</td>\n",
              "      <td>0:06:58</td>\n",
              "      <td>Rotunda at Science &amp; Technology Park, 801 Univ...</td>\n",
              "      <td>725 University Blvd SE, Albuquerque, NM 87106,...</td>\n",
              "      <td>8417864</td>\n",
              "      <td>1489064</td>\n",
              "      <td>No</td>\n",
              "      <td>No</td>\n",
              "    </tr>\n",
              "    <tr>\n",
              "      <th>4</th>\n",
              "      <td>MAY</td>\n",
              "      <td>1636714</td>\n",
              "      <td>202</td>\n",
              "      <td>8926493</td>\n",
              "      <td>5/24/2019 13:38</td>\n",
              "      <td>5/24/2019 13:41</td>\n",
              "      <td>0:03:06</td>\n",
              "      <td>401 2nd St NW, Albuquerque, NM 87102, USA</td>\n",
              "      <td>401 2nd St NW, Albuquerque, NM 87102, USA</td>\n",
              "      <td>35436274</td>\n",
              "      <td>1511212</td>\n",
              "      <td>No</td>\n",
              "      <td>No</td>\n",
              "    </tr>\n",
              "  </tbody>\n",
              "</table>\n",
              "</div>"
            ],
            "text/plain": [
              "  month  trip_id  region_id  ...  trip_ledger_id id_161335 trip_id_161335\n",
              "0   MAY  1613335        202  ...         1488546       Yes        1613335\n",
              "1   MAY  1613639        202  ...         1488838        No             No\n",
              "2   MAY  1613708        202  ...         1488851        No             No\n",
              "3   MAY  1613867        202  ...         1489064        No             No\n",
              "4   MAY  1636714        202  ...         1511212        No             No\n",
              "\n",
              "[5 rows x 13 columns]"
            ]
          },
          "metadata": {
            "tags": []
          },
          "execution_count": 21
        }
      ]
    },
    {
      "cell_type": "code",
      "metadata": {
        "id": "AlwQb7lu3iNc"
      },
      "source": [
        "# split the attribute started_at to started_date and started_time\n",
        "new = data['started_at'].str.split(expand=True)\n",
        "data['started_date'] = new[0]\n",
        "data['started_time'] = new[1]\n",
        "data.head()"
      ],
      "id": "AlwQb7lu3iNc",
      "execution_count": null,
      "outputs": []
    },
    {
      "cell_type": "code",
      "metadata": {
        "id": "7BYwWJjM4tiT"
      },
      "source": [
        "# change datatype of started_at to date-time object\n",
        "data['started_at']=pd.to_datetime(data['started_at'],format='%m/%d/%Y %H:%M')\n",
        "data.dtypes"
      ],
      "id": "7BYwWJjM4tiT",
      "execution_count": null,
      "outputs": []
    },
    {
      "cell_type": "code",
      "metadata": {
        "colab": {
          "base_uri": "https://localhost:8080/"
        },
        "id": "UjOcB2Hy5cjY",
        "outputId": "9907694c-f8fe-4a43-f9f8-b01f6c5494e2"
      },
      "source": [
        "# change datatype of DURATION to timedelta object\n",
        "data['DURATION']=pd.to_timedelta(data['DURATION'])\n",
        "data.dtypes"
      ],
      "id": "UjOcB2Hy5cjY",
      "execution_count": null,
      "outputs": [
        {
          "output_type": "execute_result",
          "data": {
            "text/plain": [
              "month                           object\n",
              "trip_id                          int64\n",
              "region_id                        int64\n",
              "vehicle_id                       int64\n",
              "started_at              datetime64[ns]\n",
              "ended_at                        object\n",
              "DURATION               timedelta64[ns]\n",
              "start_location_name             object\n",
              "end_location_name               object\n",
              "user_id                          int64\n",
              "trip_ledger_id                   int64\n",
              "started_date                    object\n",
              "started_time                    object\n",
              "dtype: object"
            ]
          },
          "metadata": {
            "tags": []
          },
          "execution_count": 20
        }
      ]
    },
    {
      "cell_type": "code",
      "metadata": {
        "id": "IlHMOXLM6qcZ"
      },
      "source": [
        "# change datatype of trip_id to string\n",
        "data = data.astype({'trip_id': 'string'})\n",
        "data.dtypes"
      ],
      "id": "IlHMOXLM6qcZ",
      "execution_count": null,
      "outputs": []
    },
    {
      "cell_type": "code",
      "metadata": {
        "colab": {
          "base_uri": "https://localhost:8080/",
          "height": 391
        },
        "id": "hMBcOsmr72yH",
        "outputId": "2df9f899-4230-4ef6-ab59-bc56187bb929"
      },
      "source": [
        "# split street from end_location_name\n",
        "new = data['end_location_name'].str.split(pat=',',n=1,expand=True)\n",
        "data['end_location_street'] = new[0]\n",
        "data.head()"
      ],
      "id": "hMBcOsmr72yH",
      "execution_count": null,
      "outputs": [
        {
          "output_type": "execute_result",
          "data": {
            "text/html": [
              "<div>\n",
              "<style scoped>\n",
              "    .dataframe tbody tr th:only-of-type {\n",
              "        vertical-align: middle;\n",
              "    }\n",
              "\n",
              "    .dataframe tbody tr th {\n",
              "        vertical-align: top;\n",
              "    }\n",
              "\n",
              "    .dataframe thead th {\n",
              "        text-align: right;\n",
              "    }\n",
              "</style>\n",
              "<table border=\"1\" class=\"dataframe\">\n",
              "  <thead>\n",
              "    <tr style=\"text-align: right;\">\n",
              "      <th></th>\n",
              "      <th>month</th>\n",
              "      <th>trip_id</th>\n",
              "      <th>region_id</th>\n",
              "      <th>vehicle_id</th>\n",
              "      <th>started_at</th>\n",
              "      <th>ended_at</th>\n",
              "      <th>DURATION</th>\n",
              "      <th>start_location_name</th>\n",
              "      <th>end_location_name</th>\n",
              "      <th>user_id</th>\n",
              "      <th>trip_ledger_id</th>\n",
              "      <th>started_date</th>\n",
              "      <th>started_time</th>\n",
              "      <th>end_location_street</th>\n",
              "    </tr>\n",
              "  </thead>\n",
              "  <tbody>\n",
              "    <tr>\n",
              "      <th>0</th>\n",
              "      <td>May</td>\n",
              "      <td>1613335</td>\n",
              "      <td>202</td>\n",
              "      <td>9424537</td>\n",
              "      <td>2019-05-21 18:33:00</td>\n",
              "      <td>5/21/2019 18:40</td>\n",
              "      <td>0 days 00:07:03</td>\n",
              "      <td>1901 Roma Ave NE, Albuquerque, NM 87106, USA</td>\n",
              "      <td>1899 Roma Ave NE, Albuquerque, NM 87106, USA</td>\n",
              "      <td>8417864</td>\n",
              "      <td>1488546</td>\n",
              "      <td>5/21/2019</td>\n",
              "      <td>18:33</td>\n",
              "      <td>1899 Roma Ave NE</td>\n",
              "    </tr>\n",
              "    <tr>\n",
              "      <th>1</th>\n",
              "      <td>May</td>\n",
              "      <td>1613639</td>\n",
              "      <td>202</td>\n",
              "      <td>9424537</td>\n",
              "      <td>2019-05-21 19:07:00</td>\n",
              "      <td>5/21/2019 19:12</td>\n",
              "      <td>0 days 00:04:57</td>\n",
              "      <td>1 Domenici Center en Domenici Center, Albuquer...</td>\n",
              "      <td>1111 Stanford Dr NE, Albuquerque, NM 87106, USA</td>\n",
              "      <td>8417864</td>\n",
              "      <td>1488838</td>\n",
              "      <td>5/21/2019</td>\n",
              "      <td>19:07</td>\n",
              "      <td>1111 Stanford Dr NE</td>\n",
              "    </tr>\n",
              "    <tr>\n",
              "      <th>2</th>\n",
              "      <td>May</td>\n",
              "      <td>1613708</td>\n",
              "      <td>202</td>\n",
              "      <td>9424537</td>\n",
              "      <td>2019-05-21 19:13:00</td>\n",
              "      <td>5/21/2019 19:15</td>\n",
              "      <td>0 days 00:01:14</td>\n",
              "      <td>1 Domenici Center en Domenici Center, Albuquer...</td>\n",
              "      <td>1 Domenici Center en Domenici Center, Albuquer...</td>\n",
              "      <td>8417864</td>\n",
              "      <td>1488851</td>\n",
              "      <td>5/21/2019</td>\n",
              "      <td>19:13</td>\n",
              "      <td>1 Domenici Center en Domenici Center</td>\n",
              "    </tr>\n",
              "    <tr>\n",
              "      <th>3</th>\n",
              "      <td>May</td>\n",
              "      <td>1613867</td>\n",
              "      <td>202</td>\n",
              "      <td>9424537</td>\n",
              "      <td>2019-05-21 19:29:00</td>\n",
              "      <td>5/21/2019 19:36</td>\n",
              "      <td>0 days 00:06:58</td>\n",
              "      <td>Rotunda at Science &amp; Technology Park, 801 Univ...</td>\n",
              "      <td>725 University Blvd SE, Albuquerque, NM 87106,...</td>\n",
              "      <td>8417864</td>\n",
              "      <td>1489064</td>\n",
              "      <td>5/21/2019</td>\n",
              "      <td>19:29</td>\n",
              "      <td>725 University Blvd SE</td>\n",
              "    </tr>\n",
              "    <tr>\n",
              "      <th>4</th>\n",
              "      <td>May</td>\n",
              "      <td>1636714</td>\n",
              "      <td>202</td>\n",
              "      <td>8926493</td>\n",
              "      <td>2019-05-24 13:38:00</td>\n",
              "      <td>5/24/2019 13:41</td>\n",
              "      <td>0 days 00:03:06</td>\n",
              "      <td>401 2nd St NW, Albuquerque, NM 87102, USA</td>\n",
              "      <td>401 2nd St NW, Albuquerque, NM 87102, USA</td>\n",
              "      <td>35436274</td>\n",
              "      <td>1511212</td>\n",
              "      <td>5/24/2019</td>\n",
              "      <td>13:38</td>\n",
              "      <td>401 2nd St NW</td>\n",
              "    </tr>\n",
              "  </tbody>\n",
              "</table>\n",
              "</div>"
            ],
            "text/plain": [
              "  month  trip_id  ...  started_time                   end_location_street\n",
              "0   May  1613335  ...         18:33                      1899 Roma Ave NE\n",
              "1   May  1613639  ...         19:07                   1111 Stanford Dr NE\n",
              "2   May  1613708  ...         19:13  1 Domenici Center en Domenici Center\n",
              "3   May  1613867  ...         19:29                725 University Blvd SE\n",
              "4   May  1636714  ...         13:38                         401 2nd St NW\n",
              "\n",
              "[5 rows x 14 columns]"
            ]
          },
          "metadata": {
            "tags": []
          },
          "execution_count": 29
        }
      ]
    },
    {
      "cell_type": "markdown",
      "metadata": {
        "id": "Wt9DBBT4CfJn"
      },
      "source": [
        "**โจทย์ปฏิบัติการ** \\\\\n",
        "ทำการแปลงข้อมูล ชุดข้อมูล scooter ต่อจากตัวอย่างให้อยู่ในรูปแบบที่สามารถนำไปวิเคราะห์ข้อมูลต่อได้ง่ายที่สุด โดยให้นักศึกษาเขียนอธิบายเหตุผลของการเลือกรูปแบบ ชุดข้อมูล scooter ที่เป็นผลลัพธ์สุดท้าย"
      ],
      "id": "Wt9DBBT4CfJn"
    },
    {
      "cell_type": "code",
      "metadata": {
        "id": "rMt_v16XCu4w"
      },
      "source": [
        "# Start your code  here!"
      ],
      "id": "rMt_v16XCu4w",
      "execution_count": null,
      "outputs": []
    }
  ]
}