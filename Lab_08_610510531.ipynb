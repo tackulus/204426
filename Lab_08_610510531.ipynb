{
  "nbformat": 4,
  "nbformat_minor": 0,
  "metadata": {
    "colab": {
      "name": "Lab_08_610510531.ipynb",
      "provenance": [],
      "collapsed_sections": [],
      "include_colab_link": true
    },
    "kernelspec": {
      "name": "python3",
      "display_name": "Python 3"
    },
    "language_info": {
      "name": "python"
    }
  },
  "cells": [
    {
      "cell_type": "markdown",
      "metadata": {
        "id": "view-in-github",
        "colab_type": "text"
      },
      "source": [
        "<a href=\"https://colab.research.google.com/github/tackulus/204426/blob/main/Lab_08_610510531.ipynb\" target=\"_parent\"><img src=\"https://colab.research.google.com/assets/colab-badge.svg\" alt=\"Open In Colab\"/></a>"
      ]
    },
    {
      "cell_type": "markdown",
      "metadata": {
        "id": "ocefQLJIUuuk"
      },
      "source": [
        "# **Workshop 8: Data Exploration and Visualization (Numeric Data)**\n",
        "**คำสั่ง**\n",
        "\n",
        "1.   ศึกษาวิธีการสำรวจลักษณะการกระจายของข้อมูลเชิงตัวเลขด้วยค่าสถิติเชิงพรรณนาและการแสดงภาพข้อมูล\n",
        "2.   ทำโจทย์ปฏิบัติการแต่ละข้อตามคำสั่ง\n",
        "3.   ตั้งชื่อไฟล์ python notebook นี้ในรูปแบบ Lab_06_XXXXXXXXX.ipynb โดย XXXXXXXXX คือ รหัสนักศึกษา\n",
        "4.   ทำการดาวน์โหลดและส่งไฟล์ Lab_08_XXXXXXXXX.ipynb ที่เว็บไซต์ http://hw.cs.science.cmu.ac.th "
      ]
    },
    {
      "cell_type": "code",
      "metadata": {
        "id": "paLTi4i6UuAN"
      },
      "source": [
        "import pandas as pd\n",
        "import numpy as np\n",
        "import matplotlib.pyplot as plt\n",
        "from scipy.stats import kurtosis, skew\n",
        "import seaborn as sns"
      ],
      "execution_count": null,
      "outputs": []
    },
    {
      "cell_type": "code",
      "metadata": {
        "id": "O6JCM0gjcMvW"
      },
      "source": [
        "# load breast cancer data \n",
        "df = pd.read_csv('breast_cancer_data.csv')\n",
        "df.head()"
      ],
      "execution_count": null,
      "outputs": []
    },
    {
      "cell_type": "markdown",
      "metadata": {
        "id": "CP8piIapNAxX"
      },
      "source": [
        "**Describe the distribution shape using descriptive statistice**"
      ]
    },
    {
      "cell_type": "code",
      "metadata": {
        "id": "gZ04YYWpY-uj"
      },
      "source": [
        "print('Mean of radius_mean =',df['radius_mean'].mean())\n",
        "print('Median of radius_mean =',df['radius_mean'].median())\n",
        "print('Mode of radius_mean:',)\n",
        "mode_radius_mean = df['radius_mean'].mode()\n",
        "for mode in mode_radius_mean:\n",
        "  print(mode)\n",
        "print('SD of radius_mean =',df['radius_mean'].std())\n",
        "print('Variance of radius_mean =',df['radius_mean'].var())\n",
        "print('Kurtosis of radius_mean =',df['radius_mean'].kurt())\n",
        "print('Excess kurtosis of radius_mean =',df['radius_mean'].kurt()-3)\n",
        "print('Skewness of radius_mean =',df['radius_mean'].skew())\n",
        "IQR_radius_mean = df['radius_mean'].quantile(0.75)-df['radius_mean'].quantile(0.25)\n",
        "LL_radius_mean = df['radius_mean'].quantile(0.25)-1.5*IQR_radius_mean\n",
        "UL_radius_mean = df['radius_mean'].quantile(0.75)+1.5*IQR_radius_mean\n",
        "print('IQR of radius_mean =',IQR_radius_mean)\n",
        "print('Lower limit of radius_mean =',LL_radius_mean)\n",
        "print('Upper limit of radius_mean =',UL_radius_mean)"
      ],
      "execution_count": null,
      "outputs": []
    },
    {
      "cell_type": "markdown",
      "metadata": {
        "id": "iIqVNkWjKCSA"
      },
      "source": [
        "ปฏิบัติการข้อ 1) จงอธิบายลักษณะการกระจายของค่าตัวแปร area_mean ด้วยค่าสถิติเชิงพรรณนา"
      ]
    },
    {
      "cell_type": "code",
      "metadata": {
        "id": "ojJzJsJkMhXG"
      },
      "source": [
        "# Answer here!"
      ],
      "execution_count": null,
      "outputs": []
    },
    {
      "cell_type": "markdown",
      "metadata": {
        "id": "k06GHB-IMLof"
      },
      "source": [
        "ปฏิบัติการข้อ 2) จงเขียนฟังก์ชันเพื่อตรวจหาค่าผิดปรกติของค่าตัวแปรหนึ่งๆ"
      ]
    },
    {
      "cell_type": "code",
      "metadata": {
        "id": "l2-v5yOjMK6M"
      },
      "source": [
        "# Answer here!"
      ],
      "execution_count": null,
      "outputs": []
    },
    {
      "cell_type": "markdown",
      "metadata": {
        "id": "SqGYxQUaMAQR"
      },
      "source": [
        "ปฏิบัติการข้อ 3) จงเรียกใช้ฟังก์ในข้อ 2 เพื่อตรวจหาค่าของตัวแปร radius_mean ที่อาจเป็นข้อมูลผิดปรกติ"
      ]
    },
    {
      "cell_type": "code",
      "metadata": {
        "id": "yGyReTviZUy6"
      },
      "source": [
        "# Answer here!"
      ],
      "execution_count": null,
      "outputs": []
    },
    {
      "cell_type": "markdown",
      "metadata": {
        "id": "J-tKzQq-LD89"
      },
      "source": [
        "ปฏิบัติการข้อ 4) จงเขียนฟังก์ชันเพื่อระบุลักษณะการกระจายของค่าตัวแปรว่ามีการแจกแจงค่าตัวแปรแบบใด"
      ]
    },
    {
      "cell_type": "code",
      "metadata": {
        "id": "uadHSDecLDYY"
      },
      "source": [
        "# Answer here!"
      ],
      "execution_count": null,
      "outputs": []
    },
    {
      "cell_type": "markdown",
      "metadata": {
        "id": "LyxP3KhcLT77"
      },
      "source": [
        "ปฏิบัติการข้อ 5) จงเรียกใช้ฟังก์ชันในข้อ 3 เพื่อระบุลักษณะการกระจายของค่าตัวแปร compactness_mean"
      ]
    },
    {
      "cell_type": "code",
      "metadata": {
        "id": "q1ainSc3LfBM"
      },
      "source": [
        "# Answer here!"
      ],
      "execution_count": null,
      "outputs": []
    },
    {
      "cell_type": "markdown",
      "metadata": {
        "id": "dfAk9uAENNzr"
      },
      "source": [
        "**Describe the shape of distribution by data visualizing**"
      ]
    },
    {
      "cell_type": "code",
      "metadata": {
        "id": "iKipo3J1Leuo"
      },
      "source": [
        "# Histogram\n",
        "n = df.shape[0]   # number of samples\n",
        "h = 2*IQR_radius_mean*(n**(-1/3))   # estimate binwidth using Freedman-Diaconis rule\n",
        "\n",
        "sns.histplot(data=df, x=\"radius_mean\", binwidth=h)"
      ],
      "execution_count": null,
      "outputs": []
    },
    {
      "cell_type": "code",
      "metadata": {
        "id": "GUBc8qmLPpnc"
      },
      "source": [
        "# Density plot\n",
        "bw = 0.786*IQR_radius_mean*(n**(-1/5)) \n",
        "sns.displot(data=df, x=\"radius_mean\", kind=\"kde\", bw_adjust=bw)"
      ],
      "execution_count": null,
      "outputs": []
    },
    {
      "cell_type": "code",
      "metadata": {
        "id": "bXFCWRLlRG2r"
      },
      "source": [
        "# Histogram with conditioning on other variables\n",
        "n = df.shape[0]   # number of samples\n",
        "h = 2*IQR_radius_mean*(n**(-1/3))   # estimate binwidth using Freedman-Diaconis rule\n",
        "\n",
        "sns.histplot(data=df, x=\"radius_mean\",  hue=\"diagnosis\", binwidth=h)"
      ],
      "execution_count": null,
      "outputs": []
    },
    {
      "cell_type": "code",
      "metadata": {
        "id": "Ar8KhPcTSqtI"
      },
      "source": [
        "# Boxplot\n",
        "sns.boxplot(data=df, y=\"radius_mean\")"
      ],
      "execution_count": null,
      "outputs": []
    },
    {
      "cell_type": "code",
      "metadata": {
        "id": "l2WpPKodTU-y"
      },
      "source": [
        "#compare the distributions of a variable for each category \n",
        "sns.boxplot(data=df, x=\"diagnosis\",y='radius_mean')"
      ],
      "execution_count": null,
      "outputs": []
    },
    {
      "cell_type": "code",
      "metadata": {
        "id": "ru0_yxZpTy9y"
      },
      "source": [
        "# Violin Plot\n",
        "sns.violinplot(data=df, x=\"diagnosis\",y='radius_mean')"
      ],
      "execution_count": null,
      "outputs": []
    },
    {
      "cell_type": "markdown",
      "metadata": {
        "id": "2FfPmirCUJNz"
      },
      "source": [
        "ปฏิบัติการข้อ 6) จงสร้างภาพนำเสนอการกระจายของค่าข้อมูลตัวแปร area_mean"
      ]
    },
    {
      "cell_type": "code",
      "metadata": {
        "id": "l2Vt5-T8UI3H"
      },
      "source": [
        "# Answer here!"
      ],
      "execution_count": null,
      "outputs": []
    },
    {
      "cell_type": "markdown",
      "metadata": {
        "id": "1ql-5UVxU7BC"
      },
      "source": [
        "ปฏิบัติการข้อ 7) การกระจายของค่าตัวแปร area_mean ในผู้ป่วยที่เป็นโรคมะเร็งเต้านม และผู้ป่วยที่ไม่ได้เป็นโรคมะเร็งเต้านม มีความแตกต่างกันหรือไม่"
      ]
    },
    {
      "cell_type": "code",
      "metadata": {
        "id": "x8fPUFOUU6Qe"
      },
      "source": [
        "# Answer here!"
      ],
      "execution_count": null,
      "outputs": []
    },
    {
      "cell_type": "markdown",
      "metadata": {
        "id": "Bqfg8cZ6VeHv"
      },
      "source": [
        "ปฏิบัติการข้อ 8) จงเขียนฟังก์ชันแสดงค่าผิดปรกติของค่าตัวแปรหนึ่ง (var1) ในแต่ละกลุ่มข้อมูลที่แบ่งแยกด้วยค่าแปรเชิงกลุ่มอีกตัวแปรหนึ่ง (var2)"
      ]
    },
    {
      "cell_type": "code",
      "metadata": {
        "id": "S1HbbBFRW_NU"
      },
      "source": [
        "def display_outliers(data, var1, var2):\n",
        "'''data is a dataframe\n",
        "  var1 is the name of a variable which you want to detect outliers\n",
        "  var2 is the name of a categorical variable'''\n",
        "  # Answer here!"
      ],
      "execution_count": null,
      "outputs": []
    },
    {
      "cell_type": "markdown",
      "metadata": {
        "id": "BapxP5a5XnoO"
      },
      "source": [
        "ปฏิบัติการข้อ 9) จงปรับปรุงฟังก์ชันในข้อ 8 ให้สามารถส่งข้อมูล (index ของข้อมูล) ที่มีค่าผิดปรกติกลับเป็นข้อมูลออก"
      ]
    },
    {
      "cell_type": "code",
      "metadata": {
        "id": "ZBbLG6ahYCI4"
      },
      "source": [
        "def detect_display_outliers(data, var1, var2):\n",
        "'''data is a dataframe\n",
        "  var1 is the name of a variable which you want to detect outliers\n",
        "  var2 is the name of a categorical variable'''\n",
        "  outliers = []\n",
        "  # Answer here!\n",
        "\n",
        "  return outliers"
      ],
      "execution_count": null,
      "outputs": []
    },
    {
      "cell_type": "markdown",
      "metadata": {
        "id": "CGcwbL4qYKyU"
      },
      "source": [
        "ปฏิบัติการข้อ 10) จงเรียกใช้ฟังก์ชันในข้อ 9 เพื่อตรวจหาค่าของตัวแปร compactness_mean ที่อาจเป็นข้อมูลผิดปรกติในแต่ละกลุ่มตามค่าตัวแปร diagnosis"
      ]
    },
    {
      "cell_type": "code",
      "metadata": {
        "id": "_zD0aKppYl_3"
      },
      "source": [
        "# Answer here!"
      ],
      "execution_count": null,
      "outputs": []
    }
  ]
}