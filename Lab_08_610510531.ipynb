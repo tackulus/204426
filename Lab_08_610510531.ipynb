{
  "nbformat": 4,
  "nbformat_minor": 0,
  "metadata": {
    "colab": {
      "name": "Lab_08_610510531.ipynb",
      "provenance": [],
      "collapsed_sections": [],
      "include_colab_link": true
    },
    "kernelspec": {
      "name": "python3",
      "display_name": "Python 3"
    },
    "language_info": {
      "name": "python"
    }
  },
  "cells": [
    {
      "cell_type": "markdown",
      "metadata": {
        "id": "view-in-github",
        "colab_type": "text"
      },
      "source": [
        "<a href=\"https://colab.research.google.com/github/tackulus/204426/blob/main/Lab_08_610510531.ipynb\" target=\"_parent\"><img src=\"https://colab.research.google.com/assets/colab-badge.svg\" alt=\"Open In Colab\"/></a>"
      ]
    },
    {
      "cell_type": "markdown",
      "metadata": {
        "id": "ocefQLJIUuuk"
      },
      "source": [
        "# **Workshop 8: Data Exploration and Visualization (Numeric Data)**\n",
        "**คำสั่ง**\n",
        "\n",
        "1.   ศึกษาวิธีการสำรวจลักษณะการกระจายของข้อมูลเชิงตัวเลขด้วยค่าสถิติเชิงพรรณนาและการแสดงภาพข้อมูล\n",
        "2.   ทำโจทย์ปฏิบัติการแต่ละข้อตามคำสั่ง\n",
        "3.   ตั้งชื่อไฟล์ python notebook นี้ในรูปแบบ Lab_06_XXXXXXXXX.ipynb โดย XXXXXXXXX คือ รหัสนักศึกษา\n",
        "4.   ทำการดาวน์โหลดและส่งไฟล์ Lab_08_XXXXXXXXX.ipynb ที่เว็บไซต์ http://hw.cs.science.cmu.ac.th "
      ]
    },
    {
      "cell_type": "code",
      "metadata": {
        "colab": {
          "base_uri": "https://localhost:8080/"
        },
        "id": "zEhzkVA2388O",
        "outputId": "c3d0d718-33f5-48d4-f899-d1639cbdc40d"
      },
      "source": [
        "!git clone https://github.com/tackulus/204426.git"
      ],
      "execution_count": 1,
      "outputs": [
        {
          "output_type": "stream",
          "name": "stdout",
          "text": [
            "Cloning into '204426'...\n",
            "remote: Enumerating objects: 96, done.\u001b[K\n",
            "remote: Counting objects: 100% (96/96), done.\u001b[K\n",
            "remote: Compressing objects: 100% (93/93), done.\u001b[K\n",
            "remote: Total 96 (delta 42), reused 0 (delta 0), pack-reused 0\u001b[K\n",
            "Unpacking objects: 100% (96/96), done.\n"
          ]
        }
      ]
    },
    {
      "cell_type": "code",
      "metadata": {
        "id": "paLTi4i6UuAN"
      },
      "source": [
        "import pandas as pd\n",
        "import numpy as np\n",
        "import matplotlib.pyplot as plt\n",
        "from scipy.stats import kurtosis, skew\n",
        "import seaborn as sns"
      ],
      "execution_count": 2,
      "outputs": []
    },
    {
      "cell_type": "code",
      "metadata": {
        "id": "O6JCM0gjcMvW",
        "colab": {
          "base_uri": "https://localhost:8080/",
          "height": 244
        },
        "outputId": "2753b3e1-06e4-474e-cc4b-2fcd2595cd15"
      },
      "source": [
        "# load breast cancer data \n",
        "df = pd.read_csv(\"/content/204426/dataset/breast_cancer_data.csv\")\n",
        "df.head()"
      ],
      "execution_count": 4,
      "outputs": [
        {
          "output_type": "execute_result",
          "data": {
            "text/html": [
              "<div>\n",
              "<style scoped>\n",
              "    .dataframe tbody tr th:only-of-type {\n",
              "        vertical-align: middle;\n",
              "    }\n",
              "\n",
              "    .dataframe tbody tr th {\n",
              "        vertical-align: top;\n",
              "    }\n",
              "\n",
              "    .dataframe thead th {\n",
              "        text-align: right;\n",
              "    }\n",
              "</style>\n",
              "<table border=\"1\" class=\"dataframe\">\n",
              "  <thead>\n",
              "    <tr style=\"text-align: right;\">\n",
              "      <th></th>\n",
              "      <th>id</th>\n",
              "      <th>diagnosis</th>\n",
              "      <th>radius_mean</th>\n",
              "      <th>texture_mean</th>\n",
              "      <th>perimeter_mean</th>\n",
              "      <th>area_mean</th>\n",
              "      <th>smoothness_mean</th>\n",
              "      <th>compactness_mean</th>\n",
              "      <th>concavity_mean</th>\n",
              "      <th>concave points_mean</th>\n",
              "      <th>symmetry_mean</th>\n",
              "      <th>fractal_dimension_mean</th>\n",
              "      <th>radius_se</th>\n",
              "      <th>texture_se</th>\n",
              "      <th>perimeter_se</th>\n",
              "      <th>area_se</th>\n",
              "      <th>smoothness_se</th>\n",
              "      <th>compactness_se</th>\n",
              "      <th>concavity_se</th>\n",
              "      <th>concave points_se</th>\n",
              "      <th>symmetry_se</th>\n",
              "      <th>fractal_dimension_se</th>\n",
              "      <th>radius_worst</th>\n",
              "      <th>texture_worst</th>\n",
              "      <th>perimeter_worst</th>\n",
              "      <th>area_worst</th>\n",
              "      <th>smoothness_worst</th>\n",
              "      <th>compactness_worst</th>\n",
              "      <th>concavity_worst</th>\n",
              "      <th>concave points_worst</th>\n",
              "      <th>symmetry_worst</th>\n",
              "      <th>fractal_dimension_worst</th>\n",
              "      <th>Unnamed: 32</th>\n",
              "    </tr>\n",
              "  </thead>\n",
              "  <tbody>\n",
              "    <tr>\n",
              "      <th>0</th>\n",
              "      <td>842302</td>\n",
              "      <td>M</td>\n",
              "      <td>17.99</td>\n",
              "      <td>10.38</td>\n",
              "      <td>122.80</td>\n",
              "      <td>1001.0</td>\n",
              "      <td>0.11840</td>\n",
              "      <td>0.27760</td>\n",
              "      <td>0.3001</td>\n",
              "      <td>0.14710</td>\n",
              "      <td>0.2419</td>\n",
              "      <td>0.07871</td>\n",
              "      <td>1.0950</td>\n",
              "      <td>0.9053</td>\n",
              "      <td>8.589</td>\n",
              "      <td>153.40</td>\n",
              "      <td>0.006399</td>\n",
              "      <td>0.04904</td>\n",
              "      <td>0.05373</td>\n",
              "      <td>0.01587</td>\n",
              "      <td>0.03003</td>\n",
              "      <td>0.006193</td>\n",
              "      <td>25.38</td>\n",
              "      <td>17.33</td>\n",
              "      <td>184.60</td>\n",
              "      <td>2019.0</td>\n",
              "      <td>0.1622</td>\n",
              "      <td>0.6656</td>\n",
              "      <td>0.7119</td>\n",
              "      <td>0.2654</td>\n",
              "      <td>0.4601</td>\n",
              "      <td>0.11890</td>\n",
              "      <td>NaN</td>\n",
              "    </tr>\n",
              "    <tr>\n",
              "      <th>1</th>\n",
              "      <td>842517</td>\n",
              "      <td>M</td>\n",
              "      <td>20.57</td>\n",
              "      <td>17.77</td>\n",
              "      <td>132.90</td>\n",
              "      <td>1326.0</td>\n",
              "      <td>0.08474</td>\n",
              "      <td>0.07864</td>\n",
              "      <td>0.0869</td>\n",
              "      <td>0.07017</td>\n",
              "      <td>0.1812</td>\n",
              "      <td>0.05667</td>\n",
              "      <td>0.5435</td>\n",
              "      <td>0.7339</td>\n",
              "      <td>3.398</td>\n",
              "      <td>74.08</td>\n",
              "      <td>0.005225</td>\n",
              "      <td>0.01308</td>\n",
              "      <td>0.01860</td>\n",
              "      <td>0.01340</td>\n",
              "      <td>0.01389</td>\n",
              "      <td>0.003532</td>\n",
              "      <td>24.99</td>\n",
              "      <td>23.41</td>\n",
              "      <td>158.80</td>\n",
              "      <td>1956.0</td>\n",
              "      <td>0.1238</td>\n",
              "      <td>0.1866</td>\n",
              "      <td>0.2416</td>\n",
              "      <td>0.1860</td>\n",
              "      <td>0.2750</td>\n",
              "      <td>0.08902</td>\n",
              "      <td>NaN</td>\n",
              "    </tr>\n",
              "    <tr>\n",
              "      <th>2</th>\n",
              "      <td>84300903</td>\n",
              "      <td>M</td>\n",
              "      <td>19.69</td>\n",
              "      <td>21.25</td>\n",
              "      <td>130.00</td>\n",
              "      <td>1203.0</td>\n",
              "      <td>0.10960</td>\n",
              "      <td>0.15990</td>\n",
              "      <td>0.1974</td>\n",
              "      <td>0.12790</td>\n",
              "      <td>0.2069</td>\n",
              "      <td>0.05999</td>\n",
              "      <td>0.7456</td>\n",
              "      <td>0.7869</td>\n",
              "      <td>4.585</td>\n",
              "      <td>94.03</td>\n",
              "      <td>0.006150</td>\n",
              "      <td>0.04006</td>\n",
              "      <td>0.03832</td>\n",
              "      <td>0.02058</td>\n",
              "      <td>0.02250</td>\n",
              "      <td>0.004571</td>\n",
              "      <td>23.57</td>\n",
              "      <td>25.53</td>\n",
              "      <td>152.50</td>\n",
              "      <td>1709.0</td>\n",
              "      <td>0.1444</td>\n",
              "      <td>0.4245</td>\n",
              "      <td>0.4504</td>\n",
              "      <td>0.2430</td>\n",
              "      <td>0.3613</td>\n",
              "      <td>0.08758</td>\n",
              "      <td>NaN</td>\n",
              "    </tr>\n",
              "    <tr>\n",
              "      <th>3</th>\n",
              "      <td>84348301</td>\n",
              "      <td>M</td>\n",
              "      <td>11.42</td>\n",
              "      <td>20.38</td>\n",
              "      <td>77.58</td>\n",
              "      <td>386.1</td>\n",
              "      <td>0.14250</td>\n",
              "      <td>0.28390</td>\n",
              "      <td>0.2414</td>\n",
              "      <td>0.10520</td>\n",
              "      <td>0.2597</td>\n",
              "      <td>0.09744</td>\n",
              "      <td>0.4956</td>\n",
              "      <td>1.1560</td>\n",
              "      <td>3.445</td>\n",
              "      <td>27.23</td>\n",
              "      <td>0.009110</td>\n",
              "      <td>0.07458</td>\n",
              "      <td>0.05661</td>\n",
              "      <td>0.01867</td>\n",
              "      <td>0.05963</td>\n",
              "      <td>0.009208</td>\n",
              "      <td>14.91</td>\n",
              "      <td>26.50</td>\n",
              "      <td>98.87</td>\n",
              "      <td>567.7</td>\n",
              "      <td>0.2098</td>\n",
              "      <td>0.8663</td>\n",
              "      <td>0.6869</td>\n",
              "      <td>0.2575</td>\n",
              "      <td>0.6638</td>\n",
              "      <td>0.17300</td>\n",
              "      <td>NaN</td>\n",
              "    </tr>\n",
              "    <tr>\n",
              "      <th>4</th>\n",
              "      <td>84358402</td>\n",
              "      <td>M</td>\n",
              "      <td>20.29</td>\n",
              "      <td>14.34</td>\n",
              "      <td>135.10</td>\n",
              "      <td>1297.0</td>\n",
              "      <td>0.10030</td>\n",
              "      <td>0.13280</td>\n",
              "      <td>0.1980</td>\n",
              "      <td>0.10430</td>\n",
              "      <td>0.1809</td>\n",
              "      <td>0.05883</td>\n",
              "      <td>0.7572</td>\n",
              "      <td>0.7813</td>\n",
              "      <td>5.438</td>\n",
              "      <td>94.44</td>\n",
              "      <td>0.011490</td>\n",
              "      <td>0.02461</td>\n",
              "      <td>0.05688</td>\n",
              "      <td>0.01885</td>\n",
              "      <td>0.01756</td>\n",
              "      <td>0.005115</td>\n",
              "      <td>22.54</td>\n",
              "      <td>16.67</td>\n",
              "      <td>152.20</td>\n",
              "      <td>1575.0</td>\n",
              "      <td>0.1374</td>\n",
              "      <td>0.2050</td>\n",
              "      <td>0.4000</td>\n",
              "      <td>0.1625</td>\n",
              "      <td>0.2364</td>\n",
              "      <td>0.07678</td>\n",
              "      <td>NaN</td>\n",
              "    </tr>\n",
              "  </tbody>\n",
              "</table>\n",
              "</div>"
            ],
            "text/plain": [
              "         id diagnosis  ...  fractal_dimension_worst  Unnamed: 32\n",
              "0    842302         M  ...                  0.11890          NaN\n",
              "1    842517         M  ...                  0.08902          NaN\n",
              "2  84300903         M  ...                  0.08758          NaN\n",
              "3  84348301         M  ...                  0.17300          NaN\n",
              "4  84358402         M  ...                  0.07678          NaN\n",
              "\n",
              "[5 rows x 33 columns]"
            ]
          },
          "metadata": {},
          "execution_count": 4
        }
      ]
    },
    {
      "cell_type": "markdown",
      "metadata": {
        "id": "CP8piIapNAxX"
      },
      "source": [
        "**Describe the distribution shape using descriptive statistice**"
      ]
    },
    {
      "cell_type": "code",
      "metadata": {
        "id": "gZ04YYWpY-uj",
        "colab": {
          "base_uri": "https://localhost:8080/"
        },
        "outputId": "3d0e5a18-338b-4a2e-8481-c601cbd09aef"
      },
      "source": [
        "def descriptive_statistic(df, col):\n",
        "    IQR = df[col].quantile(0.75) - df[col].quantile(0.25)\n",
        "    dct = {\n",
        "        \"Mean\": df[col].mean(),\n",
        "        \"Median\": df[col].median(),\n",
        "        \"Mode\": [i for i in df[col].mode()],\n",
        "        \"SD\": df[col].std(),\n",
        "        \"Variance\": df[col].var(),\n",
        "        \"Kurtosis\": df[col].kurt(),\n",
        "        \"Excess kurtosis\": df[col].kurt() - 3,\n",
        "        \"Skewness\": df[col].skew(),\n",
        "        \"IQR\": IQR,\n",
        "        \"Lower limit\": df[col].quantile(0.25) - 1.5 * IQR,\n",
        "        \"Upper limit\": df[col].quantile(0.75) + 1.5 * IQR\n",
        "    }\n",
        "\n",
        "    print(col)\n",
        "    print(\"----------------------------------------\")\n",
        "    for key,val in dct.items(): print(f\"{key:15} = {val:}\")\n",
        "\n",
        "descriptive_statistic(df, \"radius_mean\")"
      ],
      "execution_count": 38,
      "outputs": [
        {
          "output_type": "stream",
          "name": "stdout",
          "text": [
            "radius_mean\n",
            "----------------------------------------\n",
            "Mean            = 14.127291739894563\n",
            "Median          = 13.37\n",
            "Mode            = [12.34]\n",
            "SD              = 3.524048826212078\n",
            "Variance        = 12.418920129526725\n",
            "Kurtosis        = 0.8455216229065377\n",
            "Excess kurtosis = -2.1544783770934623\n",
            "Skewness        = 0.9423795716730992\n",
            "IQR             = 4.08\n",
            "Lower limit     = 5.579999999999999\n",
            "Upper limit     = 21.9\n"
          ]
        }
      ]
    },
    {
      "cell_type": "markdown",
      "metadata": {
        "id": "iIqVNkWjKCSA"
      },
      "source": [
        "ปฏิบัติการข้อ 1) จงอธิบายลักษณะการกระจายของค่าตัวแปร area_mean ด้วยค่าสถิติเชิงพรรณนา"
      ]
    },
    {
      "cell_type": "code",
      "metadata": {
        "id": "ojJzJsJkMhXG",
        "colab": {
          "base_uri": "https://localhost:8080/"
        },
        "outputId": "32832aea-05b0-4d0f-cac5-636d255e4f15"
      },
      "source": [
        "# Answer here!\n",
        "descriptive_statistic(df, \"area_mean\")"
      ],
      "execution_count": 37,
      "outputs": [
        {
          "output_type": "stream",
          "name": "stdout",
          "text": [
            "area_mean\n",
            "----------------------------------------\n",
            "Mean            = 654.8891036906857\n",
            "Median          = 551.1\n",
            "Mode            = [512.2]\n",
            "SD              = 351.9141291816527\n",
            "Variance        = 123843.55431768096\n",
            "Kurtosis        = 3.6523027623507582\n",
            "Excess kurtosis = 0.6523027623507582\n",
            "Skewness        = 1.6457321756240424\n",
            "IQR             = 362.40000000000003\n",
            "Lower limit     = -123.30000000000001\n",
            "Upper limit     = 1326.3000000000002\n"
          ]
        }
      ]
    },
    {
      "cell_type": "markdown",
      "metadata": {
        "id": "k06GHB-IMLof"
      },
      "source": [
        "ปฏิบัติการข้อ 2) จงเขียนฟังก์ชันเพื่อตรวจหาค่าผิดปรกติของค่าตัวแปรหนึ่งๆ"
      ]
    },
    {
      "cell_type": "code",
      "metadata": {
        "id": "l2-v5yOjMK6M"
      },
      "source": [
        "# Answer here!\n",
        "def potential_outliers(df, col):\n",
        "    IQR = df[col].quantile(0.75) - df[col].quantile(0.25)\n",
        "    Lower_limit = df[col].quantile(0.25) - 1.5 * IQR\n",
        "    Upper_limit = df[col].quantile(0.75) + 1.5 * IQR\n",
        "    return df[((df[col] < Lower_limit) | (df[col] > Upper_limit))]"
      ],
      "execution_count": 41,
      "outputs": []
    },
    {
      "cell_type": "markdown",
      "metadata": {
        "id": "SqGYxQUaMAQR"
      },
      "source": [
        "ปฏิบัติการข้อ 3) จงเรียกใช้ฟังก์ในข้อ 2 เพื่อตรวจหาค่าของตัวแปร radius_mean ที่อาจเป็นข้อมูลผิดปรกติ"
      ]
    },
    {
      "cell_type": "code",
      "metadata": {
        "id": "yGyReTviZUy6",
        "colab": {
          "base_uri": "https://localhost:8080/",
          "height": 526
        },
        "outputId": "e4d6b6d9-c025-4e93-a8e5-8c8cc9a42eeb"
      },
      "source": [
        "# Answer here!\n",
        "potential_outliers(df, \"radius_mean\")"
      ],
      "execution_count": 42,
      "outputs": [
        {
          "output_type": "execute_result",
          "data": {
            "text/html": [
              "<div>\n",
              "<style scoped>\n",
              "    .dataframe tbody tr th:only-of-type {\n",
              "        vertical-align: middle;\n",
              "    }\n",
              "\n",
              "    .dataframe tbody tr th {\n",
              "        vertical-align: top;\n",
              "    }\n",
              "\n",
              "    .dataframe thead th {\n",
              "        text-align: right;\n",
              "    }\n",
              "</style>\n",
              "<table border=\"1\" class=\"dataframe\">\n",
              "  <thead>\n",
              "    <tr style=\"text-align: right;\">\n",
              "      <th></th>\n",
              "      <th>id</th>\n",
              "      <th>diagnosis</th>\n",
              "      <th>radius_mean</th>\n",
              "      <th>texture_mean</th>\n",
              "      <th>perimeter_mean</th>\n",
              "      <th>area_mean</th>\n",
              "      <th>smoothness_mean</th>\n",
              "      <th>compactness_mean</th>\n",
              "      <th>concavity_mean</th>\n",
              "      <th>concave points_mean</th>\n",
              "      <th>symmetry_mean</th>\n",
              "      <th>fractal_dimension_mean</th>\n",
              "      <th>radius_se</th>\n",
              "      <th>texture_se</th>\n",
              "      <th>perimeter_se</th>\n",
              "      <th>area_se</th>\n",
              "      <th>smoothness_se</th>\n",
              "      <th>compactness_se</th>\n",
              "      <th>concavity_se</th>\n",
              "      <th>concave points_se</th>\n",
              "      <th>symmetry_se</th>\n",
              "      <th>fractal_dimension_se</th>\n",
              "      <th>radius_worst</th>\n",
              "      <th>texture_worst</th>\n",
              "      <th>perimeter_worst</th>\n",
              "      <th>area_worst</th>\n",
              "      <th>smoothness_worst</th>\n",
              "      <th>compactness_worst</th>\n",
              "      <th>concavity_worst</th>\n",
              "      <th>concave points_worst</th>\n",
              "      <th>symmetry_worst</th>\n",
              "      <th>fractal_dimension_worst</th>\n",
              "      <th>Unnamed: 32</th>\n",
              "    </tr>\n",
              "  </thead>\n",
              "  <tbody>\n",
              "    <tr>\n",
              "      <th>82</th>\n",
              "      <td>8611555</td>\n",
              "      <td>M</td>\n",
              "      <td>25.22</td>\n",
              "      <td>24.91</td>\n",
              "      <td>171.5</td>\n",
              "      <td>1878.0</td>\n",
              "      <td>0.10630</td>\n",
              "      <td>0.2665</td>\n",
              "      <td>0.3339</td>\n",
              "      <td>0.18450</td>\n",
              "      <td>0.1829</td>\n",
              "      <td>0.06782</td>\n",
              "      <td>0.8973</td>\n",
              "      <td>1.4740</td>\n",
              "      <td>7.382</td>\n",
              "      <td>120.00</td>\n",
              "      <td>0.008166</td>\n",
              "      <td>0.05693</td>\n",
              "      <td>0.05730</td>\n",
              "      <td>0.02030</td>\n",
              "      <td>0.01065</td>\n",
              "      <td>0.005893</td>\n",
              "      <td>30.00</td>\n",
              "      <td>33.62</td>\n",
              "      <td>211.7</td>\n",
              "      <td>2562.0</td>\n",
              "      <td>0.1573</td>\n",
              "      <td>0.6076</td>\n",
              "      <td>0.6476</td>\n",
              "      <td>0.2867</td>\n",
              "      <td>0.2355</td>\n",
              "      <td>0.10510</td>\n",
              "      <td>NaN</td>\n",
              "    </tr>\n",
              "    <tr>\n",
              "      <th>108</th>\n",
              "      <td>86355</td>\n",
              "      <td>M</td>\n",
              "      <td>22.27</td>\n",
              "      <td>19.67</td>\n",
              "      <td>152.8</td>\n",
              "      <td>1509.0</td>\n",
              "      <td>0.13260</td>\n",
              "      <td>0.2768</td>\n",
              "      <td>0.4264</td>\n",
              "      <td>0.18230</td>\n",
              "      <td>0.2556</td>\n",
              "      <td>0.07039</td>\n",
              "      <td>1.2150</td>\n",
              "      <td>1.5450</td>\n",
              "      <td>10.050</td>\n",
              "      <td>170.00</td>\n",
              "      <td>0.006515</td>\n",
              "      <td>0.08668</td>\n",
              "      <td>0.10400</td>\n",
              "      <td>0.02480</td>\n",
              "      <td>0.03112</td>\n",
              "      <td>0.005037</td>\n",
              "      <td>28.40</td>\n",
              "      <td>28.01</td>\n",
              "      <td>206.8</td>\n",
              "      <td>2360.0</td>\n",
              "      <td>0.1701</td>\n",
              "      <td>0.6997</td>\n",
              "      <td>0.9608</td>\n",
              "      <td>0.2910</td>\n",
              "      <td>0.4055</td>\n",
              "      <td>0.09789</td>\n",
              "      <td>NaN</td>\n",
              "    </tr>\n",
              "    <tr>\n",
              "      <th>122</th>\n",
              "      <td>865423</td>\n",
              "      <td>M</td>\n",
              "      <td>24.25</td>\n",
              "      <td>20.20</td>\n",
              "      <td>166.2</td>\n",
              "      <td>1761.0</td>\n",
              "      <td>0.14470</td>\n",
              "      <td>0.2867</td>\n",
              "      <td>0.4268</td>\n",
              "      <td>0.20120</td>\n",
              "      <td>0.2655</td>\n",
              "      <td>0.06877</td>\n",
              "      <td>1.5090</td>\n",
              "      <td>3.1200</td>\n",
              "      <td>9.807</td>\n",
              "      <td>233.00</td>\n",
              "      <td>0.023330</td>\n",
              "      <td>0.09806</td>\n",
              "      <td>0.12780</td>\n",
              "      <td>0.01822</td>\n",
              "      <td>0.04547</td>\n",
              "      <td>0.009875</td>\n",
              "      <td>26.02</td>\n",
              "      <td>23.99</td>\n",
              "      <td>180.9</td>\n",
              "      <td>2073.0</td>\n",
              "      <td>0.1696</td>\n",
              "      <td>0.4244</td>\n",
              "      <td>0.5803</td>\n",
              "      <td>0.2248</td>\n",
              "      <td>0.3222</td>\n",
              "      <td>0.08009</td>\n",
              "      <td>NaN</td>\n",
              "    </tr>\n",
              "    <tr>\n",
              "      <th>164</th>\n",
              "      <td>8712289</td>\n",
              "      <td>M</td>\n",
              "      <td>23.27</td>\n",
              "      <td>22.04</td>\n",
              "      <td>152.1</td>\n",
              "      <td>1686.0</td>\n",
              "      <td>0.08439</td>\n",
              "      <td>0.1145</td>\n",
              "      <td>0.1324</td>\n",
              "      <td>0.09702</td>\n",
              "      <td>0.1801</td>\n",
              "      <td>0.05553</td>\n",
              "      <td>0.6642</td>\n",
              "      <td>0.8561</td>\n",
              "      <td>4.603</td>\n",
              "      <td>97.85</td>\n",
              "      <td>0.004910</td>\n",
              "      <td>0.02544</td>\n",
              "      <td>0.02822</td>\n",
              "      <td>0.01623</td>\n",
              "      <td>0.01956</td>\n",
              "      <td>0.003740</td>\n",
              "      <td>28.01</td>\n",
              "      <td>28.22</td>\n",
              "      <td>184.2</td>\n",
              "      <td>2403.0</td>\n",
              "      <td>0.1228</td>\n",
              "      <td>0.3583</td>\n",
              "      <td>0.3948</td>\n",
              "      <td>0.2346</td>\n",
              "      <td>0.3589</td>\n",
              "      <td>0.09187</td>\n",
              "      <td>NaN</td>\n",
              "    </tr>\n",
              "    <tr>\n",
              "      <th>180</th>\n",
              "      <td>873592</td>\n",
              "      <td>M</td>\n",
              "      <td>27.22</td>\n",
              "      <td>21.87</td>\n",
              "      <td>182.1</td>\n",
              "      <td>2250.0</td>\n",
              "      <td>0.10940</td>\n",
              "      <td>0.1914</td>\n",
              "      <td>0.2871</td>\n",
              "      <td>0.18780</td>\n",
              "      <td>0.1800</td>\n",
              "      <td>0.05770</td>\n",
              "      <td>0.8361</td>\n",
              "      <td>1.4810</td>\n",
              "      <td>5.820</td>\n",
              "      <td>128.70</td>\n",
              "      <td>0.004631</td>\n",
              "      <td>0.02537</td>\n",
              "      <td>0.03109</td>\n",
              "      <td>0.01241</td>\n",
              "      <td>0.01575</td>\n",
              "      <td>0.002747</td>\n",
              "      <td>33.12</td>\n",
              "      <td>32.85</td>\n",
              "      <td>220.8</td>\n",
              "      <td>3216.0</td>\n",
              "      <td>0.1472</td>\n",
              "      <td>0.4034</td>\n",
              "      <td>0.5340</td>\n",
              "      <td>0.2688</td>\n",
              "      <td>0.2856</td>\n",
              "      <td>0.08082</td>\n",
              "      <td>NaN</td>\n",
              "    </tr>\n",
              "    <tr>\n",
              "      <th>202</th>\n",
              "      <td>878796</td>\n",
              "      <td>M</td>\n",
              "      <td>23.29</td>\n",
              "      <td>26.67</td>\n",
              "      <td>158.9</td>\n",
              "      <td>1685.0</td>\n",
              "      <td>0.11410</td>\n",
              "      <td>0.2084</td>\n",
              "      <td>0.3523</td>\n",
              "      <td>0.16200</td>\n",
              "      <td>0.2200</td>\n",
              "      <td>0.06229</td>\n",
              "      <td>0.5539</td>\n",
              "      <td>1.5600</td>\n",
              "      <td>4.667</td>\n",
              "      <td>83.16</td>\n",
              "      <td>0.009327</td>\n",
              "      <td>0.05121</td>\n",
              "      <td>0.08958</td>\n",
              "      <td>0.02465</td>\n",
              "      <td>0.02175</td>\n",
              "      <td>0.005195</td>\n",
              "      <td>25.12</td>\n",
              "      <td>32.68</td>\n",
              "      <td>177.0</td>\n",
              "      <td>1986.0</td>\n",
              "      <td>0.1536</td>\n",
              "      <td>0.4167</td>\n",
              "      <td>0.7892</td>\n",
              "      <td>0.2733</td>\n",
              "      <td>0.3198</td>\n",
              "      <td>0.08762</td>\n",
              "      <td>NaN</td>\n",
              "    </tr>\n",
              "    <tr>\n",
              "      <th>212</th>\n",
              "      <td>8810703</td>\n",
              "      <td>M</td>\n",
              "      <td>28.11</td>\n",
              "      <td>18.47</td>\n",
              "      <td>188.5</td>\n",
              "      <td>2499.0</td>\n",
              "      <td>0.11420</td>\n",
              "      <td>0.1516</td>\n",
              "      <td>0.3201</td>\n",
              "      <td>0.15950</td>\n",
              "      <td>0.1648</td>\n",
              "      <td>0.05525</td>\n",
              "      <td>2.8730</td>\n",
              "      <td>1.4760</td>\n",
              "      <td>21.980</td>\n",
              "      <td>525.60</td>\n",
              "      <td>0.013450</td>\n",
              "      <td>0.02772</td>\n",
              "      <td>0.06389</td>\n",
              "      <td>0.01407</td>\n",
              "      <td>0.04783</td>\n",
              "      <td>0.004476</td>\n",
              "      <td>28.11</td>\n",
              "      <td>18.47</td>\n",
              "      <td>188.5</td>\n",
              "      <td>2499.0</td>\n",
              "      <td>0.1142</td>\n",
              "      <td>0.1516</td>\n",
              "      <td>0.3201</td>\n",
              "      <td>0.1595</td>\n",
              "      <td>0.1648</td>\n",
              "      <td>0.05525</td>\n",
              "      <td>NaN</td>\n",
              "    </tr>\n",
              "    <tr>\n",
              "      <th>236</th>\n",
              "      <td>88299702</td>\n",
              "      <td>M</td>\n",
              "      <td>23.21</td>\n",
              "      <td>26.97</td>\n",
              "      <td>153.5</td>\n",
              "      <td>1670.0</td>\n",
              "      <td>0.09509</td>\n",
              "      <td>0.1682</td>\n",
              "      <td>0.1950</td>\n",
              "      <td>0.12370</td>\n",
              "      <td>0.1909</td>\n",
              "      <td>0.06309</td>\n",
              "      <td>1.0580</td>\n",
              "      <td>0.9635</td>\n",
              "      <td>7.247</td>\n",
              "      <td>155.80</td>\n",
              "      <td>0.006428</td>\n",
              "      <td>0.02863</td>\n",
              "      <td>0.04497</td>\n",
              "      <td>0.01716</td>\n",
              "      <td>0.01590</td>\n",
              "      <td>0.003053</td>\n",
              "      <td>31.01</td>\n",
              "      <td>34.51</td>\n",
              "      <td>206.0</td>\n",
              "      <td>2944.0</td>\n",
              "      <td>0.1481</td>\n",
              "      <td>0.4126</td>\n",
              "      <td>0.5820</td>\n",
              "      <td>0.2593</td>\n",
              "      <td>0.3103</td>\n",
              "      <td>0.08677</td>\n",
              "      <td>NaN</td>\n",
              "    </tr>\n",
              "    <tr>\n",
              "      <th>339</th>\n",
              "      <td>89812</td>\n",
              "      <td>M</td>\n",
              "      <td>23.51</td>\n",
              "      <td>24.27</td>\n",
              "      <td>155.1</td>\n",
              "      <td>1747.0</td>\n",
              "      <td>0.10690</td>\n",
              "      <td>0.1283</td>\n",
              "      <td>0.2308</td>\n",
              "      <td>0.14100</td>\n",
              "      <td>0.1797</td>\n",
              "      <td>0.05506</td>\n",
              "      <td>1.0090</td>\n",
              "      <td>0.9245</td>\n",
              "      <td>6.462</td>\n",
              "      <td>164.10</td>\n",
              "      <td>0.006292</td>\n",
              "      <td>0.01971</td>\n",
              "      <td>0.03582</td>\n",
              "      <td>0.01301</td>\n",
              "      <td>0.01479</td>\n",
              "      <td>0.003118</td>\n",
              "      <td>30.67</td>\n",
              "      <td>30.73</td>\n",
              "      <td>202.4</td>\n",
              "      <td>2906.0</td>\n",
              "      <td>0.1515</td>\n",
              "      <td>0.2678</td>\n",
              "      <td>0.4819</td>\n",
              "      <td>0.2089</td>\n",
              "      <td>0.2593</td>\n",
              "      <td>0.07738</td>\n",
              "      <td>NaN</td>\n",
              "    </tr>\n",
              "    <tr>\n",
              "      <th>352</th>\n",
              "      <td>899987</td>\n",
              "      <td>M</td>\n",
              "      <td>25.73</td>\n",
              "      <td>17.46</td>\n",
              "      <td>174.2</td>\n",
              "      <td>2010.0</td>\n",
              "      <td>0.11490</td>\n",
              "      <td>0.2363</td>\n",
              "      <td>0.3368</td>\n",
              "      <td>0.19130</td>\n",
              "      <td>0.1956</td>\n",
              "      <td>0.06121</td>\n",
              "      <td>0.9948</td>\n",
              "      <td>0.8509</td>\n",
              "      <td>7.222</td>\n",
              "      <td>153.10</td>\n",
              "      <td>0.006369</td>\n",
              "      <td>0.04243</td>\n",
              "      <td>0.04266</td>\n",
              "      <td>0.01508</td>\n",
              "      <td>0.02335</td>\n",
              "      <td>0.003385</td>\n",
              "      <td>33.13</td>\n",
              "      <td>23.58</td>\n",
              "      <td>229.3</td>\n",
              "      <td>3234.0</td>\n",
              "      <td>0.1530</td>\n",
              "      <td>0.5937</td>\n",
              "      <td>0.6451</td>\n",
              "      <td>0.2756</td>\n",
              "      <td>0.3690</td>\n",
              "      <td>0.08815</td>\n",
              "      <td>NaN</td>\n",
              "    </tr>\n",
              "    <tr>\n",
              "      <th>369</th>\n",
              "      <td>9012000</td>\n",
              "      <td>M</td>\n",
              "      <td>22.01</td>\n",
              "      <td>21.90</td>\n",
              "      <td>147.2</td>\n",
              "      <td>1482.0</td>\n",
              "      <td>0.10630</td>\n",
              "      <td>0.1954</td>\n",
              "      <td>0.2448</td>\n",
              "      <td>0.15010</td>\n",
              "      <td>0.1824</td>\n",
              "      <td>0.06140</td>\n",
              "      <td>1.0080</td>\n",
              "      <td>0.6999</td>\n",
              "      <td>7.561</td>\n",
              "      <td>130.20</td>\n",
              "      <td>0.003978</td>\n",
              "      <td>0.02821</td>\n",
              "      <td>0.03576</td>\n",
              "      <td>0.01471</td>\n",
              "      <td>0.01518</td>\n",
              "      <td>0.003796</td>\n",
              "      <td>27.66</td>\n",
              "      <td>25.80</td>\n",
              "      <td>195.0</td>\n",
              "      <td>2227.0</td>\n",
              "      <td>0.1294</td>\n",
              "      <td>0.3885</td>\n",
              "      <td>0.4756</td>\n",
              "      <td>0.2432</td>\n",
              "      <td>0.2741</td>\n",
              "      <td>0.08574</td>\n",
              "      <td>NaN</td>\n",
              "    </tr>\n",
              "    <tr>\n",
              "      <th>461</th>\n",
              "      <td>911296202</td>\n",
              "      <td>M</td>\n",
              "      <td>27.42</td>\n",
              "      <td>26.27</td>\n",
              "      <td>186.9</td>\n",
              "      <td>2501.0</td>\n",
              "      <td>0.10840</td>\n",
              "      <td>0.1988</td>\n",
              "      <td>0.3635</td>\n",
              "      <td>0.16890</td>\n",
              "      <td>0.2061</td>\n",
              "      <td>0.05623</td>\n",
              "      <td>2.5470</td>\n",
              "      <td>1.3060</td>\n",
              "      <td>18.650</td>\n",
              "      <td>542.20</td>\n",
              "      <td>0.007650</td>\n",
              "      <td>0.05374</td>\n",
              "      <td>0.08055</td>\n",
              "      <td>0.02598</td>\n",
              "      <td>0.01697</td>\n",
              "      <td>0.004558</td>\n",
              "      <td>36.04</td>\n",
              "      <td>31.37</td>\n",
              "      <td>251.2</td>\n",
              "      <td>4254.0</td>\n",
              "      <td>0.1357</td>\n",
              "      <td>0.4256</td>\n",
              "      <td>0.6833</td>\n",
              "      <td>0.2625</td>\n",
              "      <td>0.2641</td>\n",
              "      <td>0.07427</td>\n",
              "      <td>NaN</td>\n",
              "    </tr>\n",
              "    <tr>\n",
              "      <th>503</th>\n",
              "      <td>915143</td>\n",
              "      <td>M</td>\n",
              "      <td>23.09</td>\n",
              "      <td>19.83</td>\n",
              "      <td>152.1</td>\n",
              "      <td>1682.0</td>\n",
              "      <td>0.09342</td>\n",
              "      <td>0.1275</td>\n",
              "      <td>0.1676</td>\n",
              "      <td>0.10030</td>\n",
              "      <td>0.1505</td>\n",
              "      <td>0.05484</td>\n",
              "      <td>1.2910</td>\n",
              "      <td>0.7452</td>\n",
              "      <td>9.635</td>\n",
              "      <td>180.20</td>\n",
              "      <td>0.005753</td>\n",
              "      <td>0.03356</td>\n",
              "      <td>0.03976</td>\n",
              "      <td>0.02156</td>\n",
              "      <td>0.02201</td>\n",
              "      <td>0.002897</td>\n",
              "      <td>30.79</td>\n",
              "      <td>23.87</td>\n",
              "      <td>211.5</td>\n",
              "      <td>2782.0</td>\n",
              "      <td>0.1199</td>\n",
              "      <td>0.3625</td>\n",
              "      <td>0.3794</td>\n",
              "      <td>0.2264</td>\n",
              "      <td>0.2908</td>\n",
              "      <td>0.07277</td>\n",
              "      <td>NaN</td>\n",
              "    </tr>\n",
              "    <tr>\n",
              "      <th>521</th>\n",
              "      <td>91762702</td>\n",
              "      <td>M</td>\n",
              "      <td>24.63</td>\n",
              "      <td>21.60</td>\n",
              "      <td>165.5</td>\n",
              "      <td>1841.0</td>\n",
              "      <td>0.10300</td>\n",
              "      <td>0.2106</td>\n",
              "      <td>0.2310</td>\n",
              "      <td>0.14710</td>\n",
              "      <td>0.1991</td>\n",
              "      <td>0.06739</td>\n",
              "      <td>0.9915</td>\n",
              "      <td>0.9004</td>\n",
              "      <td>7.050</td>\n",
              "      <td>139.90</td>\n",
              "      <td>0.004989</td>\n",
              "      <td>0.03212</td>\n",
              "      <td>0.03571</td>\n",
              "      <td>0.01597</td>\n",
              "      <td>0.01879</td>\n",
              "      <td>0.004760</td>\n",
              "      <td>29.92</td>\n",
              "      <td>26.93</td>\n",
              "      <td>205.7</td>\n",
              "      <td>2642.0</td>\n",
              "      <td>0.1342</td>\n",
              "      <td>0.4188</td>\n",
              "      <td>0.4658</td>\n",
              "      <td>0.2475</td>\n",
              "      <td>0.3157</td>\n",
              "      <td>0.09671</td>\n",
              "      <td>NaN</td>\n",
              "    </tr>\n",
              "  </tbody>\n",
              "</table>\n",
              "</div>"
            ],
            "text/plain": [
              "            id diagnosis  ...  fractal_dimension_worst  Unnamed: 32\n",
              "82     8611555         M  ...                  0.10510          NaN\n",
              "108      86355         M  ...                  0.09789          NaN\n",
              "122     865423         M  ...                  0.08009          NaN\n",
              "164    8712289         M  ...                  0.09187          NaN\n",
              "180     873592         M  ...                  0.08082          NaN\n",
              "202     878796         M  ...                  0.08762          NaN\n",
              "212    8810703         M  ...                  0.05525          NaN\n",
              "236   88299702         M  ...                  0.08677          NaN\n",
              "339      89812         M  ...                  0.07738          NaN\n",
              "352     899987         M  ...                  0.08815          NaN\n",
              "369    9012000         M  ...                  0.08574          NaN\n",
              "461  911296202         M  ...                  0.07427          NaN\n",
              "503     915143         M  ...                  0.07277          NaN\n",
              "521   91762702         M  ...                  0.09671          NaN\n",
              "\n",
              "[14 rows x 33 columns]"
            ]
          },
          "metadata": {},
          "execution_count": 42
        }
      ]
    },
    {
      "cell_type": "markdown",
      "metadata": {
        "id": "J-tKzQq-LD89"
      },
      "source": [
        "ปฏิบัติการข้อ 4) จงเขียนฟังก์ชันเพื่อระบุลักษณะการกระจายของค่าตัวแปรว่ามีการแจกแจงค่าตัวแปรแบบใด"
      ]
    },
    {
      "cell_type": "code",
      "metadata": {
        "id": "uadHSDecLDYY"
      },
      "source": [
        "# Answer here!\n",
        "import statsmodels.api as sm\n",
        "import scipy\n",
        "import pylab as py\n",
        "\n",
        "def detemine_distribution(df, col, dist=scipy.stats.distributions.norm, loc=0, scale=1):\n",
        "    sm.qqplot(df[col], line='45', dist=dist, loc=loc, scale=scale)\n",
        "    py.show()"
      ],
      "execution_count": 100,
      "outputs": []
    },
    {
      "cell_type": "markdown",
      "metadata": {
        "id": "LyxP3KhcLT77"
      },
      "source": [
        "ปฏิบัติการข้อ 5) จงเรียกใช้ฟังก์ชันในข้อ 3 เพื่อระบุลักษณะการกระจายของค่าตัวแปร compactness_mean"
      ]
    },
    {
      "cell_type": "code",
      "metadata": {
        "id": "q1ainSc3LfBM",
        "colab": {
          "base_uri": "https://localhost:8080/",
          "height": 279
        },
        "outputId": "a5583f89-48bc-4df8-93af-435c231ffd8c"
      },
      "source": [
        "# Answer here!\n",
        "\n",
        "detemine_distribution(df, \"compactness_mean\", scipy.stats.distributions.expon, 0.045, 0.05)"
      ],
      "execution_count": 105,
      "outputs": [
        {
          "output_type": "display_data",
          "data": {
            "image/png": "[encoded data removed]",
            "text/plain": [
              "<Figure size 432x288 with 1 Axes>"
            ]
          },
          "metadata": {
            "needs_background": "light"
          }
        }
      ]
    },
    {
      "cell_type": "markdown",
      "metadata": {
        "id": "dfAk9uAENNzr"
      },
      "source": [
        "**Describe the shape of distribution by data visualizing**"
      ]
    },
    {
      "cell_type": "code",
      "metadata": {
        "id": "iKipo3J1Leuo",
        "colab": {
          "base_uri": "https://localhost:8080/",
          "height": 298
        },
        "outputId": "df3b4a4f-1557-44e7-f8f5-110f3d4970e8"
      },
      "source": [
        "# Histogram\n",
        "IQR_radius_mean = df.radius_mean.quantile(0.75) - df.radius_mean.quantile(0.25)\n",
        "n = df.shape[0]   # number of samples\n",
        "h = 2*IQR_radius_mean*(n**(-1/3))   # estimate binwidth using Freedman-Diaconis rule\n",
        "\n",
        "sns.histplot(data=df, x=\"radius_mean\", binwidth=h)"
      ],
      "execution_count": 106,
      "outputs": [
        {
          "output_type": "execute_result",
          "data": {
            "text/plain": [
              "<matplotlib.axes._subplots.AxesSubplot at 0x7fece8308b10>"
            ]
          },
          "metadata": {},
          "execution_count": 106
        },
        {
          "output_type": "display_data",
          "data": {
            "image/png": "[encoded data removed]",
            "text/plain": [
              "<Figure size 432x288 with 1 Axes>"
            ]
          },
          "metadata": {
            "needs_background": "light"
          }
        }
      ]
    },
    {
      "cell_type": "code",
      "metadata": {
        "id": "GUBc8qmLPpnc",
        "colab": {
          "base_uri": "https://localhost:8080/",
          "height": 387
        },
        "outputId": "607463e4-be38-440d-bcf2-01811ec3867f"
      },
      "source": [
        "# Density plot\n",
        "bw = 0.786*IQR_radius_mean*(n**(-1/5)) \n",
        "sns.displot(data=df, x=\"radius_mean\", kind=\"kde\", bw_adjust=bw)"
      ],
      "execution_count": 107,
      "outputs": [
        {
          "output_type": "execute_result",
          "data": {
            "text/plain": [
              "<seaborn.axisgrid.FacetGrid at 0x7fece7a06550>"
            ]
          },
          "metadata": {},
          "execution_count": 107
        },
        {
          "output_type": "display_data",
          "data": {
            "image/png": "[encoded data removed]",
            "text/plain": [
              "<Figure size 360x360 with 1 Axes>"
            ]
          },
          "metadata": {
            "needs_background": "light"
          }
        }
      ]
    },
    {
      "cell_type": "code",
      "metadata": {
        "id": "bXFCWRLlRG2r",
        "colab": {
          "base_uri": "https://localhost:8080/",
          "height": 300
        },
        "outputId": "4d7a990c-e327-4130-f3cd-d6384fa35d3f"
      },
      "source": [
        "# Histogram with conditioning on other variables\n",
        "n = df.shape[0]   # number of samples\n",
        "h = 2*IQR_radius_mean*(n**(-1/3))   # estimate binwidth using Freedman-Diaconis rule\n",
        "\n",
        "sns.histplot(data=df, x=\"radius_mean\",  hue=\"diagnosis\", binwidth=h)"
      ],
      "execution_count": 108,
      "outputs": [
        {
          "output_type": "execute_result",
          "data": {
            "text/plain": [
              "<matplotlib.axes._subplots.AxesSubplot at 0x7fece77e4710>"
            ]
          },
          "metadata": {},
          "execution_count": 108
        },
        {
          "output_type": "display_data",
          "data": {
            "image/png": "[encoded data removed]",
            "text/plain": [
              "<Figure size 432x288 with 1 Axes>"
            ]
          },
          "metadata": {
            "needs_background": "light"
          }
        }
      ]
    },
    {
      "cell_type": "code",
      "metadata": {
        "id": "Ar8KhPcTSqtI",
        "colab": {
          "base_uri": "https://localhost:8080/",
          "height": 270
        },
        "outputId": "fd473629-b117-446b-e5a0-6d150e311166"
      },
      "source": [
        "# Boxplot\n",
        "sns.boxplot(data=df, y=\"radius_mean\")"
      ],
      "execution_count": 109,
      "outputs": [
        {
          "output_type": "execute_result",
          "data": {
            "text/plain": [
              "<matplotlib.axes._subplots.AxesSubplot at 0x7fece7b03990>"
            ]
          },
          "metadata": {},
          "execution_count": 109
        },
        {
          "output_type": "display_data",
          "data": {
            "image/png": "[encoded data removed]",
            "text/plain": [
              "<Figure size 432x288 with 1 Axes>"
            ]
          },
          "metadata": {
            "needs_background": "light"
          }
        }
      ]
    },
    {
      "cell_type": "code",
      "metadata": {
        "id": "l2WpPKodTU-y",
        "colab": {
          "base_uri": "https://localhost:8080/",
          "height": 297
        },
        "outputId": "bbd8b441-b228-4e9f-9b10-eca2cb6ba196"
      },
      "source": [
        "#compare the distributions of a variable for each category \n",
        "sns.boxplot(data=df, x=\"diagnosis\",y='radius_mean')"
      ],
      "execution_count": 110,
      "outputs": [
        {
          "output_type": "execute_result",
          "data": {
            "text/plain": [
              "<matplotlib.axes._subplots.AxesSubplot at 0x7fece7a7a890>"
            ]
          },
          "metadata": {},
          "execution_count": 110
        },
        {
          "output_type": "display_data",
          "data": {
            "image/png": "[encoded data removed]",
            "text/plain": [
              "<Figure size 432x288 with 1 Axes>"
            ]
          },
          "metadata": {
            "needs_background": "light"
          }
        }
      ]
    },
    {
      "cell_type": "code",
      "metadata": {
        "id": "ru0_yxZpTy9y",
        "colab": {
          "base_uri": "https://localhost:8080/",
          "height": 297
        },
        "outputId": "c759ae92-f286-4c0e-fad0-815f5589e463"
      },
      "source": [
        "# Violin Plot\n",
        "sns.violinplot(data=df, x=\"diagnosis\",y='radius_mean')"
      ],
      "execution_count": 111,
      "outputs": [
        {
          "output_type": "execute_result",
          "data": {
            "text/plain": [
              "<matplotlib.axes._subplots.AxesSubplot at 0x7fece82571d0>"
            ]
          },
          "metadata": {},
          "execution_count": 111
        },
        {
          "output_type": "display_data",
          "data": {
            "image/png": "[encoded data removed]",
            "text/plain": [
              "<Figure size 432x288 with 1 Axes>"
            ]
          },
          "metadata": {
            "needs_background": "light"
          }
        }
      ]
    },
    {
      "cell_type": "markdown",
      "metadata": {
        "id": "2FfPmirCUJNz"
      },
      "source": [
        "ปฏิบัติการข้อ 6) จงสร้างภาพนำเสนอการกระจายของค่าข้อมูลตัวแปร area_mean"
      ]
    },
    {
      "cell_type": "code",
      "metadata": {
        "id": "l2Vt5-T8UI3H",
        "colab": {
          "base_uri": "https://localhost:8080/",
          "height": 297
        },
        "outputId": "cc268f3c-ff07-4e56-cf7f-c7823e0194f8"
      },
      "source": [
        "# Answer here!\n",
        "col = \"area_mean\"\n",
        "IQR = df[col].quantile(0.75) - df[col].quantile(0.25)\n",
        "n = df.shape[0]   # number of samples\n",
        "h = 2 * IQR * (n**(-1/3))   # estimate binwidth using Freedman-Diaconis rule\n",
        "\n",
        "sns.histplot(data=df, x=col, binwidth=h)"
      ],
      "execution_count": 114,
      "outputs": [
        {
          "output_type": "execute_result",
          "data": {
            "text/plain": [
              "<matplotlib.axes._subplots.AxesSubplot at 0x7fecdcec3f50>"
            ]
          },
          "metadata": {},
          "execution_count": 114
        },
        {
          "output_type": "display_data",
          "data": {
            "image/png": "[encoded data removed]",
            "text/plain": [
              "<Figure size 432x288 with 1 Axes>"
            ]
          },
          "metadata": {
            "needs_background": "light"
          }
        }
      ]
    },
    {
      "cell_type": "markdown",
      "metadata": {
        "id": "1ql-5UVxU7BC"
      },
      "source": [
        "ปฏิบัติการข้อ 7) การกระจายของค่าตัวแปร area_mean ในผู้ป่วยที่เป็นโรคมะเร็งเต้านม และผู้ป่วยที่ไม่ได้เป็นโรคมะเร็งเต้านม มีความแตกต่างกันหรือไม่"
      ]
    },
    {
      "cell_type": "code",
      "metadata": {
        "id": "x8fPUFOUU6Qe",
        "colab": {
          "base_uri": "https://localhost:8080/",
          "height": 297
        },
        "outputId": "a60375db-9420-49bf-d84f-dc997c648474"
      },
      "source": [
        "# Answer here!\n",
        "# Different Distribution\n",
        "sns.violinplot(data=df, x=\"diagnosis\",y='area_mean')"
      ],
      "execution_count": 115,
      "outputs": [
        {
          "output_type": "execute_result",
          "data": {
            "text/plain": [
              "<matplotlib.axes._subplots.AxesSubplot at 0x7fece7942890>"
            ]
          },
          "metadata": {},
          "execution_count": 115
        },
        {
          "output_type": "display_data",
          "data": {
            "image/png": "[encoded data removed]",
            "text/plain": [
              "<Figure size 432x288 with 1 Axes>"
            ]
          },
          "metadata": {
            "needs_background": "light"
          }
        }
      ]
    },
    {
      "cell_type": "markdown",
      "metadata": {
        "id": "Bqfg8cZ6VeHv"
      },
      "source": [
        "ปฏิบัติการข้อ 8) จงเขียนฟังก์ชันแสดงค่าผิดปรกติของค่าตัวแปรหนึ่ง (var1) ในแต่ละกลุ่มข้อมูลที่แบ่งแยกด้วยค่าแปรเชิงกลุ่มอีกตัวแปรหนึ่ง (var2)"
      ]
    },
    {
      "cell_type": "code",
      "metadata": {
        "id": "S1HbbBFRW_NU"
      },
      "source": [
        "def display_outliers(data, var1, var2):\n",
        "    '''data is a dataframe\n",
        "    var1 is the name of a variable which you want to detect outliers\n",
        "    var2 is the name of a categorical variable'''\n",
        "    # Answer here!\n",
        "\n",
        "    IQR = df.groupby(var2)[var1].quantile(0.75) - df.groupby(var2)[var1].quantile(0.25)\n",
        "    Lower_limit = df.groupby(var2)[var1].quantile(0.25) - 1.5 * IQR\n",
        "    Upper_limit = df.groupby(var2)[var1].quantile(0.75) + 1.5 * IQR\n",
        "\n",
        "    results = df[:0]\n",
        "    for i in IQR.index:\n",
        "        results.append()\n",
        "    return df[((df[col] < Lower_limit) | (df[col] > Upper_limit))]"
      ],
      "execution_count": null,
      "outputs": []
    },
    {
      "cell_type": "code",
      "metadata": {
        "colab": {
          "base_uri": "https://localhost:8080/"
        },
        "id": "p_NNWx16LdtP",
        "outputId": "b9279d5c-4ece-472d-e0f4-3a3d62dfde4c"
      },
      "source": [
        "df.groupby(\"diagnosis\")[\"radius_mean\"].mean()\n",
        "IQR = df.groupby(\"diagnosis\")[\"radius_mean\"].quantile(0.75) - df.groupby(\"diagnosis\")[\"radius_mean\"].quantile(0.25)\n",
        "[i for i in IQR.index]"
      ],
      "execution_count": 120,
      "outputs": [
        {
          "output_type": "execute_result",
          "data": {
            "text/plain": [
              "['B', 'M']"
            ]
          },
          "metadata": {},
          "execution_count": 120
        }
      ]
    },
    {
      "cell_type": "markdown",
      "metadata": {
        "id": "BapxP5a5XnoO"
      },
      "source": [
        "ปฏิบัติการข้อ 9) จงปรับปรุงฟังก์ชันในข้อ 8 ให้สามารถส่งข้อมูล (index ของข้อมูล) ที่มีค่าผิดปรกติกลับเป็นข้อมูลออก"
      ]
    },
    {
      "cell_type": "code",
      "metadata": {
        "id": "ZBbLG6ahYCI4"
      },
      "source": [
        "def detect_display_outliers(data, var1, var2):\n",
        "'''data is a dataframe\n",
        "  var1 is the name of a variable which you want to detect outliers\n",
        "  var2 is the name of a categorical variable'''\n",
        "  outliers = []\n",
        "  # Answer here!\n",
        "\n",
        "  return outliers"
      ],
      "execution_count": null,
      "outputs": []
    },
    {
      "cell_type": "markdown",
      "metadata": {
        "id": "CGcwbL4qYKyU"
      },
      "source": [
        "ปฏิบัติการข้อ 10) จงเรียกใช้ฟังก์ชันในข้อ 9 เพื่อตรวจหาค่าของตัวแปร compactness_mean ที่อาจเป็นข้อมูลผิดปรกติในแต่ละกลุ่มตามค่าตัวแปร diagnosis"
      ]
    },
    {
      "cell_type": "code",
      "metadata": {
        "id": "_zD0aKppYl_3"
      },
      "source": [
        "# Answer here!"
      ],
      "execution_count": null,
      "outputs": []
    }
  ]
}