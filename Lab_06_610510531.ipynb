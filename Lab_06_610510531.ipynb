{
  "nbformat": 4,
  "nbformat_minor": 0,
  "metadata": {
    "colab": {
      "name": "Lab_06_XXXXXXXXX.ipynb",
      "provenance": [],
      "collapsed_sections": []
    },
    "kernelspec": {
      "name": "python3",
      "display_name": "Python 3"
    },
    "language_info": {
      "name": "python"
    }
  },
  "cells": [
    {
      "cell_type": "markdown",
      "metadata": {
        "id": "ocefQLJIUuuk"
      },
      "source": [
        "# **Workshop 6: Clean Missing Data**\n",
        "**คำสั่ง**\n",
        "\n",
        "1.   ศึกษาวิธีการเติมข้อมูลสูญหายเบื้องต้นต่อไปนี้\n",
        "2.   ทำการเติมข้อมูลสูญหายทุกตัวแปรด้วยวิธีที่เหมาะสม \n",
        "3.   ตั้งชื่อไฟล์ python notebook นี้ในรูปแบบ Lab_06_XXXXXXXXX.ipynb โดย XXXXXXXXX คือ รหัสนักศึกษา\n",
        "4.   ทำการดาวน์โหลดและส่งไฟล์ Lab_06_XXXXXXXXX.ipynb ที่เว็บไซต์ http://hw.cs.science.cmu.ac.th "
      ]
    },
    {
      "cell_type": "code",
      "metadata": {
        "id": "paLTi4i6UuAN"
      },
      "source": [
        "import pandas as pd\n",
        "import numpy as np"
      ],
      "execution_count": null,
      "outputs": []
    },
    {
      "cell_type": "code",
      "metadata": {
        "id": "O6JCM0gjcMvW"
      },
      "source": [
        "nfl_data = pd.read_csv(\"NFL.csv\")\n",
        "nfl_data.head()"
      ],
      "execution_count": null,
      "outputs": []
    },
    {
      "cell_type": "markdown",
      "metadata": {
        "id": "xnmlJ38DDfU4"
      },
      "source": [
        "**Check missing data**"
      ]
    },
    {
      "cell_type": "code",
      "metadata": {
        "id": "S7mMzjNTrm1V"
      },
      "source": [
        "# get the number of missing data points per column\n",
        "missing_values_count = nfl_data.isnull().sum()\n",
        "\n",
        "# look at the # of missing points in the first ten columns\n",
        "missing_values_count[0:10]"
      ],
      "execution_count": null,
      "outputs": []
    },
    {
      "cell_type": "code",
      "metadata": {
        "id": "HqiMSpAmD9rd"
      },
      "source": [
        "# how many total missing values do we have?\n",
        "total_cells = np.product(nfl_data.shape)\n",
        "total_missing = missing_values_count.sum()\n",
        "\n",
        "# percent of data that is missing\n",
        "percent_missing = (total_missing/total_cells) * 100\n",
        "print(percent_missing)"
      ],
      "execution_count": null,
      "outputs": []
    },
    {
      "cell_type": "markdown",
      "metadata": {
        "id": "t4TNSnu0EYnO"
      },
      "source": [
        "**Drop missing values**"
      ]
    },
    {
      "cell_type": "code",
      "metadata": {
        "id": "NdY3IZWwENlW"
      },
      "source": [
        "# remove all the rows that contain a missing value\n",
        "nfl_data.dropna()"
      ],
      "execution_count": null,
      "outputs": []
    },
    {
      "cell_type": "code",
      "metadata": {
        "id": "8DT2jpDIH98R"
      },
      "source": [
        "# remove all the rows that contain a missing value in specific columns\n",
        "nfl_data.dropna(subset=['down'])"
      ],
      "execution_count": null,
      "outputs": []
    },
    {
      "cell_type": "code",
      "metadata": {
        "id": "T2bDgaYgE4RQ"
      },
      "source": [
        "# remove all columns with at least one missing value\n",
        "nfl_data.dropna(axis=1)"
      ],
      "execution_count": null,
      "outputs": []
    },
    {
      "cell_type": "markdown",
      "metadata": {
        "id": "K5qajXYwIKFv"
      },
      "source": [
        "**Impute missing data**"
      ]
    },
    {
      "cell_type": "code",
      "metadata": {
        "id": "hmqee7tQLMYK"
      },
      "source": [
        "# fill all missing with a value\n",
        "results = nfl_data.fillna(0)\n",
        "results.isnull().sum()"
      ],
      "execution_count": null,
      "outputs": []
    },
    {
      "cell_type": "code",
      "metadata": {
        "id": "JPwZi5k3II2T"
      },
      "source": [
        "# fill missing values in a specific column with a value\n",
        "results = nfl_data\n",
        "results['down'].fillna(0, inplace = True)\n",
        "results.isnull().sum()"
      ],
      "execution_count": null,
      "outputs": []
    },
    {
      "cell_type": "code",
      "metadata": {
        "id": "fJylCGekMYTv"
      },
      "source": [
        "# fill missing values in a specific column with mean\n",
        "results = nfl_data\n",
        "results['down'].fillna(results['down'].mean(), inplace = True)\n",
        "results.isnull().sum()"
      ],
      "execution_count": null,
      "outputs": []
    },
    {
      "cell_type": "markdown",
      "metadata": {
        "id": "H19ZkSPkVrnZ"
      },
      "source": [
        "ปฏิบัติการข้อ 1) ให้นักศึกษาเติมข้อมูลสูญหายของตัวแปรทั้งหมดที่มีข้อมูลสูญหาย จะใช้วิธีการใดก็ได้ ตามความเหมาะสม พร้อมเขียนอธิบาย"
      ]
    },
    {
      "cell_type": "code",
      "metadata": {
        "id": "JFCIQR7oVlQi"
      },
      "source": [
        "# Answer here!\n",
        "\n"
      ],
      "execution_count": null,
      "outputs": []
    }
  ]
}