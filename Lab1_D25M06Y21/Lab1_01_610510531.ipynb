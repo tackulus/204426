{
  "nbformat": 4,
  "nbformat_minor": 5,
  "metadata": {
    "kernelspec": {
      "display_name": "Python 3",
      "language": "python",
      "name": "python3"
    },
    "language_info": {
      "codemirror_mode": {
        "name": "ipython",
        "version": 3
      },
      "file_extension": ".py",
      "mimetype": "text/x-python",
      "name": "python",
      "nbconvert_exporter": "python",
      "pygments_lexer": "ipython3",
      "version": "3.8.5"
    },
    "colab": {
      "name": "Lab1_01_610510531.ipynb",
      "provenance": [],
      "include_colab_link": true
    }
  },
  "cells": [
    {
      "cell_type": "markdown",
      "metadata": {
        "id": "view-in-github",
        "colab_type": "text"
      },
      "source": [
        "<a href=\"https://colab.research.google.com/github/tackulus/204426/blob/main/Lab1_D25M06Y21/Lab1_01_610510531.ipynb\" target=\"_parent\"><img src=\"https://colab.research.google.com/assets/colab-badge.svg\" alt=\"Open In Colab\"/></a>"
      ]
    },
    {
      "cell_type": "markdown",
      "metadata": {
        "id": "3UdodVPd8TXP"
      },
      "source": [
        "# **Workshop 1: Pandas Library (1)**\n",
        "**คำสั่ง** \n",
        "\n",
        "1.   ศึกษาวิธีการใช้งาน Pandas Library เบื้องต้นต่อไปนี้\n",
        "2.   ทดลองใช้งานฟังก์ชันใน Pandas Library ตามคำสั่งปฏิบัติการแต่ละข้อ\n",
        "3.   ตั้งชื่อไฟล์ python notebook นี้ในรูปแบบ Lab_01_XXXXXXXXX.ipynb โดย XXXXXXXXX คือ รหัสนักศึกษา\n",
        "4.   ทำการดาวน์โหลดและส่งไฟล์ Lab_01_XXXXXXXXX.ipynb ที่เว็บไซต์ http://hw.cs.science.cmu.ac.th "
      ],
      "id": "3UdodVPd8TXP"
    },
    {
      "cell_type": "code",
      "metadata": {
        "id": "mediterranean-cycling"
      },
      "source": [
        "import pandas as pd\n",
        "import numpy as np"
      ],
      "id": "mediterranean-cycling",
      "execution_count": null,
      "outputs": []
    },
    {
      "cell_type": "markdown",
      "metadata": {
        "id": "XdpK343y-_-u"
      },
      "source": [
        "**การสร้าง data frames โดยใช้ pandas library**"
      ],
      "id": "XdpK343y-_-u"
    },
    {
      "cell_type": "code",
      "metadata": {
        "id": "mounted-feature"
      },
      "source": [
        "## Creating a DataFrames\n",
        "# Specify values for each column.\n",
        "df = pd.DataFrame({\"a\" : [4 ,5, 6],\n",
        "                   \"b\" : [7, 8, 9],\n",
        "                   \"c\" : [10, 11, 12]},\n",
        "                  index = [1, 2, 3])\n",
        "df.head()"
      ],
      "id": "mounted-feature",
      "execution_count": null,
      "outputs": []
    },
    {
      "cell_type": "code",
      "metadata": {
        "id": "placed-slide"
      },
      "source": [
        "# Specify values for each row\n",
        "df = pd.DataFrame([[4, 7, 10],\n",
        "                   [5, 8, 11],\n",
        "                   [6, 9, 12]],\n",
        "                  columns=['a', 'b', 'c'],index=[1, 2, 3])\n",
        "df.head()"
      ],
      "id": "placed-slide",
      "execution_count": null,
      "outputs": []
    },
    {
      "cell_type": "markdown",
      "metadata": {
        "id": "kekPFxqV_ShV"
      },
      "source": [
        "ปฏิบัติการข้อ 1) จงสร้าง data frames ที่จัดเก็บตัวแปร 3 ตัวแปร คือ ชื่อ(First Name) สกุล (Last Name) คณะ (Faculty) และ GPA ของข้อมูลนักศึกษา 5 คน ต่อไปนี้\n",
        "\n",
        "\n",
        "1.   ANJIRA LUANGSAN   Science   GPA: 3.24\n",
        "2.   NATTAWUT KANYA   Engineering   GPA: 2.98\n",
        "3.   BENYAPHA BUABAN   Medicine   GPA: 3.67\n",
        "4.   THITILUK MORASIL    Science   GPA: 3.05\n",
        "5.   VIPUT UEAPITAKSAKUL   Social Science   GPA: 2.00\n",
        "\n",
        "\n"
      ],
      "id": "kekPFxqV_ShV"
    },
    {
      "cell_type": "code",
      "metadata": {
        "id": "OXZx8kOj_RYM"
      },
      "source": [
        "# Answer here"
      ],
      "id": "OXZx8kOj_RYM",
      "execution_count": null,
      "outputs": []
    },
    {
      "cell_type": "markdown",
      "metadata": {
        "id": "4bP1tkxZBZZH"
      },
      "source": [
        "**การอ่านข้อมูลจากไฟล์**"
      ],
      "id": "4bP1tkxZBZZH"
    },
    {
      "cell_type": "code",
      "metadata": {
        "id": "satisfactory-clinic"
      },
      "source": [
        "## Read data from CVS file\n",
        "data = pd.read_csv(\"adult.csv\")\n",
        "data.head()"
      ],
      "id": "satisfactory-clinic",
      "execution_count": null,
      "outputs": []
    },
    {
      "cell_type": "markdown",
      "metadata": {
        "id": "gzyh2NJxBrL3"
      },
      "source": [
        "**การสอบถามข้อมูล**"
      ],
      "id": "gzyh2NJxBrL3"
    },
    {
      "cell_type": "code",
      "metadata": {
        "id": "celtic-fault"
      },
      "source": [
        "## Query observations \n",
        "# Query by conditions\n",
        "selectedData = data[data.age >= 60]\n",
        "selectedData.head()"
      ],
      "id": "celtic-fault",
      "execution_count": null,
      "outputs": []
    },
    {
      "cell_type": "code",
      "metadata": {
        "id": "zU8rN2odCjvK"
      },
      "source": [
        "selectedData = data[(data.age >= 60) & (data['sex'] == 'Male')]\n",
        "selectedData.head()"
      ],
      "id": "zU8rN2odCjvK",
      "execution_count": null,
      "outputs": []
    },
    {
      "cell_type": "code",
      "metadata": {
        "id": "generous-reflection"
      },
      "source": [
        "# Query by indexes\n",
        "data.iloc[10:20]"
      ],
      "id": "generous-reflection",
      "execution_count": null,
      "outputs": []
    },
    {
      "cell_type": "code",
      "metadata": {
        "id": "dramatic-forty"
      },
      "source": [
        "# Select and order top n entries\n",
        "data.nlargest(10, 'age')"
      ],
      "id": "dramatic-forty",
      "execution_count": null,
      "outputs": []
    },
    {
      "cell_type": "code",
      "metadata": {
        "id": "constitutional-source"
      },
      "source": [
        "# Select and order bottom n entries\n",
        "data.nsmallest(5, 'age')"
      ],
      "id": "constitutional-source",
      "execution_count": null,
      "outputs": []
    },
    {
      "cell_type": "markdown",
      "metadata": {
        "id": "TbxnRWjzBz7Z"
      },
      "source": [
        "ปฏิบัติการข้อ 2)  จงสอบถามข้อมูลที่ค่าตัวแปร occupation มีค่าเท่ากับ ?"
      ],
      "id": "TbxnRWjzBz7Z"
    },
    {
      "cell_type": "code",
      "metadata": {
        "id": "accredited-impression"
      },
      "source": [
        "# Answer here"
      ],
      "id": "accredited-impression",
      "execution_count": null,
      "outputs": []
    },
    {
      "cell_type": "markdown",
      "metadata": {
        "id": "yTzkZE3zCBxp"
      },
      "source": [
        "ปฏิบัติการข้อ 3) จงสอบถามข้อมูลของผู้หญิงทั้งหมด"
      ],
      "id": "yTzkZE3zCBxp"
    },
    {
      "cell_type": "code",
      "metadata": {
        "id": "rotary-density"
      },
      "source": [
        "# Answer here"
      ],
      "id": "rotary-density",
      "execution_count": null,
      "outputs": []
    },
    {
      "cell_type": "markdown",
      "metadata": {
        "id": "tRObasBACLJb"
      },
      "source": [
        "ปฏิบัติการข้อ 4) จงสอบถามข้อมูลของผู้หญิงทั้งหมดที่มีผิวขาว\n",
        "\n",
        "\n"
      ],
      "id": "tRObasBACLJb"
    },
    {
      "cell_type": "code",
      "metadata": {
        "id": "devoted-nebraska"
      },
      "source": [
        "# Answer here"
      ],
      "id": "devoted-nebraska",
      "execution_count": null,
      "outputs": []
    },
    {
      "cell_type": "markdown",
      "metadata": {
        "id": "Sb4hoGDuC24a"
      },
      "source": [
        "ปฏิบัติการข้อ 5) จงสอบถามข้อมูลของคนที่มีชั่วโมงทำงานมากที่สุด 10 อันดับแรก"
      ],
      "id": "Sb4hoGDuC24a"
    },
    {
      "cell_type": "code",
      "metadata": {
        "id": "MThVqdYXDIy4"
      },
      "source": [
        "# Answer here"
      ],
      "id": "MThVqdYXDIy4",
      "execution_count": null,
      "outputs": []
    },
    {
      "cell_type": "markdown",
      "metadata": {
        "id": "BXIz7v9PDJIc"
      },
      "source": [
        "ปฏิบัติการข้อ 6) จงเลือกข้อมูลในแถวข้อมูลที่ 30,000 ถึงข้อมูลแถวสุดท้าย"
      ],
      "id": "BXIz7v9PDJIc"
    },
    {
      "cell_type": "code",
      "metadata": {
        "id": "aJUXRhoUDYcF"
      },
      "source": [
        "# Answer here"
      ],
      "id": "aJUXRhoUDYcF",
      "execution_count": null,
      "outputs": []
    },
    {
      "cell_type": "markdown",
      "metadata": {
        "id": "iMCrp-RlDk-K"
      },
      "source": [
        "**การเลือกตัวแปร**"
      ],
      "id": "iMCrp-RlDk-K"
    },
    {
      "cell_type": "code",
      "metadata": {
        "id": "premium-binding"
      },
      "source": [
        "## Slice Variables (Column)\n",
        "# Select columns with specific names\n",
        "data[['age','education','education.num']]"
      ],
      "id": "premium-binding",
      "execution_count": null,
      "outputs": []
    },
    {
      "cell_type": "code",
      "metadata": {
        "id": "residential-synthetic"
      },
      "source": [
        "# Select columns with positions\n",
        "data.iloc[:,[1,2]]"
      ],
      "id": "residential-synthetic",
      "execution_count": null,
      "outputs": []
    },
    {
      "cell_type": "code",
      "metadata": {
        "id": "missing-projection"
      },
      "source": [
        "# Select all columns between two columns\n",
        "data.loc[:,'education':'occupation']"
      ],
      "id": "missing-projection",
      "execution_count": null,
      "outputs": []
    },
    {
      "cell_type": "code",
      "metadata": {
        "id": "progressive-programmer"
      },
      "source": [
        "# Select columns by regular expression\n",
        "data.filter(regex='^capital.')"
      ],
      "id": "progressive-programmer",
      "execution_count": null,
      "outputs": []
    },
    {
      "cell_type": "markdown",
      "metadata": {
        "id": "LFJErVJEDr2l"
      },
      "source": [
        "ปฏิบัติการข้อ 7) จงเลือกตัวแปรที่ขึ้นต้นด้วยคำว่า education"
      ],
      "id": "LFJErVJEDr2l"
    },
    {
      "cell_type": "code",
      "metadata": {
        "id": "divine-addiction"
      },
      "source": [
        "# Answer here"
      ],
      "id": "divine-addiction",
      "execution_count": null,
      "outputs": []
    },
    {
      "cell_type": "markdown",
      "metadata": {
        "id": "PIczNoGMD6v_"
      },
      "source": [
        "ปฏิบัติการข้อ 8) จงเลือกข้อมูลของคนที่มีชั่วโมงทำงานน้อยกว่าหรือเท่ากับ 15 ชั่วโมง และนำมาเฉพาะค่าตัวแปร education และ age"
      ],
      "id": "PIczNoGMD6v_"
    },
    {
      "cell_type": "code",
      "metadata": {
        "id": "joint-breast"
      },
      "source": [
        "# Answer here"
      ],
      "id": "joint-breast",
      "execution_count": null,
      "outputs": []
    },
    {
      "cell_type": "markdown",
      "metadata": {
        "id": "PXDdZyf6EN6s"
      },
      "source": [
        "**การเข้าถึงและแก้ไขข้อมูล**"
      ],
      "id": "PXDdZyf6EN6s"
    },
    {
      "cell_type": "code",
      "metadata": {
        "id": "PhT5pqkyEUXv"
      },
      "source": [
        "## access data\n",
        "print(data.loc[15])\n",
        "print(data.loc[0:5,['age','sex']])"
      ],
      "id": "PhT5pqkyEUXv",
      "execution_count": null,
      "outputs": []
    },
    {
      "cell_type": "code",
      "metadata": {
        "id": "laden-berlin"
      },
      "source": [
        "## Maniplate data\n",
        "data.loc[0,['age']] = 50\n",
        "data.head()"
      ],
      "id": "laden-berlin",
      "execution_count": null,
      "outputs": []
    },
    {
      "cell_type": "code",
      "metadata": {
        "id": "married-cutting"
      },
      "source": [
        "data.loc[data.workclass == '?',['workclass']] = np.NaN\n",
        "data.head()"
      ],
      "id": "married-cutting",
      "execution_count": null,
      "outputs": []
    },
    {
      "cell_type": "markdown",
      "metadata": {
        "id": "hjWU0MYdGE2O"
      },
      "source": [
        "ปฏิบัติการข้อ 9) จงแทนค่าตัวแปร occupation ที่มีค่าเท่ากับ ? ด้วยค่า NaN"
      ],
      "id": "hjWU0MYdGE2O"
    },
    {
      "cell_type": "code",
      "metadata": {
        "scrolled": false,
        "id": "necessary-gallery"
      },
      "source": [
        "# Answer here"
      ],
      "id": "necessary-gallery",
      "execution_count": null,
      "outputs": []
    },
    {
      "cell_type": "markdown",
      "metadata": {
        "id": "-i1JfNB_GZRW"
      },
      "source": [
        "**การคำนวณค่าสถิติเชิงพรรณนาสำหรับอธิบายข้อมูล**"
      ],
      "id": "-i1JfNB_GZRW"
    },
    {
      "cell_type": "code",
      "metadata": {
        "id": "biological-pressing"
      },
      "source": [
        "## Summarize data\n",
        "# - value_counts()\n",
        "# - nunique()\n",
        "# - describe()\n",
        "# - sum() \n",
        "# - count() \n",
        "# - median() \n",
        "# - quantile([0.25,0.75])\n",
        "# - min() \n",
        "# - max() \n",
        "# - mean() \n",
        "# - var() \n",
        "# - std()\n",
        "data['age'].quantile([0.25,0.75])"
      ],
      "id": "biological-pressing",
      "execution_count": null,
      "outputs": []
    },
    {
      "cell_type": "markdown",
      "metadata": {
        "id": "YYex67YyGusf"
      },
      "source": [
        "ปฏิบัติการข้อ 10) จงคำนวณคำสำหรับอธิบายลักษณะการกระจายของตัวแปร education.num"
      ],
      "id": "YYex67YyGusf"
    },
    {
      "cell_type": "code",
      "metadata": {
        "id": "KOWeZSceG_gk"
      },
      "source": [
        "# Answer here"
      ],
      "id": "KOWeZSceG_gk",
      "execution_count": null,
      "outputs": []
    },
    {
      "cell_type": "markdown",
      "metadata": {
        "id": "G0PbFVSpHBuH"
      },
      "source": [
        "ปฏิบัติการข้อ 11) จงหาค่าที่เป็นไปได้ทั้งหมดของตัวแปร education"
      ],
      "id": "G0PbFVSpHBuH"
    },
    {
      "cell_type": "code",
      "metadata": {
        "id": "U2FmWez2HHiR"
      },
      "source": [
        "# Answer here"
      ],
      "id": "U2FmWez2HHiR",
      "execution_count": null,
      "outputs": []
    },
    {
      "cell_type": "markdown",
      "metadata": {
        "id": "-Ivf0PYLHNF8"
      },
      "source": [
        "**การวนเข้าถึงข้อมูลแต่ละแถว**"
      ],
      "id": "-Ivf0PYLHNF8"
    },
    {
      "cell_type": "code",
      "metadata": {
        "id": "periodic-patrol"
      },
      "source": [
        "## Iterate over rows \n",
        "for index, row in data.iterrows():\n",
        "    print(index, row['marital.status'])"
      ],
      "id": "periodic-patrol",
      "execution_count": null,
      "outputs": []
    },
    {
      "cell_type": "markdown",
      "metadata": {
        "id": "6UkbgSLeH3sA"
      },
      "source": [
        "ปฏิบัติการข้อ 12) จงคำนวณค่าเฉลี่ยอายุของข้อมูลทั้งหมดโดย*ไม่ใช้*ฟังก์ชัน mean หรือ average"
      ],
      "id": "6UkbgSLeH3sA"
    },
    {
      "cell_type": "code",
      "metadata": {
        "id": "revised-sauce"
      },
      "source": [
        "# Answer here"
      ],
      "id": "revised-sauce",
      "execution_count": null,
      "outputs": []
    },
    {
      "cell_type": "markdown",
      "metadata": {
        "id": "RzMDbw4eIMEl"
      },
      "source": [
        "ปฏิบัติการข้อ 13) จงคำนวณผลกำไร (profit) จากการลงทุน (Capital)  และจัดเก็บเป็นอีกตัวแปรหนึ่ง ชื่อ profit ของข้อมูลแต่ละคน แล้วคำนวณค่าเฉลี่ยผลกำไร"
      ],
      "id": "RzMDbw4eIMEl"
    },
    {
      "cell_type": "code",
      "metadata": {
        "id": "induced-split"
      },
      "source": [
        "# Answer here"
      ],
      "id": "induced-split",
      "execution_count": null,
      "outputs": []
    }
  ]
}