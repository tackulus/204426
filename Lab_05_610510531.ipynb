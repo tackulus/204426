{
  "nbformat": 4,
  "nbformat_minor": 0,
  "metadata": {
    "colab": {
      "name": "Lab_05_610510531.ipynb",
      "provenance": [],
      "collapsed_sections": [],
      "include_colab_link": true
    },
    "kernelspec": {
      "name": "python3",
      "display_name": "Python 3"
    },
    "language_info": {
      "name": "python"
    }
  },
  "cells": [
    {
      "cell_type": "markdown",
      "metadata": {
        "id": "view-in-github",
        "colab_type": "text"
      },
      "source": [
        "<a href=\"https://colab.research.google.com/github/tackulus/204426/blob/main/Lab_05_610510531.ipynb\" target=\"_parent\"><img src=\"https://colab.research.google.com/assets/colab-badge.svg\" alt=\"Open In Colab\"/></a>"
      ]
    },
    {
      "cell_type": "markdown",
      "metadata": {
        "id": "ocefQLJIUuuk"
      },
      "source": [
        "# **Workshop 5: Data Quality**\n",
        "**คำสั่ง**\n",
        "\n",
        "1.   ศึกษาวิธีการตรวจสอบคุณภาพของข้อมูลชุดข้อมูล transaction data \n",
        "2.   ทำการตรวจสอบคุณภาพของข้อมูล ชุดข้อมูล customer data  โดยทำปฏิบัติการแต่ละข้อ\n",
        "3.   ตั้งชื่อไฟล์ python notebook นี้ในรูปแบบ Lab_05_XXXXXXXXX.ipynb โดย XXXXXXXXX คือ รหัสนักศึกษา\n",
        "4.   ทำการดาวน์โหลดและส่งไฟล์ Lab_05_XXXXXXXXX.ipynb ที่เว็บไซต์ http://hw.cs.science.cmu.ac.th "
      ]
    },
    {
      "cell_type": "code",
      "metadata": {
        "id": "DECroxmPP2eF"
      },
      "source": [
        "%%capture\n",
        "!wget -O customer_data.csv \\\n",
        "    https://raw.githubusercontent.com/tackulus/204426/main/dataset/customer_data.csv\n",
        "!wget -O transaction_data.csv \\\n",
        "    https://raw.githubusercontent.com/tackulus/204426/main/dataset/transaction_data.csv"
      ],
      "execution_count": null,
      "outputs": []
    },
    {
      "cell_type": "code",
      "metadata": {
        "id": "paLTi4i6UuAN"
      },
      "source": [
        "import pandas as pd\n",
        "import numpy as np"
      ],
      "execution_count": null,
      "outputs": []
    },
    {
      "cell_type": "code",
      "metadata": {
        "id": "vP2JKu8tVa8k"
      },
      "source": [
        "transaction_data = pd.read_csv(\"transaction_data.csv\", na_values=-999)\n",
        "transaction_data"
      ],
      "execution_count": null,
      "outputs": []
    },
    {
      "cell_type": "markdown",
      "metadata": {
        "id": "BBRgUzfhX54H"
      },
      "source": [
        "# Missing values"
      ]
    },
    {
      "cell_type": "code",
      "metadata": {
        "id": "JGay65dtX5O5"
      },
      "source": [
        "# detect missing values\n",
        "missingValues = transaction_data.isna()\n",
        "print(missingValues)"
      ],
      "execution_count": null,
      "outputs": []
    },
    {
      "cell_type": "code",
      "metadata": {
        "id": "exSfVGwrbRsb"
      },
      "source": [
        "# count the number of missing data\n",
        "num_missing = missingValues.values.sum()\n",
        "print(num_missing)"
      ],
      "execution_count": null,
      "outputs": []
    },
    {
      "cell_type": "code",
      "metadata": {
        "id": "W3ZrJYSabKOW"
      },
      "source": [
        "# count the number of rows having missing data\n",
        "row_missing = missingValues.sum(axis=1)\n",
        "print(row_missing)\n",
        "num_row_missing = np.count_nonzero(row_missing)\n",
        "print(\"There are %d rows contain missing values\"%(num_row_missing))"
      ],
      "execution_count": null,
      "outputs": []
    },
    {
      "cell_type": "code",
      "metadata": {
        "id": "5DO60alSY7it"
      },
      "source": [
        "# count the number of columns having missing data\n",
        "col_missing = missingValues.sum()\n",
        "print(col_missing)\n",
        "num_col_missing = np.count_nonzero(col_missing)\n",
        "print(\"There are %d columns contain missing values\"%(num_col_missing))"
      ],
      "execution_count": null,
      "outputs": []
    },
    {
      "cell_type": "markdown",
      "metadata": {
        "id": "ugj-uSPgqg3I"
      },
      "source": [
        "# Duplicated records"
      ]
    },
    {
      "cell_type": "code",
      "metadata": {
        "id": "F2iGEoujr3PI"
      },
      "source": [
        "transaction_data[transaction_data.duplicated(['cust_id'])]"
      ],
      "execution_count": null,
      "outputs": []
    },
    {
      "cell_type": "code",
      "metadata": {
        "id": "HGIb-JeLsdIh"
      },
      "source": [
        "transaction_data[transaction_data.duplicated(['txn_id'])]"
      ],
      "execution_count": null,
      "outputs": []
    },
    {
      "cell_type": "code",
      "metadata": {
        "id": "DE-7GqoGshwJ"
      },
      "source": [
        "transaction_data[transaction_data.duplicated(['txn_id','cust_id'])]"
      ],
      "execution_count": null,
      "outputs": []
    },
    {
      "cell_type": "markdown",
      "metadata": {
        "id": "H19ZkSPkVrnZ"
      },
      "source": [
        "ปฏิบัติการข้อ 1) จงอ่านชุดข้อมูล Customer Data จากไฟล์ customer_data.csv โดยเก็บไว้ในตัวแปล customer_data (ข้อมูลสูญหาย ถูกแทนด้วยช่องว่าง)"
      ]
    },
    {
      "cell_type": "code",
      "metadata": {
        "id": "JFCIQR7oVlQi"
      },
      "source": [
        "# Answer here!"
      ],
      "execution_count": null,
      "outputs": []
    },
    {
      "cell_type": "markdown",
      "metadata": {
        "id": "WJw1HTMVuTO7"
      },
      "source": [
        "ปฏิบัติการข้อ 2) จงนับจำนวนข้อมูลสูญหายทั้งหมดในชุดข้อมูล Customer Data "
      ]
    },
    {
      "cell_type": "code",
      "metadata": {
        "id": "DBe_TA2DufOi"
      },
      "source": [
        "# Answer here!"
      ],
      "execution_count": null,
      "outputs": []
    },
    {
      "cell_type": "markdown",
      "metadata": {
        "id": "OyghuCrIvx6O"
      },
      "source": [
        "ปฏิบัติการข้อ 3) จงนับจำนวนคอลัมน์ในชุดข้อมูล Customer Data ที่มีข้อมูลสูญหาย"
      ]
    },
    {
      "cell_type": "code",
      "metadata": {
        "id": "Arn1MYnzvvbQ"
      },
      "source": [
        "# Answer here!"
      ],
      "execution_count": null,
      "outputs": []
    },
    {
      "cell_type": "markdown",
      "metadata": {
        "id": "tdVprItqxXjW"
      },
      "source": [
        "ปฏิบัติการข้อ 4) จงนับจำนวนแถวข้อมูลในชุดข้อมูล Customer Data ที่มีข้อมูลสูญหาย"
      ]
    },
    {
      "cell_type": "code",
      "metadata": {
        "id": "GEyKCIomxfqT"
      },
      "source": [
        "# Answer here!"
      ],
      "execution_count": null,
      "outputs": []
    },
    {
      "cell_type": "markdown",
      "metadata": {
        "id": "5ErnMhEuxoGu"
      },
      "source": [
        "ปฏิบัติการข้อ 5) จงหาลูกค้าที่มีการบันทึกข้อมูลในชุดข้อมูล Customer Data ในหลายระเบียนข้อมูล"
      ]
    },
    {
      "cell_type": "code",
      "metadata": {
        "id": "YBYnm4AExjxW"
      },
      "source": [
        "# Answer here!"
      ],
      "execution_count": null,
      "outputs": []
    },
    {
      "cell_type": "markdown",
      "metadata": {
        "id": "jLShSZQRyhfh"
      },
      "source": [
        "ปฏิบัติการข้อ 6) จงหาลูกค้าที่มีค่าข้อมูลอายุ (age) ไม่อยู่ในขอบเขตข้อมูลที่ถูกต้อง"
      ]
    },
    {
      "cell_type": "code",
      "metadata": {
        "id": "j2UN-n0RygHx"
      },
      "source": [
        "# Answer here!"
      ],
      "execution_count": null,
      "outputs": []
    },
    {
      "cell_type": "markdown",
      "metadata": {
        "id": "GhG94GTFyzIk"
      },
      "source": [
        "ปฏิบัติการข้อ 7) จงหาลูกค้าที่มีค่าข้อมูลอายุ (age) ผิดปรกติ ไม่สอดคล้องความเป็นจริง"
      ]
    },
    {
      "cell_type": "code",
      "metadata": {
        "id": "uk6YzEdxyyIp"
      },
      "source": [
        "# Answer here!"
      ],
      "execution_count": null,
      "outputs": []
    },
    {
      "cell_type": "markdown",
      "metadata": {
        "id": "-vZ6S_6uUX-K"
      },
      "source": [
        "# Expand customer information in transaction data using information in customer data"
      ]
    },
    {
      "cell_type": "code",
      "metadata": {
        "id": "0UmB1nOpWUqi"
      },
      "source": [
        "# Expand customer information in transaction data\n",
        "txn_with_cust = transaction_data.merge(customer_data, on='cust_id', how='left')\n",
        "txn_with_cust"
      ],
      "execution_count": null,
      "outputs": []
    },
    {
      "cell_type": "markdown",
      "metadata": {
        "id": "bwt5i00KWxY6"
      },
      "source": [
        "ปฏิบัติการข้อ 8) จากการรวมตารางข้อมูล transaction_data และ customer_data ข้างต้นจะพบว่ารูปแบบการแทนค่าตัวแปร process_date_x และ process_date_y ไม่สอดคล้องกัน จงทำให้รูปแบบการแทนค่าตัวแปร process_date_x และ process_date_y สอดคล้องกัน"
      ]
    },
    {
      "cell_type": "code",
      "metadata": {
        "id": "F-I6slCfXLpY"
      },
      "source": [
        "# Answer here!"
      ],
      "execution_count": null,
      "outputs": []
    }
  ]
}