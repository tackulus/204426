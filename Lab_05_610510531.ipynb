{
  "nbformat": 4,
  "nbformat_minor": 0,
  "metadata": {
    "colab": {
      "name": "Lab_05_610510531.ipynb",
      "provenance": [],
      "collapsed_sections": [],
      "include_colab_link": true
    },
    "kernelspec": {
      "name": "python3",
      "display_name": "Python 3"
    },
    "language_info": {
      "name": "python"
    }
  },
  "cells": [
    {
      "cell_type": "markdown",
      "metadata": {
        "id": "view-in-github",
        "colab_type": "text"
      },
      "source": [
        "<a href=\"https://colab.research.google.com/github/tackulus/204426/blob/main/Lab_05_610510531.ipynb\" target=\"_parent\"><img src=\"https://colab.research.google.com/assets/colab-badge.svg\" alt=\"Open In Colab\"/></a>"
      ]
    },
    {
      "cell_type": "markdown",
      "metadata": {
        "id": "ocefQLJIUuuk"
      },
      "source": [
        "# **Workshop 5: Data Quality**\n",
        "**คำสั่ง**\n",
        "\n",
        "1.   ศึกษาวิธีการตรวจสอบคุณภาพของข้อมูลชุดข้อมูล transaction data \n",
        "2.   ทำการตรวจสอบคุณภาพของข้อมูล ชุดข้อมูล customer data  โดยทำปฏิบัติการแต่ละข้อ\n",
        "3.   ตั้งชื่อไฟล์ python notebook นี้ในรูปแบบ Lab_05_XXXXXXXXX.ipynb โดย XXXXXXXXX คือ รหัสนักศึกษา\n",
        "4.   ทำการดาวน์โหลดและส่งไฟล์ Lab_05_XXXXXXXXX.ipynb ที่เว็บไซต์ http://hw.cs.science.cmu.ac.th "
      ]
    },
    {
      "cell_type": "code",
      "metadata": {
        "id": "paLTi4i6UuAN"
      },
      "source": [
        "import pandas as pd\n",
        "import numpy as np"
      ],
      "execution_count": 1,
      "outputs": []
    },
    {
      "cell_type": "code",
      "metadata": {
        "id": "0p51Cv44a3HN"
      },
      "source": [
        "%%capture\n",
        "!wget -O customer_data.csv \\\n",
        "    https://raw.githubusercontent.com/tackulus/204426/main/dataset/customer_data.csv\n",
        "\n",
        "!wget -O transaction_data.csv \\\n",
        "    https://raw.githubusercontent.com/tackulus/204426/main/dataset/transaction_data.csv"
      ],
      "execution_count": 2,
      "outputs": []
    },
    {
      "cell_type": "code",
      "metadata": {
        "id": "vP2JKu8tVa8k",
        "colab": {
          "base_uri": "https://localhost:8080/",
          "height": 363
        },
        "outputId": "edc7ad5b-b64d-491c-80cc-fe8c0c8b26e8"
      },
      "source": [
        "transaction_data = pd.read_csv(\"transaction_data.csv\", na_values=-999)\n",
        "transaction_data"
      ],
      "execution_count": 3,
      "outputs": [
        {
          "output_type": "execute_result",
          "data": {
            "text/html": [
              "<div>\n",
              "<style scoped>\n",
              "    .dataframe tbody tr th:only-of-type {\n",
              "        vertical-align: middle;\n",
              "    }\n",
              "\n",
              "    .dataframe tbody tr th {\n",
              "        vertical-align: top;\n",
              "    }\n",
              "\n",
              "    .dataframe thead th {\n",
              "        text-align: right;\n",
              "    }\n",
              "</style>\n",
              "<table border=\"1\" class=\"dataframe\">\n",
              "  <thead>\n",
              "    <tr style=\"text-align: right;\">\n",
              "      <th></th>\n",
              "      <th>txn_id</th>\n",
              "      <th>cust_id</th>\n",
              "      <th>price</th>\n",
              "      <th>process_date</th>\n",
              "    </tr>\n",
              "  </thead>\n",
              "  <tbody>\n",
              "    <tr>\n",
              "      <th>0</th>\n",
              "      <td>1</td>\n",
              "      <td>v</td>\n",
              "      <td>89.0</td>\n",
              "      <td>1/5/2021</td>\n",
              "    </tr>\n",
              "    <tr>\n",
              "      <th>1</th>\n",
              "      <td>2</td>\n",
              "      <td>y</td>\n",
              "      <td>60.0</td>\n",
              "      <td>1/5/2021</td>\n",
              "    </tr>\n",
              "    <tr>\n",
              "      <th>2</th>\n",
              "      <td>3</td>\n",
              "      <td>m</td>\n",
              "      <td>55.0</td>\n",
              "      <td>1/5/2021</td>\n",
              "    </tr>\n",
              "    <tr>\n",
              "      <th>3</th>\n",
              "      <td>4</td>\n",
              "      <td>s</td>\n",
              "      <td>NaN</td>\n",
              "      <td>1/5/2021</td>\n",
              "    </tr>\n",
              "    <tr>\n",
              "      <th>4</th>\n",
              "      <td>5</td>\n",
              "      <td>z</td>\n",
              "      <td>50.0</td>\n",
              "      <td>1/5/2021</td>\n",
              "    </tr>\n",
              "    <tr>\n",
              "      <th>5</th>\n",
              "      <td>6</td>\n",
              "      <td>s</td>\n",
              "      <td>41.0</td>\n",
              "      <td>2/5/2021</td>\n",
              "    </tr>\n",
              "    <tr>\n",
              "      <th>6</th>\n",
              "      <td>7</td>\n",
              "      <td>s</td>\n",
              "      <td>NaN</td>\n",
              "      <td>15/5/2021</td>\n",
              "    </tr>\n",
              "    <tr>\n",
              "      <th>7</th>\n",
              "      <td>8</td>\n",
              "      <td>e</td>\n",
              "      <td>23.0</td>\n",
              "      <td>1/5/2021</td>\n",
              "    </tr>\n",
              "    <tr>\n",
              "      <th>8</th>\n",
              "      <td>9</td>\n",
              "      <td>n</td>\n",
              "      <td>12.0</td>\n",
              "      <td>1/5/2021</td>\n",
              "    </tr>\n",
              "    <tr>\n",
              "      <th>9</th>\n",
              "      <td>10</td>\n",
              "      <td>x</td>\n",
              "      <td>87.0</td>\n",
              "      <td>1/5/2021</td>\n",
              "    </tr>\n",
              "  </tbody>\n",
              "</table>\n",
              "</div>"
            ],
            "text/plain": [
              "   txn_id cust_id  price process_date\n",
              "0       1       v   89.0     1/5/2021\n",
              "1       2       y   60.0     1/5/2021\n",
              "2       3       m   55.0     1/5/2021\n",
              "3       4       s    NaN     1/5/2021\n",
              "4       5       z   50.0     1/5/2021\n",
              "5       6       s   41.0     2/5/2021\n",
              "6       7       s    NaN    15/5/2021\n",
              "7       8       e   23.0     1/5/2021\n",
              "8       9       n   12.0     1/5/2021\n",
              "9      10       x   87.0     1/5/2021"
            ]
          },
          "metadata": {
            "tags": []
          },
          "execution_count": 3
        }
      ]
    },
    {
      "cell_type": "markdown",
      "metadata": {
        "id": "BBRgUzfhX54H"
      },
      "source": [
        "# Missing values"
      ]
    },
    {
      "cell_type": "code",
      "metadata": {
        "id": "JGay65dtX5O5",
        "colab": {
          "base_uri": "https://localhost:8080/"
        },
        "outputId": "b4658d16-bf72-4394-a7ca-1af37ec339a2"
      },
      "source": [
        "# detect missing values\n",
        "missingValues = transaction_data.isna()\n",
        "print(missingValues)"
      ],
      "execution_count": 4,
      "outputs": [
        {
          "output_type": "stream",
          "text": [
            "   txn_id  cust_id  price  process_date\n",
            "0   False    False  False         False\n",
            "1   False    False  False         False\n",
            "2   False    False  False         False\n",
            "3   False    False   True         False\n",
            "4   False    False  False         False\n",
            "5   False    False  False         False\n",
            "6   False    False   True         False\n",
            "7   False    False  False         False\n",
            "8   False    False  False         False\n",
            "9   False    False  False         False\n"
          ],
          "name": "stdout"
        }
      ]
    },
    {
      "cell_type": "code",
      "metadata": {
        "id": "exSfVGwrbRsb",
        "colab": {
          "base_uri": "https://localhost:8080/"
        },
        "outputId": "6e204c33-bb6b-4fd5-e1e3-75d7b577c456"
      },
      "source": [
        "# count the number of missing data\n",
        "num_missing = missingValues.values.sum()\n",
        "print(num_missing)"
      ],
      "execution_count": 5,
      "outputs": [
        {
          "output_type": "stream",
          "text": [
            "2\n"
          ],
          "name": "stdout"
        }
      ]
    },
    {
      "cell_type": "code",
      "metadata": {
        "id": "W3ZrJYSabKOW",
        "colab": {
          "base_uri": "https://localhost:8080/"
        },
        "outputId": "277c634b-a962-4c76-db2f-734745a82ca9"
      },
      "source": [
        "# count the number of rows having missing data\n",
        "row_missing = missingValues.sum(axis=1)\n",
        "print(row_missing)\n",
        "num_row_missing = np.count_nonzero(row_missing)\n",
        "print(\"There are %d rows contain missing values\"%(num_row_missing))"
      ],
      "execution_count": 6,
      "outputs": [
        {
          "output_type": "stream",
          "text": [
            "0    0\n",
            "1    0\n",
            "2    0\n",
            "3    1\n",
            "4    0\n",
            "5    0\n",
            "6    1\n",
            "7    0\n",
            "8    0\n",
            "9    0\n",
            "dtype: int64\n",
            "There are 2 rows contain missing values\n"
          ],
          "name": "stdout"
        }
      ]
    },
    {
      "cell_type": "code",
      "metadata": {
        "id": "5DO60alSY7it",
        "colab": {
          "base_uri": "https://localhost:8080/"
        },
        "outputId": "0b92abb0-4873-4092-d843-cb1d39dc7067"
      },
      "source": [
        "# count the number of columns having missing data\n",
        "col_missing = missingValues.sum()\n",
        "print(col_missing)\n",
        "num_col_missing = np.count_nonzero(col_missing)\n",
        "print(\"There are %d columns contain missing values\"%(num_col_missing))"
      ],
      "execution_count": 7,
      "outputs": [
        {
          "output_type": "stream",
          "text": [
            "txn_id          0\n",
            "cust_id         0\n",
            "price           2\n",
            "process_date    0\n",
            "dtype: int64\n",
            "There are 1 columns contain missing values\n"
          ],
          "name": "stdout"
        }
      ]
    },
    {
      "cell_type": "markdown",
      "metadata": {
        "id": "ugj-uSPgqg3I"
      },
      "source": [
        "# Duplicated records"
      ]
    },
    {
      "cell_type": "code",
      "metadata": {
        "id": "F2iGEoujr3PI",
        "colab": {
          "base_uri": "https://localhost:8080/",
          "height": 112
        },
        "outputId": "62ddb31f-0056-45bb-8040-84e8b5570703"
      },
      "source": [
        "transaction_data[transaction_data.duplicated(['cust_id'])]"
      ],
      "execution_count": 8,
      "outputs": [
        {
          "output_type": "execute_result",
          "data": {
            "text/html": [
              "<div>\n",
              "<style scoped>\n",
              "    .dataframe tbody tr th:only-of-type {\n",
              "        vertical-align: middle;\n",
              "    }\n",
              "\n",
              "    .dataframe tbody tr th {\n",
              "        vertical-align: top;\n",
              "    }\n",
              "\n",
              "    .dataframe thead th {\n",
              "        text-align: right;\n",
              "    }\n",
              "</style>\n",
              "<table border=\"1\" class=\"dataframe\">\n",
              "  <thead>\n",
              "    <tr style=\"text-align: right;\">\n",
              "      <th></th>\n",
              "      <th>txn_id</th>\n",
              "      <th>cust_id</th>\n",
              "      <th>price</th>\n",
              "      <th>process_date</th>\n",
              "    </tr>\n",
              "  </thead>\n",
              "  <tbody>\n",
              "    <tr>\n",
              "      <th>5</th>\n",
              "      <td>6</td>\n",
              "      <td>s</td>\n",
              "      <td>41.0</td>\n",
              "      <td>2/5/2021</td>\n",
              "    </tr>\n",
              "    <tr>\n",
              "      <th>6</th>\n",
              "      <td>7</td>\n",
              "      <td>s</td>\n",
              "      <td>NaN</td>\n",
              "      <td>15/5/2021</td>\n",
              "    </tr>\n",
              "  </tbody>\n",
              "</table>\n",
              "</div>"
            ],
            "text/plain": [
              "   txn_id cust_id  price process_date\n",
              "5       6       s   41.0     2/5/2021\n",
              "6       7       s    NaN    15/5/2021"
            ]
          },
          "metadata": {
            "tags": []
          },
          "execution_count": 8
        }
      ]
    },
    {
      "cell_type": "code",
      "metadata": {
        "id": "HGIb-JeLsdIh",
        "colab": {
          "base_uri": "https://localhost:8080/",
          "height": 49
        },
        "outputId": "4d7eeda0-6744-43a0-e400-02ea303a06cd"
      },
      "source": [
        "transaction_data[transaction_data.duplicated(['txn_id'])]"
      ],
      "execution_count": 9,
      "outputs": [
        {
          "output_type": "execute_result",
          "data": {
            "text/html": [
              "<div>\n",
              "<style scoped>\n",
              "    .dataframe tbody tr th:only-of-type {\n",
              "        vertical-align: middle;\n",
              "    }\n",
              "\n",
              "    .dataframe tbody tr th {\n",
              "        vertical-align: top;\n",
              "    }\n",
              "\n",
              "    .dataframe thead th {\n",
              "        text-align: right;\n",
              "    }\n",
              "</style>\n",
              "<table border=\"1\" class=\"dataframe\">\n",
              "  <thead>\n",
              "    <tr style=\"text-align: right;\">\n",
              "      <th></th>\n",
              "      <th>txn_id</th>\n",
              "      <th>cust_id</th>\n",
              "      <th>price</th>\n",
              "      <th>process_date</th>\n",
              "    </tr>\n",
              "  </thead>\n",
              "  <tbody>\n",
              "  </tbody>\n",
              "</table>\n",
              "</div>"
            ],
            "text/plain": [
              "Empty DataFrame\n",
              "Columns: [txn_id, cust_id, price, process_date]\n",
              "Index: []"
            ]
          },
          "metadata": {
            "tags": []
          },
          "execution_count": 9
        }
      ]
    },
    {
      "cell_type": "code",
      "metadata": {
        "id": "DE-7GqoGshwJ",
        "colab": {
          "base_uri": "https://localhost:8080/",
          "height": 49
        },
        "outputId": "017e5e8f-e1e7-4bc4-afd0-43564955f4de"
      },
      "source": [
        "transaction_data[transaction_data.duplicated(['txn_id','cust_id'])]"
      ],
      "execution_count": 10,
      "outputs": [
        {
          "output_type": "execute_result",
          "data": {
            "text/html": [
              "<div>\n",
              "<style scoped>\n",
              "    .dataframe tbody tr th:only-of-type {\n",
              "        vertical-align: middle;\n",
              "    }\n",
              "\n",
              "    .dataframe tbody tr th {\n",
              "        vertical-align: top;\n",
              "    }\n",
              "\n",
              "    .dataframe thead th {\n",
              "        text-align: right;\n",
              "    }\n",
              "</style>\n",
              "<table border=\"1\" class=\"dataframe\">\n",
              "  <thead>\n",
              "    <tr style=\"text-align: right;\">\n",
              "      <th></th>\n",
              "      <th>txn_id</th>\n",
              "      <th>cust_id</th>\n",
              "      <th>price</th>\n",
              "      <th>process_date</th>\n",
              "    </tr>\n",
              "  </thead>\n",
              "  <tbody>\n",
              "  </tbody>\n",
              "</table>\n",
              "</div>"
            ],
            "text/plain": [
              "Empty DataFrame\n",
              "Columns: [txn_id, cust_id, price, process_date]\n",
              "Index: []"
            ]
          },
          "metadata": {
            "tags": []
          },
          "execution_count": 10
        }
      ]
    },
    {
      "cell_type": "markdown",
      "metadata": {
        "id": "H19ZkSPkVrnZ"
      },
      "source": [
        "ปฏิบัติการข้อ 1) จงอ่านชุดข้อมูล Customer Data จากไฟล์ customer_data.csv โดยเก็บไว้ในตัวแปล customer_data (ข้อมูลสูญหาย ถูกแทนด้วยช่องว่าง)"
      ]
    },
    {
      "cell_type": "code",
      "metadata": {
        "id": "JFCIQR7oVlQi",
        "colab": {
          "base_uri": "https://localhost:8080/",
          "height": 363
        },
        "outputId": "a805b195-5b51-40a2-b8a0-f6676f027249"
      },
      "source": [
        "# Answer here!\n",
        "customer_data = pd.read_csv(\"customer_data.csv\", na_values=\" \")\n",
        "customer_data"
      ],
      "execution_count": 11,
      "outputs": [
        {
          "output_type": "execute_result",
          "data": {
            "text/html": [
              "<div>\n",
              "<style scoped>\n",
              "    .dataframe tbody tr th:only-of-type {\n",
              "        vertical-align: middle;\n",
              "    }\n",
              "\n",
              "    .dataframe tbody tr th {\n",
              "        vertical-align: top;\n",
              "    }\n",
              "\n",
              "    .dataframe thead th {\n",
              "        text-align: right;\n",
              "    }\n",
              "</style>\n",
              "<table border=\"1\" class=\"dataframe\">\n",
              "  <thead>\n",
              "    <tr style=\"text-align: right;\">\n",
              "      <th></th>\n",
              "      <th>cust_id</th>\n",
              "      <th>age</th>\n",
              "      <th>wealth_segment</th>\n",
              "      <th>process_date</th>\n",
              "    </tr>\n",
              "  </thead>\n",
              "  <tbody>\n",
              "    <tr>\n",
              "      <th>0</th>\n",
              "      <td>e</td>\n",
              "      <td>44.0</td>\n",
              "      <td>NaN</td>\n",
              "      <td>2020-01-05</td>\n",
              "    </tr>\n",
              "    <tr>\n",
              "      <th>1</th>\n",
              "      <td>m</td>\n",
              "      <td>30.0</td>\n",
              "      <td>medium</td>\n",
              "      <td>2020-01-05</td>\n",
              "    </tr>\n",
              "    <tr>\n",
              "      <th>2</th>\n",
              "      <td>n</td>\n",
              "      <td>29.0</td>\n",
              "      <td>poor</td>\n",
              "      <td>2020-01-05</td>\n",
              "    </tr>\n",
              "    <tr>\n",
              "      <th>3</th>\n",
              "      <td>s</td>\n",
              "      <td>64.0</td>\n",
              "      <td>rich</td>\n",
              "      <td>2020-01-05</td>\n",
              "    </tr>\n",
              "    <tr>\n",
              "      <th>4</th>\n",
              "      <td>v</td>\n",
              "      <td>NaN</td>\n",
              "      <td>medium</td>\n",
              "      <td>2020-01-05</td>\n",
              "    </tr>\n",
              "    <tr>\n",
              "      <th>5</th>\n",
              "      <td>x</td>\n",
              "      <td>40.0</td>\n",
              "      <td>poor</td>\n",
              "      <td>2020-01-05</td>\n",
              "    </tr>\n",
              "    <tr>\n",
              "      <th>6</th>\n",
              "      <td>y</td>\n",
              "      <td>41.0</td>\n",
              "      <td>rich</td>\n",
              "      <td>2020-01-05</td>\n",
              "    </tr>\n",
              "    <tr>\n",
              "      <th>7</th>\n",
              "      <td>z</td>\n",
              "      <td>43.0</td>\n",
              "      <td>rich</td>\n",
              "      <td>2020-01-05</td>\n",
              "    </tr>\n",
              "    <tr>\n",
              "      <th>8</th>\n",
              "      <td>s</td>\n",
              "      <td>-12.0</td>\n",
              "      <td>rich</td>\n",
              "      <td>2020-01-05</td>\n",
              "    </tr>\n",
              "    <tr>\n",
              "      <th>9</th>\n",
              "      <td>z</td>\n",
              "      <td>54.0</td>\n",
              "      <td>rich</td>\n",
              "      <td>2021-01-05</td>\n",
              "    </tr>\n",
              "  </tbody>\n",
              "</table>\n",
              "</div>"
            ],
            "text/plain": [
              "  cust_id   age wealth_segment process_date\n",
              "0       e  44.0            NaN   2020-01-05\n",
              "1       m  30.0         medium   2020-01-05\n",
              "2       n  29.0           poor   2020-01-05\n",
              "3       s  64.0           rich   2020-01-05\n",
              "4       v   NaN         medium   2020-01-05\n",
              "5       x  40.0           poor   2020-01-05\n",
              "6       y  41.0           rich   2020-01-05\n",
              "7       z  43.0           rich   2020-01-05\n",
              "8       s -12.0           rich   2020-01-05\n",
              "9       z  54.0           rich   2021-01-05"
            ]
          },
          "metadata": {
            "tags": []
          },
          "execution_count": 11
        }
      ]
    },
    {
      "cell_type": "markdown",
      "metadata": {
        "id": "WJw1HTMVuTO7"
      },
      "source": [
        "ปฏิบัติการข้อ 2) จงนับจำนวนข้อมูลสูญหายทั้งหมดในชุดข้อมูล Customer Data "
      ]
    },
    {
      "cell_type": "code",
      "metadata": {
        "id": "DBe_TA2DufOi",
        "colab": {
          "base_uri": "https://localhost:8080/"
        },
        "outputId": "5ff2436e-b92e-4402-97c2-cb2930eead65"
      },
      "source": [
        "# Answer here!\n",
        "missingValues = customer_data.isna()\n",
        "missingValues.values.sum()"
      ],
      "execution_count": 12,
      "outputs": [
        {
          "output_type": "execute_result",
          "data": {
            "text/plain": [
              "2"
            ]
          },
          "metadata": {
            "tags": []
          },
          "execution_count": 12
        }
      ]
    },
    {
      "cell_type": "markdown",
      "metadata": {
        "id": "OyghuCrIvx6O"
      },
      "source": [
        "ปฏิบัติการข้อ 3) จงนับจำนวนคอลัมน์ในชุดข้อมูล Customer Data ที่มีข้อมูลสูญหาย"
      ]
    },
    {
      "cell_type": "code",
      "metadata": {
        "id": "Arn1MYnzvvbQ",
        "colab": {
          "base_uri": "https://localhost:8080/"
        },
        "outputId": "37a63ad2-8d62-4428-8afb-6c223e358df9"
      },
      "source": [
        "col_missing = missingValues.sum()\n",
        "print(col_missing)\n",
        "print(f\"# of columns which contain missing values: {np.count_nonzero(col_missing)}\")"
      ],
      "execution_count": 13,
      "outputs": [
        {
          "output_type": "stream",
          "text": [
            "cust_id           0\n",
            "age               1\n",
            "wealth_segment    1\n",
            "process_date      0\n",
            "dtype: int64\n",
            "# of columns which contain missing values: 2\n"
          ],
          "name": "stdout"
        }
      ]
    },
    {
      "cell_type": "markdown",
      "metadata": {
        "id": "tdVprItqxXjW"
      },
      "source": [
        "ปฏิบัติการข้อ 4) จงนับจำนวนแถวข้อมูลในชุดข้อมูล Customer Data ที่มีข้อมูลสูญหาย"
      ]
    },
    {
      "cell_type": "code",
      "metadata": {
        "id": "GEyKCIomxfqT",
        "colab": {
          "base_uri": "https://localhost:8080/"
        },
        "outputId": "192501fb-06fa-418b-8a2e-5e3dc7309060"
      },
      "source": [
        "# Answer here!\n",
        "row_missing = missingValues.sum(axis=1)\n",
        "print(row_missing)\n",
        "print(f\"# of rows which contain missing values: {np.count_nonzero(row_missing)}\")"
      ],
      "execution_count": 14,
      "outputs": [
        {
          "output_type": "stream",
          "text": [
            "0    1\n",
            "1    0\n",
            "2    0\n",
            "3    0\n",
            "4    1\n",
            "5    0\n",
            "6    0\n",
            "7    0\n",
            "8    0\n",
            "9    0\n",
            "dtype: int64\n",
            "# of rows which contain missing values: 2\n"
          ],
          "name": "stdout"
        }
      ]
    },
    {
      "cell_type": "markdown",
      "metadata": {
        "id": "5ErnMhEuxoGu"
      },
      "source": [
        "ปฏิบัติการข้อ 5) จงหาลูกค้าที่มีการบันทึกข้อมูลในชุดข้อมูล Customer Data ในหลายระเบียนข้อมูล"
      ]
    },
    {
      "cell_type": "code",
      "metadata": {
        "id": "YBYnm4AExjxW",
        "colab": {
          "base_uri": "https://localhost:8080/",
          "height": 112
        },
        "outputId": "8e4dd2c0-0699-4a1d-be0a-e4f5066ae4a8"
      },
      "source": [
        "# Answer here!\n",
        "customer_data[customer_data.duplicated(['cust_id'])]"
      ],
      "execution_count": 15,
      "outputs": [
        {
          "output_type": "execute_result",
          "data": {
            "text/html": [
              "<div>\n",
              "<style scoped>\n",
              "    .dataframe tbody tr th:only-of-type {\n",
              "        vertical-align: middle;\n",
              "    }\n",
              "\n",
              "    .dataframe tbody tr th {\n",
              "        vertical-align: top;\n",
              "    }\n",
              "\n",
              "    .dataframe thead th {\n",
              "        text-align: right;\n",
              "    }\n",
              "</style>\n",
              "<table border=\"1\" class=\"dataframe\">\n",
              "  <thead>\n",
              "    <tr style=\"text-align: right;\">\n",
              "      <th></th>\n",
              "      <th>cust_id</th>\n",
              "      <th>age</th>\n",
              "      <th>wealth_segment</th>\n",
              "      <th>process_date</th>\n",
              "    </tr>\n",
              "  </thead>\n",
              "  <tbody>\n",
              "    <tr>\n",
              "      <th>8</th>\n",
              "      <td>s</td>\n",
              "      <td>-12.0</td>\n",
              "      <td>rich</td>\n",
              "      <td>2020-01-05</td>\n",
              "    </tr>\n",
              "    <tr>\n",
              "      <th>9</th>\n",
              "      <td>z</td>\n",
              "      <td>54.0</td>\n",
              "      <td>rich</td>\n",
              "      <td>2021-01-05</td>\n",
              "    </tr>\n",
              "  </tbody>\n",
              "</table>\n",
              "</div>"
            ],
            "text/plain": [
              "  cust_id   age wealth_segment process_date\n",
              "8       s -12.0           rich   2020-01-05\n",
              "9       z  54.0           rich   2021-01-05"
            ]
          },
          "metadata": {
            "tags": []
          },
          "execution_count": 15
        }
      ]
    },
    {
      "cell_type": "markdown",
      "metadata": {
        "id": "jLShSZQRyhfh"
      },
      "source": [
        "ปฏิบัติการข้อ 6) จงหาลูกค้าที่มีค่าข้อมูลอายุ (age) ไม่อยู่ในขอบเขตข้อมูลที่ถูกต้อง"
      ]
    },
    {
      "cell_type": "code",
      "metadata": {
        "id": "j2UN-n0RygHx",
        "colab": {
          "base_uri": "https://localhost:8080/",
          "height": 81
        },
        "outputId": "abc49a74-d8a0-49eb-a93a-9cc8f8a8d3db"
      },
      "source": [
        "# Answer here!\n",
        "customer_data[(customer_data.age > 120) | (customer_data.age <= 0)]"
      ],
      "execution_count": 16,
      "outputs": [
        {
          "output_type": "execute_result",
          "data": {
            "text/html": [
              "<div>\n",
              "<style scoped>\n",
              "    .dataframe tbody tr th:only-of-type {\n",
              "        vertical-align: middle;\n",
              "    }\n",
              "\n",
              "    .dataframe tbody tr th {\n",
              "        vertical-align: top;\n",
              "    }\n",
              "\n",
              "    .dataframe thead th {\n",
              "        text-align: right;\n",
              "    }\n",
              "</style>\n",
              "<table border=\"1\" class=\"dataframe\">\n",
              "  <thead>\n",
              "    <tr style=\"text-align: right;\">\n",
              "      <th></th>\n",
              "      <th>cust_id</th>\n",
              "      <th>age</th>\n",
              "      <th>wealth_segment</th>\n",
              "      <th>process_date</th>\n",
              "    </tr>\n",
              "  </thead>\n",
              "  <tbody>\n",
              "    <tr>\n",
              "      <th>8</th>\n",
              "      <td>s</td>\n",
              "      <td>-12.0</td>\n",
              "      <td>rich</td>\n",
              "      <td>2020-01-05</td>\n",
              "    </tr>\n",
              "  </tbody>\n",
              "</table>\n",
              "</div>"
            ],
            "text/plain": [
              "  cust_id   age wealth_segment process_date\n",
              "8       s -12.0           rich   2020-01-05"
            ]
          },
          "metadata": {
            "tags": []
          },
          "execution_count": 16
        }
      ]
    },
    {
      "cell_type": "markdown",
      "metadata": {
        "id": "GhG94GTFyzIk"
      },
      "source": [
        "ปฏิบัติการข้อ 7) จงหาลูกค้าที่มีค่าข้อมูลอายุ (age) ผิดปรกติ ไม่สอดคล้องความเป็นจริง"
      ]
    },
    {
      "cell_type": "code",
      "metadata": {
        "id": "uk6YzEdxyyIp",
        "colab": {
          "base_uri": "https://localhost:8080/",
          "height": 112
        },
        "outputId": "8db1b7c2-9d3c-4892-85e7-7b2198988763"
      },
      "source": [
        "# Answer here!\n",
        "from datetime import timedelta\n",
        "\n",
        "excluded_age = customer_data[(customer_data.age <= 120) | (customer_data.age > 0)]\n",
        "dup_cust_id = excluded_age[excluded_age.duplicated(['cust_id'])].cust_id\n",
        "customer_data['process_date'] = pd.to_datetime(customer_data['process_date'], format=\"%Y-%d-%m\")\n",
        "\n",
        "invalid_idx = []\n",
        "for id in dup_cust_id:\n",
        "    age_diff = customer_data[customer_data.cust_id == id].age.diff().dropna()\n",
        "    date_diff = customer_data[customer_data.cust_id == id].process_date.diff().dropna() // timedelta(days=365)\n",
        "    for age, date in zip(age_diff.items(), date_diff.items()):\n",
        "        idx = age[0]\n",
        "        if age[1] != date[1]:\n",
        "            invalid_idx.append(idx)\n",
        "\n",
        "customer_data.loc[invalid_idx]"
      ],
      "execution_count": 17,
      "outputs": [
        {
          "output_type": "execute_result",
          "data": {
            "text/html": [
              "<div>\n",
              "<style scoped>\n",
              "    .dataframe tbody tr th:only-of-type {\n",
              "        vertical-align: middle;\n",
              "    }\n",
              "\n",
              "    .dataframe tbody tr th {\n",
              "        vertical-align: top;\n",
              "    }\n",
              "\n",
              "    .dataframe thead th {\n",
              "        text-align: right;\n",
              "    }\n",
              "</style>\n",
              "<table border=\"1\" class=\"dataframe\">\n",
              "  <thead>\n",
              "    <tr style=\"text-align: right;\">\n",
              "      <th></th>\n",
              "      <th>cust_id</th>\n",
              "      <th>age</th>\n",
              "      <th>wealth_segment</th>\n",
              "      <th>process_date</th>\n",
              "    </tr>\n",
              "  </thead>\n",
              "  <tbody>\n",
              "    <tr>\n",
              "      <th>8</th>\n",
              "      <td>s</td>\n",
              "      <td>-12.0</td>\n",
              "      <td>rich</td>\n",
              "      <td>2020-05-01</td>\n",
              "    </tr>\n",
              "    <tr>\n",
              "      <th>9</th>\n",
              "      <td>z</td>\n",
              "      <td>54.0</td>\n",
              "      <td>rich</td>\n",
              "      <td>2021-05-01</td>\n",
              "    </tr>\n",
              "  </tbody>\n",
              "</table>\n",
              "</div>"
            ],
            "text/plain": [
              "  cust_id   age wealth_segment process_date\n",
              "8       s -12.0           rich   2020-05-01\n",
              "9       z  54.0           rich   2021-05-01"
            ]
          },
          "metadata": {
            "tags": []
          },
          "execution_count": 17
        }
      ]
    },
    {
      "cell_type": "markdown",
      "metadata": {
        "id": "-vZ6S_6uUX-K"
      },
      "source": [
        "# Expand customer information in transaction data using information in customer data"
      ]
    },
    {
      "cell_type": "code",
      "metadata": {
        "id": "0UmB1nOpWUqi",
        "colab": {
          "base_uri": "https://localhost:8080/",
          "height": 489
        },
        "outputId": "c6bdb200-3613-4365-cb4b-8f883b877673"
      },
      "source": [
        "# Expand customer information in transaction data\n",
        "txn_with_cust = transaction_data.merge(customer_data, on='cust_id', how='left')\n",
        "txn_with_cust"
      ],
      "execution_count": 18,
      "outputs": [
        {
          "output_type": "execute_result",
          "data": {
            "text/html": [
              "<div>\n",
              "<style scoped>\n",
              "    .dataframe tbody tr th:only-of-type {\n",
              "        vertical-align: middle;\n",
              "    }\n",
              "\n",
              "    .dataframe tbody tr th {\n",
              "        vertical-align: top;\n",
              "    }\n",
              "\n",
              "    .dataframe thead th {\n",
              "        text-align: right;\n",
              "    }\n",
              "</style>\n",
              "<table border=\"1\" class=\"dataframe\">\n",
              "  <thead>\n",
              "    <tr style=\"text-align: right;\">\n",
              "      <th></th>\n",
              "      <th>txn_id</th>\n",
              "      <th>cust_id</th>\n",
              "      <th>price</th>\n",
              "      <th>process_date_x</th>\n",
              "      <th>age</th>\n",
              "      <th>wealth_segment</th>\n",
              "      <th>process_date_y</th>\n",
              "    </tr>\n",
              "  </thead>\n",
              "  <tbody>\n",
              "    <tr>\n",
              "      <th>0</th>\n",
              "      <td>1</td>\n",
              "      <td>v</td>\n",
              "      <td>89.0</td>\n",
              "      <td>1/5/2021</td>\n",
              "      <td>NaN</td>\n",
              "      <td>medium</td>\n",
              "      <td>2020-05-01</td>\n",
              "    </tr>\n",
              "    <tr>\n",
              "      <th>1</th>\n",
              "      <td>2</td>\n",
              "      <td>y</td>\n",
              "      <td>60.0</td>\n",
              "      <td>1/5/2021</td>\n",
              "      <td>41.0</td>\n",
              "      <td>rich</td>\n",
              "      <td>2020-05-01</td>\n",
              "    </tr>\n",
              "    <tr>\n",
              "      <th>2</th>\n",
              "      <td>3</td>\n",
              "      <td>m</td>\n",
              "      <td>55.0</td>\n",
              "      <td>1/5/2021</td>\n",
              "      <td>30.0</td>\n",
              "      <td>medium</td>\n",
              "      <td>2020-05-01</td>\n",
              "    </tr>\n",
              "    <tr>\n",
              "      <th>3</th>\n",
              "      <td>4</td>\n",
              "      <td>s</td>\n",
              "      <td>NaN</td>\n",
              "      <td>1/5/2021</td>\n",
              "      <td>64.0</td>\n",
              "      <td>rich</td>\n",
              "      <td>2020-05-01</td>\n",
              "    </tr>\n",
              "    <tr>\n",
              "      <th>4</th>\n",
              "      <td>4</td>\n",
              "      <td>s</td>\n",
              "      <td>NaN</td>\n",
              "      <td>1/5/2021</td>\n",
              "      <td>-12.0</td>\n",
              "      <td>rich</td>\n",
              "      <td>2020-05-01</td>\n",
              "    </tr>\n",
              "    <tr>\n",
              "      <th>5</th>\n",
              "      <td>5</td>\n",
              "      <td>z</td>\n",
              "      <td>50.0</td>\n",
              "      <td>1/5/2021</td>\n",
              "      <td>43.0</td>\n",
              "      <td>rich</td>\n",
              "      <td>2020-05-01</td>\n",
              "    </tr>\n",
              "    <tr>\n",
              "      <th>6</th>\n",
              "      <td>5</td>\n",
              "      <td>z</td>\n",
              "      <td>50.0</td>\n",
              "      <td>1/5/2021</td>\n",
              "      <td>54.0</td>\n",
              "      <td>rich</td>\n",
              "      <td>2021-05-01</td>\n",
              "    </tr>\n",
              "    <tr>\n",
              "      <th>7</th>\n",
              "      <td>6</td>\n",
              "      <td>s</td>\n",
              "      <td>41.0</td>\n",
              "      <td>2/5/2021</td>\n",
              "      <td>64.0</td>\n",
              "      <td>rich</td>\n",
              "      <td>2020-05-01</td>\n",
              "    </tr>\n",
              "    <tr>\n",
              "      <th>8</th>\n",
              "      <td>6</td>\n",
              "      <td>s</td>\n",
              "      <td>41.0</td>\n",
              "      <td>2/5/2021</td>\n",
              "      <td>-12.0</td>\n",
              "      <td>rich</td>\n",
              "      <td>2020-05-01</td>\n",
              "    </tr>\n",
              "    <tr>\n",
              "      <th>9</th>\n",
              "      <td>7</td>\n",
              "      <td>s</td>\n",
              "      <td>NaN</td>\n",
              "      <td>15/5/2021</td>\n",
              "      <td>64.0</td>\n",
              "      <td>rich</td>\n",
              "      <td>2020-05-01</td>\n",
              "    </tr>\n",
              "    <tr>\n",
              "      <th>10</th>\n",
              "      <td>7</td>\n",
              "      <td>s</td>\n",
              "      <td>NaN</td>\n",
              "      <td>15/5/2021</td>\n",
              "      <td>-12.0</td>\n",
              "      <td>rich</td>\n",
              "      <td>2020-05-01</td>\n",
              "    </tr>\n",
              "    <tr>\n",
              "      <th>11</th>\n",
              "      <td>8</td>\n",
              "      <td>e</td>\n",
              "      <td>23.0</td>\n",
              "      <td>1/5/2021</td>\n",
              "      <td>44.0</td>\n",
              "      <td>NaN</td>\n",
              "      <td>2020-05-01</td>\n",
              "    </tr>\n",
              "    <tr>\n",
              "      <th>12</th>\n",
              "      <td>9</td>\n",
              "      <td>n</td>\n",
              "      <td>12.0</td>\n",
              "      <td>1/5/2021</td>\n",
              "      <td>29.0</td>\n",
              "      <td>poor</td>\n",
              "      <td>2020-05-01</td>\n",
              "    </tr>\n",
              "    <tr>\n",
              "      <th>13</th>\n",
              "      <td>10</td>\n",
              "      <td>x</td>\n",
              "      <td>87.0</td>\n",
              "      <td>1/5/2021</td>\n",
              "      <td>40.0</td>\n",
              "      <td>poor</td>\n",
              "      <td>2020-05-01</td>\n",
              "    </tr>\n",
              "  </tbody>\n",
              "</table>\n",
              "</div>"
            ],
            "text/plain": [
              "    txn_id cust_id  price process_date_x   age wealth_segment process_date_y\n",
              "0        1       v   89.0       1/5/2021   NaN         medium     2020-05-01\n",
              "1        2       y   60.0       1/5/2021  41.0           rich     2020-05-01\n",
              "2        3       m   55.0       1/5/2021  30.0         medium     2020-05-01\n",
              "3        4       s    NaN       1/5/2021  64.0           rich     2020-05-01\n",
              "4        4       s    NaN       1/5/2021 -12.0           rich     2020-05-01\n",
              "5        5       z   50.0       1/5/2021  43.0           rich     2020-05-01\n",
              "6        5       z   50.0       1/5/2021  54.0           rich     2021-05-01\n",
              "7        6       s   41.0       2/5/2021  64.0           rich     2020-05-01\n",
              "8        6       s   41.0       2/5/2021 -12.0           rich     2020-05-01\n",
              "9        7       s    NaN      15/5/2021  64.0           rich     2020-05-01\n",
              "10       7       s    NaN      15/5/2021 -12.0           rich     2020-05-01\n",
              "11       8       e   23.0       1/5/2021  44.0            NaN     2020-05-01\n",
              "12       9       n   12.0       1/5/2021  29.0           poor     2020-05-01\n",
              "13      10       x   87.0       1/5/2021  40.0           poor     2020-05-01"
            ]
          },
          "metadata": {
            "tags": []
          },
          "execution_count": 18
        }
      ]
    },
    {
      "cell_type": "markdown",
      "metadata": {
        "id": "bwt5i00KWxY6"
      },
      "source": [
        "ปฏิบัติการข้อ 8) จากการรวมตารางข้อมูล transaction_data และ customer_data ข้างต้นจะพบว่ารูปแบบการแทนค่าตัวแปร process_date_x และ process_date_y ไม่สอดคล้องกัน จงทำให้รูปแบบการแทนค่าตัวแปร process_date_x และ process_date_y สอดคล้องกัน"
      ]
    },
    {
      "cell_type": "code",
      "metadata": {
        "id": "F-I6slCfXLpY",
        "colab": {
          "base_uri": "https://localhost:8080/",
          "height": 489
        },
        "outputId": "0cbeb008-7867-4ab0-d759-c22b1281d3c3"
      },
      "source": [
        "# Answer here!\n",
        "txn_with_cust['process_date_x'] = pd.to_datetime(txn_with_cust['process_date_x'], format=\"%d/%m/%Y\")\n",
        "txn_with_cust"
      ],
      "execution_count": 19,
      "outputs": [
        {
          "output_type": "execute_result",
          "data": {
            "text/html": [
              "<div>\n",
              "<style scoped>\n",
              "    .dataframe tbody tr th:only-of-type {\n",
              "        vertical-align: middle;\n",
              "    }\n",
              "\n",
              "    .dataframe tbody tr th {\n",
              "        vertical-align: top;\n",
              "    }\n",
              "\n",
              "    .dataframe thead th {\n",
              "        text-align: right;\n",
              "    }\n",
              "</style>\n",
              "<table border=\"1\" class=\"dataframe\">\n",
              "  <thead>\n",
              "    <tr style=\"text-align: right;\">\n",
              "      <th></th>\n",
              "      <th>txn_id</th>\n",
              "      <th>cust_id</th>\n",
              "      <th>price</th>\n",
              "      <th>process_date_x</th>\n",
              "      <th>age</th>\n",
              "      <th>wealth_segment</th>\n",
              "      <th>process_date_y</th>\n",
              "    </tr>\n",
              "  </thead>\n",
              "  <tbody>\n",
              "    <tr>\n",
              "      <th>0</th>\n",
              "      <td>1</td>\n",
              "      <td>v</td>\n",
              "      <td>89.0</td>\n",
              "      <td>2021-05-01</td>\n",
              "      <td>NaN</td>\n",
              "      <td>medium</td>\n",
              "      <td>2020-05-01</td>\n",
              "    </tr>\n",
              "    <tr>\n",
              "      <th>1</th>\n",
              "      <td>2</td>\n",
              "      <td>y</td>\n",
              "      <td>60.0</td>\n",
              "      <td>2021-05-01</td>\n",
              "      <td>41.0</td>\n",
              "      <td>rich</td>\n",
              "      <td>2020-05-01</td>\n",
              "    </tr>\n",
              "    <tr>\n",
              "      <th>2</th>\n",
              "      <td>3</td>\n",
              "      <td>m</td>\n",
              "      <td>55.0</td>\n",
              "      <td>2021-05-01</td>\n",
              "      <td>30.0</td>\n",
              "      <td>medium</td>\n",
              "      <td>2020-05-01</td>\n",
              "    </tr>\n",
              "    <tr>\n",
              "      <th>3</th>\n",
              "      <td>4</td>\n",
              "      <td>s</td>\n",
              "      <td>NaN</td>\n",
              "      <td>2021-05-01</td>\n",
              "      <td>64.0</td>\n",
              "      <td>rich</td>\n",
              "      <td>2020-05-01</td>\n",
              "    </tr>\n",
              "    <tr>\n",
              "      <th>4</th>\n",
              "      <td>4</td>\n",
              "      <td>s</td>\n",
              "      <td>NaN</td>\n",
              "      <td>2021-05-01</td>\n",
              "      <td>-12.0</td>\n",
              "      <td>rich</td>\n",
              "      <td>2020-05-01</td>\n",
              "    </tr>\n",
              "    <tr>\n",
              "      <th>5</th>\n",
              "      <td>5</td>\n",
              "      <td>z</td>\n",
              "      <td>50.0</td>\n",
              "      <td>2021-05-01</td>\n",
              "      <td>43.0</td>\n",
              "      <td>rich</td>\n",
              "      <td>2020-05-01</td>\n",
              "    </tr>\n",
              "    <tr>\n",
              "      <th>6</th>\n",
              "      <td>5</td>\n",
              "      <td>z</td>\n",
              "      <td>50.0</td>\n",
              "      <td>2021-05-01</td>\n",
              "      <td>54.0</td>\n",
              "      <td>rich</td>\n",
              "      <td>2021-05-01</td>\n",
              "    </tr>\n",
              "    <tr>\n",
              "      <th>7</th>\n",
              "      <td>6</td>\n",
              "      <td>s</td>\n",
              "      <td>41.0</td>\n",
              "      <td>2021-05-02</td>\n",
              "      <td>64.0</td>\n",
              "      <td>rich</td>\n",
              "      <td>2020-05-01</td>\n",
              "    </tr>\n",
              "    <tr>\n",
              "      <th>8</th>\n",
              "      <td>6</td>\n",
              "      <td>s</td>\n",
              "      <td>41.0</td>\n",
              "      <td>2021-05-02</td>\n",
              "      <td>-12.0</td>\n",
              "      <td>rich</td>\n",
              "      <td>2020-05-01</td>\n",
              "    </tr>\n",
              "    <tr>\n",
              "      <th>9</th>\n",
              "      <td>7</td>\n",
              "      <td>s</td>\n",
              "      <td>NaN</td>\n",
              "      <td>2021-05-15</td>\n",
              "      <td>64.0</td>\n",
              "      <td>rich</td>\n",
              "      <td>2020-05-01</td>\n",
              "    </tr>\n",
              "    <tr>\n",
              "      <th>10</th>\n",
              "      <td>7</td>\n",
              "      <td>s</td>\n",
              "      <td>NaN</td>\n",
              "      <td>2021-05-15</td>\n",
              "      <td>-12.0</td>\n",
              "      <td>rich</td>\n",
              "      <td>2020-05-01</td>\n",
              "    </tr>\n",
              "    <tr>\n",
              "      <th>11</th>\n",
              "      <td>8</td>\n",
              "      <td>e</td>\n",
              "      <td>23.0</td>\n",
              "      <td>2021-05-01</td>\n",
              "      <td>44.0</td>\n",
              "      <td>NaN</td>\n",
              "      <td>2020-05-01</td>\n",
              "    </tr>\n",
              "    <tr>\n",
              "      <th>12</th>\n",
              "      <td>9</td>\n",
              "      <td>n</td>\n",
              "      <td>12.0</td>\n",
              "      <td>2021-05-01</td>\n",
              "      <td>29.0</td>\n",
              "      <td>poor</td>\n",
              "      <td>2020-05-01</td>\n",
              "    </tr>\n",
              "    <tr>\n",
              "      <th>13</th>\n",
              "      <td>10</td>\n",
              "      <td>x</td>\n",
              "      <td>87.0</td>\n",
              "      <td>2021-05-01</td>\n",
              "      <td>40.0</td>\n",
              "      <td>poor</td>\n",
              "      <td>2020-05-01</td>\n",
              "    </tr>\n",
              "  </tbody>\n",
              "</table>\n",
              "</div>"
            ],
            "text/plain": [
              "    txn_id cust_id  price process_date_x   age wealth_segment process_date_y\n",
              "0        1       v   89.0     2021-05-01   NaN         medium     2020-05-01\n",
              "1        2       y   60.0     2021-05-01  41.0           rich     2020-05-01\n",
              "2        3       m   55.0     2021-05-01  30.0         medium     2020-05-01\n",
              "3        4       s    NaN     2021-05-01  64.0           rich     2020-05-01\n",
              "4        4       s    NaN     2021-05-01 -12.0           rich     2020-05-01\n",
              "5        5       z   50.0     2021-05-01  43.0           rich     2020-05-01\n",
              "6        5       z   50.0     2021-05-01  54.0           rich     2021-05-01\n",
              "7        6       s   41.0     2021-05-02  64.0           rich     2020-05-01\n",
              "8        6       s   41.0     2021-05-02 -12.0           rich     2020-05-01\n",
              "9        7       s    NaN     2021-05-15  64.0           rich     2020-05-01\n",
              "10       7       s    NaN     2021-05-15 -12.0           rich     2020-05-01\n",
              "11       8       e   23.0     2021-05-01  44.0            NaN     2020-05-01\n",
              "12       9       n   12.0     2021-05-01  29.0           poor     2020-05-01\n",
              "13      10       x   87.0     2021-05-01  40.0           poor     2020-05-01"
            ]
          },
          "metadata": {
            "tags": []
          },
          "execution_count": 19
        }
      ]
    }
  ]
}