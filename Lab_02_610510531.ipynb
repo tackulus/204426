{
  "nbformat": 4,
  "nbformat_minor": 5,
  "metadata": {
    "kernelspec": {
      "display_name": "Python 3",
      "language": "python",
      "name": "python3"
    },
    "language_info": {
      "codemirror_mode": {
        "name": "ipython",
        "version": 3
      },
      "file_extension": ".py",
      "mimetype": "text/x-python",
      "name": "python",
      "nbconvert_exporter": "python",
      "pygments_lexer": "ipython3",
      "version": "3.8.5"
    },
    "colab": {
      "name": "Lab_02_610510531.ipynb",
      "provenance": [],
      "collapsed_sections": [],
      "include_colab_link": true
    }
  },
  "cells": [
    {
      "cell_type": "markdown",
      "metadata": {
        "id": "view-in-github",
        "colab_type": "text"
      },
      "source": [
        "<a href=\"https://colab.research.google.com/github/tackulus/204426/blob/main/Lab_02_610510531.ipynb\" target=\"_parent\"><img src=\"https://colab.research.google.com/assets/colab-badge.svg\" alt=\"Open In Colab\"/></a>"
      ]
    },
    {
      "cell_type": "markdown",
      "metadata": {
        "id": "3UdodVPd8TXP"
      },
      "source": [
        "# **Workshop 2: Pandas Library (2)**\n",
        "**คำสั่ง** \n",
        "\n",
        "1.   ศึกษาวิธีการใช้งาน Pandas Library เบื้องต้นต่อไปนี้\n",
        "2.   ทดลองใช้งานฟังก์ชันใน Pandas Library ตามคำสั่งปฏิบัติการแต่ละข้อ\n",
        "3.   ตั้งชื่อไฟล์ python notebook นี้ในรูปแบบ Lab_02_XXXXXXXXX.ipynb โดย XXXXXXXXX คือ รหัสนักศึกษา\n",
        "4.   ทำการดาวน์โหลดและส่งไฟล์ Lab_02_XXXXXXXXX.ipynb ที่เว็บไซต์ http://hw.cs.science.cmu.ac.th "
      ],
      "id": "3UdodVPd8TXP"
    },
    {
      "cell_type": "code",
      "metadata": {
        "id": "mediterranean-cycling"
      },
      "source": [
        "import pandas as pd\n",
        "import numpy as np"
      ],
      "id": "mediterranean-cycling",
      "execution_count": null,
      "outputs": []
    },
    {
      "cell_type": "code",
      "metadata": {
        "id": "lENPI2AaBAPL"
      },
      "source": [
        "df1 = pd.DataFrame({\n",
        "    \"A\": [\"A0\", \"A1\", \"A2\", \"A3\"],\n",
        "    \"B\": [\"B0\", \"B1\", \"B2\", \"B3\"],\n",
        "    \"C\": [\"C0\", \"C1\", \"C2\", \"C3\"],\n",
        "    \"D\": [\"D0\", \"D1\", \"D2\", \"D3\"],\n",
        "},index=[0, 1, 2, 3])"
      ],
      "id": "lENPI2AaBAPL",
      "execution_count": null,
      "outputs": []
    },
    {
      "cell_type": "code",
      "metadata": {
        "id": "_mKZb08UBF-G"
      },
      "source": [
        "df2 = pd.DataFrame({\n",
        "    \"A\": [\"A4\", \"A5\", \"A6\", \"A7\"],\n",
        "    \"B\": [\"B4\", \"B5\", \"B6\", \"B7\"],\n",
        "    \"C\": [\"C4\", \"C5\", \"C6\", \"C7\"],\n",
        "    \"D\": [\"D4\", \"D5\", \"D6\", \"D7\"],\n",
        "},index=[4, 5, 6, 7])"
      ],
      "id": "_mKZb08UBF-G",
      "execution_count": null,
      "outputs": []
    },
    {
      "cell_type": "code",
      "metadata": {
        "id": "iKBxLGjJBHNX"
      },
      "source": [
        "df3 = pd.DataFrame({\n",
        "    \"A\": [\"A8\", \"A9\", \"A10\", \"A11\"],\n",
        "    \"B\": [\"B8\", \"B9\", \"B10\", \"B11\"],\n",
        "    \"C\": [\"C8\", \"C9\", \"C10\", \"C11\"],\n",
        "},index=[8, 9, 10, 11])"
      ],
      "id": "iKBxLGjJBHNX",
      "execution_count": null,
      "outputs": []
    },
    {
      "cell_type": "markdown",
      "metadata": {
        "id": "XdpK343y-_-u"
      },
      "source": [
        "**การรวม data frames โดยการเพิ่มแถวข้อมูล**"
      ],
      "id": "XdpK343y-_-u"
    },
    {
      "cell_type": "code",
      "metadata": {
        "id": "hM4F2LjWCQw2"
      },
      "source": [
        "# concatinate by row \n",
        "frames = [df1, df2, df3]\n",
        "result = pd.concat(frames) \n",
        "result"
      ],
      "id": "hM4F2LjWCQw2",
      "execution_count": null,
      "outputs": []
    },
    {
      "cell_type": "code",
      "metadata": {
        "id": "tFwzHfuYCeOj"
      },
      "source": [
        "# concatinate by row with key\n",
        "result = pd.concat(frames, keys=[\"x\", \"y\", \"z\"])\n",
        "result"
      ],
      "id": "tFwzHfuYCeOj",
      "execution_count": null,
      "outputs": []
    },
    {
      "cell_type": "code",
      "metadata": {
        "id": "_m9BRPbKDZ1A"
      },
      "source": [
        "df4 = pd.DataFrame({\n",
        "    \"B\": [\"B2-df4\", \"B3-df4\", \"B6-df4\", \"B7-df4\"],\n",
        "    \"D\": [\"D2-df4\", \"D3-df4\", \"D6-df4\", \"D7-df4\"],\n",
        "    \"F\": [\"F2-df4\", \"F3-df4\", \"F6-df4\", \"F7-df4\"],\n",
        "},index=[2, 3, 6, 7])"
      ],
      "id": "_m9BRPbKDZ1A",
      "execution_count": null,
      "outputs": []
    },
    {
      "cell_type": "code",
      "metadata": {
        "id": "7M96YhQ9DbWr"
      },
      "source": [
        "# concatinate by row with ignore index\n",
        "result = pd.concat([df1, df4], ignore_index=True, sort=False)\n",
        "result"
      ],
      "id": "7M96YhQ9DbWr",
      "execution_count": null,
      "outputs": []
    },
    {
      "cell_type": "markdown",
      "metadata": {
        "id": "7-qgxWPBExvc"
      },
      "source": [
        "**การรวม data frames โดยการเพิ่มคอลัมน์**"
      ],
      "id": "7-qgxWPBExvc"
    },
    {
      "cell_type": "code",
      "metadata": {
        "id": "UBRLeHWzExGa"
      },
      "source": [
        "result = pd.concat([df1, df4], axis=1)\n",
        "result"
      ],
      "id": "UBRLeHWzExGa",
      "execution_count": null,
      "outputs": []
    },
    {
      "cell_type": "markdown",
      "metadata": {
        "id": "kekPFxqV_ShV"
      },
      "source": [
        "ปฏิบัติการข้อ 1) จงรวมชุดข้อมูล adult ที่ถูกแยกออกเป็นส่วนๆ ได้แก่ d1  d2  d3  d4  และ d5 ให้อยู่ในตัวแปร data frames เดียว\n",
        "\n",
        "\n"
      ],
      "id": "kekPFxqV_ShV"
    },
    {
      "cell_type": "code",
      "metadata": {
        "id": "lM8U8tijFkHV"
      },
      "source": [
        "data = pd.read_csv(\"adult.csv\", na_values=\"?\")\n",
        "d1 = data.loc[0:1000,'age':'sex']\n",
        "d2 = data.loc[1001:,'age':'sex']\n",
        "d3 = data.loc[0:1000,'capital.gain':'native.country']\n",
        "d4 = data.loc[1001:,'capital.gain':'native.country']\n",
        "d5 = data.loc[:,['income']]"
      ],
      "id": "lM8U8tijFkHV",
      "execution_count": null,
      "outputs": []
    },
    {
      "cell_type": "code",
      "metadata": {
        "id": "hxK8I3jtGDJy"
      },
      "source": [
        "# Answer here!"
      ],
      "id": "hxK8I3jtGDJy",
      "execution_count": null,
      "outputs": []
    },
    {
      "cell_type": "markdown",
      "metadata": {
        "id": "SypBKwwkHDze"
      },
      "source": [
        "**การเพิ่มแถวข้อมูลในตัวแปร data frame**"
      ],
      "id": "SypBKwwkHDze"
    },
    {
      "cell_type": "code",
      "metadata": {
        "id": "zsZEP8HdIv4d"
      },
      "source": [
        "# append row without specify its key\n",
        "for i in range(0,4):\n",
        "  df1 = df1.append({'A': 'A'+str(i), 'B': 'B'+str(i), 'C':'C'+str(i), 'D':'D'+str(i)},ignore_index=True)\n",
        "df1"
      ],
      "id": "zsZEP8HdIv4d",
      "execution_count": null,
      "outputs": []
    },
    {
      "cell_type": "code",
      "metadata": {
        "id": "IBo7UwBSL1-c"
      },
      "source": [
        "# append row with specify its key\n",
        "for i in range(0,4):\n",
        "  df2 = df2.append(pd.DataFrame({'A': 'A'+str(i), 'B': 'B'+str(i), 'C':'C'+str(i), 'D':'D'+str(i)},index=[i]))\n",
        "df2"
      ],
      "id": "IBo7UwBSL1-c",
      "execution_count": null,
      "outputs": []
    },
    {
      "cell_type": "markdown",
      "metadata": {
        "id": "ziThO6IGOfVx"
      },
      "source": [
        "ปฏิบัติการข้อ 2) จงเพิ่มข้อมูลจำนวน 10 ข้อมูลต่อไปนี้ ลงในตัวแปร data frame ชื่อ bill\n",
        "\n",
        "\n",
        "1.   'The Riddler', 'Restaurant', 29.02\n",
        "2.   'Smitten Ice Cream', 'Restaurant', 98.60\n",
        "3.   'Suppenkuche', 'Restaurant', 40.23\n",
        "4.   'Maven', 'bar', 45.20\n",
        "\n"
      ],
      "id": "ziThO6IGOfVx"
    },
    {
      "cell_type": "code",
      "metadata": {
        "id": "hRvjMC7rPW9u"
      },
      "source": [
        "bill = pd.DataFrame([('Foreign Cinema', 'Restaurant', 289.0),\n",
        "                   ('Liho Liho', 'Restaurant', 224.0),\n",
        "                   ('500 Club', 'bar', 80.5),\n",
        "                   ('The Square', 'bar', 25.30)],\n",
        "           columns=('name', 'type', 'AvgBill'))\n",
        "bill"
      ],
      "id": "hRvjMC7rPW9u",
      "execution_count": null,
      "outputs": []
    },
    {
      "cell_type": "code",
      "metadata": {
        "id": "OY8p1a4fOfC1"
      },
      "source": [
        "nameList = ['The Riddler','Smitten Ice Cream','Suppenkuche','Maven']\n",
        "typeList = ['Restaurant',  'Restaurant',  'Restaurant', 'bar']\n",
        "AvgBill = [29.02,98.60,40.23,45.20]"
      ],
      "id": "OY8p1a4fOfC1",
      "execution_count": null,
      "outputs": []
    },
    {
      "cell_type": "code",
      "metadata": {
        "id": "eimFTg6-SUuQ"
      },
      "source": [
        "# Answer here!"
      ],
      "id": "eimFTg6-SUuQ",
      "execution_count": null,
      "outputs": []
    },
    {
      "cell_type": "markdown",
      "metadata": {
        "id": "6DBVNO8eTbZa"
      },
      "source": [
        "**การลบแถวข้อมูล**"
      ],
      "id": "6DBVNO8eTbZa"
    },
    {
      "cell_type": "code",
      "metadata": {
        "id": "deDVP7YnTgHd"
      },
      "source": [
        "# delete a single row by index value 0\n",
        "df1 = df1.drop(labels=0, axis=0)\n",
        "df1"
      ],
      "id": "deDVP7YnTgHd",
      "execution_count": null,
      "outputs": []
    },
    {
      "cell_type": "code",
      "metadata": {
        "id": "mGhpuZrKTnrY"
      },
      "source": [
        "# delete a few specified rows\n",
        "df1 = df1.drop(labels=[1,3], axis=0)\n",
        "df1"
      ],
      "id": "mGhpuZrKTnrY",
      "execution_count": null,
      "outputs": []
    },
    {
      "cell_type": "markdown",
      "metadata": {
        "id": "GfPV_t_yUT1M"
      },
      "source": [
        "ปฏิบัติการข้อ 3) จงลบข้อมูลแถว*เลขคู่*ทั้งหมดจากตัวแปร data"
      ],
      "id": "GfPV_t_yUT1M"
    },
    {
      "cell_type": "code",
      "metadata": {
        "id": "V1zXWqBNT_jO"
      },
      "source": [
        "# Answer here!"
      ],
      "id": "V1zXWqBNT_jO",
      "execution_count": null,
      "outputs": []
    },
    {
      "cell_type": "markdown",
      "metadata": {
        "id": "NzdSH681UnV5"
      },
      "source": [
        "**การลบคอลัมน์ของตัวแปร data frame**"
      ],
      "id": "NzdSH681UnV5"
    },
    {
      "cell_type": "code",
      "metadata": {
        "id": "D8NGB407UwO6"
      },
      "source": [
        "# Delete a single column from the DataFrame\n",
        "df1 = df1.drop(labels=\"A\", axis=1)\n",
        "df1\n"
      ],
      "id": "D8NGB407UwO6",
      "execution_count": null,
      "outputs": []
    },
    {
      "cell_type": "code",
      "metadata": {
        "id": "WGwfz3RZiBre"
      },
      "source": [
        "# Delete multiple columns from the DataFrame\n",
        "df1 = df1.drop(labels=[\"C\", \"D\"], axis=1)\n",
        "df1"
      ],
      "id": "WGwfz3RZiBre",
      "execution_count": null,
      "outputs": []
    },
    {
      "cell_type": "code",
      "metadata": {
        "id": "6oJDtXi7iM6T"
      },
      "source": [
        "# Delete a single named column from the DataFrame\n",
        "df2 = df2.drop(columns=\"A\")\n",
        "df2"
      ],
      "id": "6oJDtXi7iM6T",
      "execution_count": null,
      "outputs": []
    },
    {
      "cell_type": "code",
      "metadata": {
        "id": "H3dd646iircL"
      },
      "source": [
        "# Delete a column by column number\n",
        "df2.drop(columns=df2.columns[3], inplace=True)\n",
        "df2"
      ],
      "id": "H3dd646iircL",
      "execution_count": null,
      "outputs": []
    },
    {
      "cell_type": "markdown",
      "metadata": {
        "id": "UIzIed7gjY2c"
      },
      "source": [
        "ปฏิบัติการข้อ 4) จงลบคอลัมน์ข้อมูล marital.status  relationship  และ native.country ของตัวแปร data"
      ],
      "id": "UIzIed7gjY2c"
    },
    {
      "cell_type": "code",
      "metadata": {
        "id": "GNZUfTmxk02j"
      },
      "source": [
        "# Answer here!"
      ],
      "id": "GNZUfTmxk02j",
      "execution_count": null,
      "outputs": []
    },
    {
      "cell_type": "markdown",
      "metadata": {
        "id": "cVEVOPIPltH6"
      },
      "source": [
        "**การเปลี่ยนชื่อคอลัมน์**"
      ],
      "id": "cVEVOPIPltH6"
    },
    {
      "cell_type": "code",
      "metadata": {
        "id": "Gs06-Xhnlw7c"
      },
      "source": [
        "df3.rename(columns = {\"A\":\"AA\", \"B\":\"BB\"}, inplace = True)\n",
        "df3"
      ],
      "id": "Gs06-Xhnlw7c",
      "execution_count": null,
      "outputs": []
    },
    {
      "cell_type": "markdown",
      "metadata": {
        "id": "LT1J4UqAmnbM"
      },
      "source": [
        "ปฏิบัติการข้อ 5) จงเปลี่ยนชื่อคอลัมน์ของตัวแปร data ที่มีสัญลักษณ์ . ในชื่อคอลัมน์ โดยเปลี่ยนจากเครื่องหมาย . เป็นเครื่องหมาย _"
      ],
      "id": "LT1J4UqAmnbM"
    },
    {
      "cell_type": "code",
      "metadata": {
        "id": "kxUyF9lumEZT"
      },
      "source": [
        "# Answer here!"
      ],
      "id": "kxUyF9lumEZT",
      "execution_count": null,
      "outputs": []
    },
    {
      "cell_type": "markdown",
      "metadata": {
        "id": "0iE8ZS7Wm51Y"
      },
      "source": [
        "**การเลือกตัวแปรหนึ่งเป็นค่า index ของข้อมูล**"
      ],
      "id": "0iE8ZS7Wm51Y"
    },
    {
      "cell_type": "code",
      "metadata": {
        "id": "crg-sDt_nDwa"
      },
      "source": [
        "# set a single index\n",
        "df3.set_index(\"C\",inplace = True)\n",
        "df3"
      ],
      "id": "crg-sDt_nDwa",
      "execution_count": null,
      "outputs": []
    },
    {
      "cell_type": "code",
      "metadata": {
        "id": "YrCiTAzhnebf"
      },
      "source": [
        "# set multiple indexes\n",
        "df4.set_index([\"B\",\"D\"],inplace = True)\n",
        "df4"
      ],
      "id": "YrCiTAzhnebf",
      "execution_count": null,
      "outputs": []
    },
    {
      "cell_type": "markdown",
      "metadata": {
        "id": "rruoIO0ln5SS"
      },
      "source": [
        "ปฏิบัติการข้อ 6) จงตั้งค่าให้ตัวแปร fnlwgt เป็น index ของตัวแปร data"
      ],
      "id": "rruoIO0ln5SS"
    },
    {
      "cell_type": "code",
      "metadata": {
        "id": "pno94Eg_oDks"
      },
      "source": [
        "# Answer here!"
      ],
      "id": "pno94Eg_oDks",
      "execution_count": null,
      "outputs": []
    }
  ]
}